{
 "cells": [
  {
   "cell_type": "markdown",
   "metadata": {},
   "source": [
    "# Logboeken"
   ]
  },
  {
   "cell_type": "markdown",
   "metadata": {},
   "source": [
    "## Sprint 1"
   ]
  },
  {
   "cell_type": "markdown",
   "metadata": {},
   "source": [
    "### Roel Moeyersoons"
   ]
  },
  {
   "cell_type": "markdown",
   "metadata": {},
   "source": [
    "* Exploratory data analysis: \n",
    "    - analyseren van products en sub-products en plotten met piecharts. \n",
    "    - Analoog analyseren welke issues er bij welke producten voorkomen en omgekeerd + plotten (barh's).\n",
    "* Data preprocessing: sample bepalen\n",
    "* KNN: beetje meewerken/corrigeren aan hyperparam tuning maar is vooral door Tim gedaan\n",
    "* Logistic regression: Hyperparam tuning met gridsearchcv\n",
    "* Tekst aanvullen bij bovenstaande dingen\n",
    "* Tekst aanvullen/bijwerken bij alles tot en met 3.2"
   ]
  },
  {
   "cell_type": "markdown",
   "metadata": {},
   "source": [
    "### Tim De Smet\n",
    "\n",
    "* Opstarten Google Colab notebook + Google Cloud datastorage\n",
    "* Overschakeling naar Jupyter notebook\n",
    "* Inlezen van data\n",
    "* Exploratory Data Analysis:\n",
    "    * Basic information display\n",
    "    * Distributie plot (niet de piecharts, deze heeft Roel gemaakt)\n",
    "    * Uitprinten distributies van Products/SubProducts  en Issues/Subissues (niet distributie plots van Issues per Product)\n",
    "    * Algemene documentatie\n",
    "* Problemen beschrijven\n",
    "* Simplification and balancing (niet samplen)\n",
    "* Feature extraction with TF-IDF\n",
    "* Dimensionality reduction with TruncatedSVD\n",
    "* Train-Test-Split\n",
    "* K-nearest neighbors (hyperparameter tuning samen met Roel)\n",
    "* Logistic regression (niet hyperparameter tuning)\n",
    "* Support Vector Machines\n",
    "    "
   ]
  },
  {
   "cell_type": "markdown",
   "metadata": {},
   "source": [
    "### Lennart Onghena\n",
    "\n",
    "* research word2vec and doc2vec, implement doc2vec"
   ]
  },
  {
   "cell_type": "markdown",
   "metadata": {},
   "source": [
    "## Sprint 2"
   ]
  },
  {
   "cell_type": "markdown",
   "metadata": {},
   "source": [
    "### Roel Moeyersoons\n",
    "* DBscan almost completely\n",
    "* Adding minor things to kmeans and adding minor text on some places\n",
    "* Researching how to evaluate unsupervised clustering algorithms (internal/external)\n",
    "* Researching how to evaluate DBscan (DBCV) (but didn't get to make it work)"
   ]
  },
  {
   "cell_type": "markdown",
   "metadata": {},
   "source": [
    "### Lennart Onghena\n",
    "* researching higher dimensional clustering, curse of dimensionality, metrics\n",
    "* comparing cluster labels to 'Product' labels in table\n",
    "* researching and using HDBScan\n",
    "* research hyperparameter tuning with pipelines (use in next sprint)"
   ]
  },
  {
   "cell_type": "code",
   "execution_count": null,
   "metadata": {},
   "outputs": [],
   "source": []
  }
 ],
 "metadata": {
  "kernelspec": {
   "display_name": "Python 3",
   "language": "python",
   "name": "python3"
  },
  "language_info": {
   "codemirror_mode": {
    "name": "ipython",
    "version": 3
   },
   "file_extension": ".py",
   "mimetype": "text/x-python",
   "name": "python",
   "nbconvert_exporter": "python",
   "pygments_lexer": "ipython3",
   "version": "3.7.6"
  }
 },
 "nbformat": 4,
 "nbformat_minor": 4
}
