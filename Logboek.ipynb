{
 "cells": [
  {
   "cell_type": "markdown",
   "metadata": {},
   "source": [
    "# Logboeken"
   ]
  },
  {
   "cell_type": "markdown",
   "metadata": {},
   "source": [
    "## Sprint 1"
   ]
  },
  {
   "cell_type": "markdown",
   "metadata": {},
   "source": [
    "### Roel Moeyersoons"
   ]
  },
  {
   "cell_type": "markdown",
   "metadata": {},
   "source": [
    "* Exploratory data analysis: \n",
    "    - analyseren van products en sub-products en plotten met piecharts. \n",
    "    - Analoog analyseren welke issues er bij welke producten voorkomen en omgekeerd + plotten (barh's).\n",
    "* Data preprocessing: sample bepalen\n",
    "* KNN: beetje meewerken/corrigeren aan hyperparam tuning maar is vooral door Tim gedaan\n",
    "* Logistic regression: Hyperparam tuning met gridsearchcv\n",
    "* Tekst aanvullen bij bovenstaande dingen\n",
    "* Tekst aanvullen/bijwerken bij alles tot en met 3.2"
   ]
  },
  {
   "cell_type": "code",
   "execution_count": null,
   "metadata": {},
   "outputs": [],
   "source": []
  }
 ],
 "metadata": {
  "kernelspec": {
   "display_name": "Python 3",
   "language": "python",
   "name": "python3"
  },
  "language_info": {
   "codemirror_mode": {
    "name": "ipython",
    "version": 3
   },
   "file_extension": ".py",
   "mimetype": "text/x-python",
   "name": "python",
   "nbconvert_exporter": "python",
   "pygments_lexer": "ipython3",
   "version": "3.7.4"
  }
 },
 "nbformat": 4,
 "nbformat_minor": 4
}
