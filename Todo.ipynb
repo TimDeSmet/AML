{
 "cells": [
  {
   "cell_type": "markdown",
   "metadata": {},
   "source": [
    "2.1: WE ZOUDEN HIER OOK KUNNEN OPTEREN VAN GEWICHTEN TOE TE KENNEN AAN ONS MODEL. MISSCHIEN KUNNEN WE DIT OOK NOG PROBEREN\n",
    "\n",
    "2.2: HIER KUNNEN WE NOG WORD2VEC PROBEREN\n",
    "\n",
    "3.3: Hyperparam tuning met pipelines, dit eens gebruiken in volgende sprint ofzo\n",
    "\n",
    "\n",
    "* Overal meer uitleg over onze veronderstellingen neerschrijven en staven wat we waarom hebben gedaan"
   ]
  },
  {
   "cell_type": "code",
   "execution_count": null,
   "metadata": {},
   "outputs": [],
   "source": []
  }
 ],
 "metadata": {
  "kernelspec": {
   "display_name": "Python 3",
   "language": "python",
   "name": "python3"
  },
  "language_info": {
   "codemirror_mode": {
    "name": "ipython",
    "version": 3
   },
   "file_extension": ".py",
   "mimetype": "text/x-python",
   "name": "python",
   "nbconvert_exporter": "python",
   "pygments_lexer": "ipython3",
   "version": "3.7.4"
  }
 },
 "nbformat": 4,
 "nbformat_minor": 4
}
