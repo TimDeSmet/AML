{
 "cells": [
  {
   "cell_type": "markdown",
   "metadata": {
    "colab_type": "text",
    "id": "s-PkItGqEVNx"
   },
   "source": [
    "# Sprint 3\n",
    "\n",
    "During the course we learned how to approach machine learning problems, we gained intuition and used multiple different algorithms. \n",
    "\n",
    "In the third and final sprint we decided to use these building to try and create a machine learning model end-to-end. We decided to put a lot of our focus on how the solution we would create could actually be used. Creating models in Jupyter notebook thought us how to experiment with machine learning models. But now we decided to go beyond the course so that we would learn how the models we learned to create could actually be used by users.\n",
    "\n",
    "This meant that during Sprint 3 we would need to do the following things:\n",
    "* Define a problem to solve.\n",
    "* Find a way to solve our problem.\n",
    "* Make our solution available for actual users.\n",
    "\n",
    "> **note**: Since we are using multiple cloud tools througout the notebook we recommend uploading this file to a google colab notebook.\n",
    "\n",
    ">**note**: Some command executions require authentication. These will throw errors, however we put them in the notebook for documentation purposes."
   ]
  },
  {
   "cell_type": "code",
   "execution_count": 2,
   "metadata": {
    "colab": {
     "base_uri": "https://localhost:8080/",
     "height": 496
    },
    "colab_type": "code",
    "id": "i87hb1B2EVNz",
    "outputId": "3e017485-6a90-4288-dacf-ed7e41c5fd80"
   },
   "outputs": [
    {
     "name": "stdout",
     "output_type": "stream",
     "text": [
      "Collecting gcsfs\n",
      "  Downloading https://files.pythonhosted.org/packages/ce/5c/bc61dbd2e5b61d84486a96a64ca43512c9ac085487464562182f58406290/gcsfs-0.6.2-py2.py3-none-any.whl\n",
      "Requirement already satisfied: requests in /usr/local/lib/python3.6/dist-packages (from gcsfs) (2.23.0)\n",
      "Requirement already satisfied: google-auth-oauthlib in /usr/local/lib/python3.6/dist-packages (from gcsfs) (0.4.1)\n",
      "Requirement already satisfied: decorator in /usr/local/lib/python3.6/dist-packages (from gcsfs) (4.4.2)\n",
      "Requirement already satisfied: google-auth>=1.2 in /usr/local/lib/python3.6/dist-packages (from gcsfs) (1.7.2)\n",
      "Requirement already satisfied: fsspec>=0.6.0 in /usr/local/lib/python3.6/dist-packages (from gcsfs) (0.7.4)\n",
      "Requirement already satisfied: chardet<4,>=3.0.2 in /usr/local/lib/python3.6/dist-packages (from requests->gcsfs) (3.0.4)\n",
      "Requirement already satisfied: urllib3!=1.25.0,!=1.25.1,<1.26,>=1.21.1 in /usr/local/lib/python3.6/dist-packages (from requests->gcsfs) (1.24.3)\n",
      "Requirement already satisfied: idna<3,>=2.5 in /usr/local/lib/python3.6/dist-packages (from requests->gcsfs) (2.9)\n",
      "Requirement already satisfied: certifi>=2017.4.17 in /usr/local/lib/python3.6/dist-packages (from requests->gcsfs) (2020.4.5.1)\n",
      "Requirement already satisfied: requests-oauthlib>=0.7.0 in /usr/local/lib/python3.6/dist-packages (from google-auth-oauthlib->gcsfs) (1.3.0)\n",
      "Requirement already satisfied: setuptools>=40.3.0 in /usr/local/lib/python3.6/dist-packages (from google-auth>=1.2->gcsfs) (46.4.0)\n",
      "Requirement already satisfied: six>=1.9.0 in /usr/local/lib/python3.6/dist-packages (from google-auth>=1.2->gcsfs) (1.12.0)\n",
      "Requirement already satisfied: cachetools<3.2,>=2.0.0 in /usr/local/lib/python3.6/dist-packages (from google-auth>=1.2->gcsfs) (3.1.1)\n",
      "Requirement already satisfied: pyasn1-modules>=0.2.1 in /usr/local/lib/python3.6/dist-packages (from google-auth>=1.2->gcsfs) (0.2.8)\n",
      "Requirement already satisfied: rsa<4.1,>=3.1.4 in /usr/local/lib/python3.6/dist-packages (from google-auth>=1.2->gcsfs) (4.0)\n",
      "Requirement already satisfied: oauthlib>=3.0.0 in /usr/local/lib/python3.6/dist-packages (from requests-oauthlib>=0.7.0->google-auth-oauthlib->gcsfs) (3.1.0)\n",
      "Requirement already satisfied: pyasn1<0.5.0,>=0.4.6 in /usr/local/lib/python3.6/dist-packages (from pyasn1-modules>=0.2.1->google-auth>=1.2->gcsfs) (0.4.8)\n",
      "Installing collected packages: gcsfs\n",
      "Successfully installed gcsfs-0.6.2\n",
      "/bin/bash: conda: command not found\n"
     ]
    },
    {
     "name": "stderr",
     "output_type": "stream",
     "text": [
      "/usr/local/lib/python3.6/dist-packages/statsmodels/tools/_testing.py:19: FutureWarning: pandas.util.testing is deprecated. Use the functions in the public API at pandas.testing instead.\n",
      "  import pandas.util.testing as tm\n"
     ]
    },
    {
     "name": "stdout",
     "output_type": "stream",
     "text": [
      "[nltk_data] Downloading package stopwords to /root/nltk_data...\n",
      "[nltk_data]   Unzipping corpora/stopwords.zip.\n",
      "TensorFlow 1.x selected.\n"
     ]
    }
   ],
   "source": [
    "!pip install gcsfs\n",
    "!conda install --yes --prefix {sys.prefix} nltk bs4 gensim\n",
    "\n",
    "import sys\n",
    "import os \n",
    "\n",
    "import pandas as pd\n",
    "import numpy as np\n",
    "\n",
    "import matplotlib.pyplot as plt\n",
    "import seaborn as sns\n",
    "\n",
    "import re\n",
    "import string\n",
    "import nltk\n",
    "nltk.download('stopwords')\n",
    "from nltk.corpus import stopwords\n",
    "from bs4 import BeautifulSoup\n",
    "from nltk.stem.snowball import SnowballStemmer\n",
    "\n",
    "import multiprocessing\n",
    "from gensim.sklearn_api import D2VTransformer\n",
    "\n",
    "from sklearn.model_selection import train_test_split\n",
    "\n",
    "\n",
    "%tensorflow_version 1.x\n",
    "import tensorflow as tf\n",
    "import tensorflow_hub as hub\n",
    "import shutil\n",
    "\n",
    "from tensorflow import keras\n",
    "from tensorflow.keras.models import Sequential\n",
    "from tensorflow.keras.layers import Dense\n",
    "from tensorflow.keras.optimizers import SGD\n",
    "from tensorflow.keras.losses import CategoricalCrossentropy"
   ]
  },
  {
   "cell_type": "markdown",
   "metadata": {
    "colab_type": "text",
    "id": "Lj_udO32EVN7"
   },
   "source": [
    "## Defining a problem to solve\n",
    "\n",
    "### Idea 1\n",
    "\n",
    "The following section will describe the first idea we had and the steps we took to find out that the data was not what we expected it to be. \n",
    "\n",
    "**Idea 1**: Can we predict the quality (Consumer disputed?)  of an answer (Company response to consumer + Timely response) based upon the customers’ messages (Consumer complaint narrative) and the context (Product + Issue)?"
   ]
  },
  {
   "cell_type": "markdown",
   "metadata": {
    "colab_type": "text",
    "id": "Z8q66bupEVN8"
   },
   "source": [
    "#### Reading the data\n",
    "\n",
    "Our data is stored in Google Cloud Storage within the Google Cloud Platform. This requires some initial setup."
   ]
  },
  {
   "cell_type": "code",
   "execution_count": 3,
   "metadata": {
    "colab": {
     "base_uri": "https://localhost:8080/",
     "height": 51
    },
    "colab_type": "code",
    "id": "FUBBLIY4FLjp",
    "outputId": "1ac96d74-daa8-4dab-8d29-5ac1af2603ca"
   },
   "outputs": [
    {
     "name": "stdout",
     "output_type": "stream",
     "text": [
      "Updated property [core/project].\n",
      "Updated property [compute/region].\n"
     ]
    }
   ],
   "source": [
    "PROJECT = 'appliedml-270208'\n",
    "BUCKET = 'applied_machine_learning_bucket'\n",
    "REGION = 'europe-west1'\n",
    "\n",
    "os.environ['PROJECT'] = PROJECT\n",
    "os.environ['BUCKET'] = BUCKET\n",
    "os.environ['REGION'] = REGION\n",
    "\n",
    "!gcloud config set project $PROJECT\n",
    "!gcloud config set compute/region $REGION"
   ]
  },
  {
   "cell_type": "markdown",
   "metadata": {
    "colab_type": "text",
    "id": "KDG5ZYRCFXkb"
   },
   "source": [
    "Lets read the data:"
   ]
  },
  {
   "cell_type": "code",
   "execution_count": 0,
   "metadata": {
    "colab": {},
    "colab_type": "code",
    "id": "2dzLbRJyEVN8"
   },
   "outputs": [],
   "source": [
    "raw_data = pd.read_csv('gs://'+BUCKET+'/complaints-2020-01-22_08_24.csv')\n",
    "#raw_data = pd.read_csv('complaints-2020-01-22_08_24.csv')"
   ]
  },
  {
   "cell_type": "markdown",
   "metadata": {
    "colab_type": "text",
    "id": "1sqJsfIvEVN_"
   },
   "source": [
    "#### Selecting columns\n",
    "\n",
    "The selection of the columns was based upon our knowledge gained from the EDA phases in previous sprints."
   ]
  },
  {
   "cell_type": "code",
   "execution_count": 0,
   "metadata": {
    "colab": {},
    "colab_type": "code",
    "id": "yt5FjbFmEVOA"
   },
   "outputs": [],
   "source": [
    "relevant_data = raw_data[[\n",
    "    'Consumer complaint narrative', \n",
    "    'Company public response',\n",
    "    'Company response to consumer',\n",
    "    'Timely response?', \n",
    "    'Consumer disputed?', \n",
    "    'Product', \n",
    "    'Issue']]\n",
    "\n",
    "#relevant_data.head()"
   ]
  },
  {
   "cell_type": "markdown",
   "metadata": {
    "colab_type": "text",
    "id": "ASd3sugtEVOE"
   },
   "source": [
    "As seen below the Company response to consumer column is a categorical column. We found this out by doing EDA. We were expecting a text values similar to the Consumer complaint narrative column."
   ]
  },
  {
   "cell_type": "code",
   "execution_count": 6,
   "metadata": {
    "colab": {
     "base_uri": "https://localhost:8080/",
     "height": 68
    },
    "colab_type": "code",
    "id": "uKrkP_DMEVOE",
    "outputId": "5bea78d7-cb6b-46b4-866e-c901a50bcefd"
   },
   "outputs": [
    {
     "data": {
      "text/plain": [
       "array(['Closed with explanation', 'Closed with non-monetary relief',\n",
       "       'Closed with monetary relief', 'Untimely response', 'Closed',\n",
       "       'In progress', 'None'], dtype=object)"
      ]
     },
     "execution_count": 6,
     "metadata": {
      "tags": []
     },
     "output_type": "execute_result"
    }
   ],
   "source": [
    "relevant_data['Company response to consumer'].unique()"
   ]
  },
  {
   "cell_type": "markdown",
   "metadata": {
    "colab_type": "text",
    "id": "z-OLX-TOEVOH"
   },
   "source": [
    "Since the data was not what we expected we decided to come up with a new idea. We are aware we could have used this feature as a categorical column and tried to solve the problem. However, we decided to pivot to a new idea."
   ]
  },
  {
   "cell_type": "markdown",
   "metadata": {
    "colab_type": "text",
    "id": "htD1BCc4EVOI"
   },
   "source": [
    "### Final Idea\n",
    "\n",
    "The following section will describe the final idea we decided upon to solve. \n",
    "\n",
    "**Idea**: Can we predict the type of issue (Issue) upon the message (Consumer complaint narrative) sent to the company (Company) and the relevant product (Product)? "
   ]
  },
  {
   "cell_type": "markdown",
   "metadata": {
    "colab_type": "text",
    "id": "udCFq8xwEVOJ"
   },
   "source": [
    "## Finding a way to solve our problem\n",
    "\n",
    "Now that our problem (classification) was defined we experimented with different approaches to solve this problem."
   ]
  },
  {
   "cell_type": "markdown",
   "metadata": {
    "colab_type": "text",
    "id": "4GToFE0wEVOK"
   },
   "source": [
    "### Distribution analysis of issues\n",
    "\n",
    "Since we started from a new idea instead of optimizing a previously made solution, we needed a bit more exploratory data analysis."
   ]
  },
  {
   "cell_type": "code",
   "execution_count": 7,
   "metadata": {
    "colab": {
     "base_uri": "https://localhost:8080/",
     "height": 298
    },
    "colab_type": "code",
    "id": "iM0zun5YEVOK",
    "outputId": "37410d22-2dad-4c50-962f-07ead11a12b6"
   },
   "outputs": [
    {
     "name": "stdout",
     "output_type": "stream",
     "text": [
      "161\n"
     ]
    },
    {
     "data": {
      "text/plain": [
       "Text(0.5, 1.0, 'issues')"
      ]
     },
     "execution_count": 7,
     "metadata": {
      "tags": []
     },
     "output_type": "execute_result"
    },
    {
     "data": {
      "image/png": "[encoded data removed]",
      "text/plain": [
       "<Figure size 432x288 with 1 Axes>"
      ]
     },
     "metadata": {
      "tags": []
     },
     "output_type": "display_data"
    }
   ],
   "source": [
    "print(len(raw_data['Issue'].unique()))\n",
    "\n",
    "issues = raw_data[\"Issue\"].value_counts()\n",
    "patches = plt.pie(issues.values)\n",
    "plt.title(\"issues\")"
   ]
  },
  {
   "cell_type": "markdown",
   "metadata": {
    "colab_type": "text",
    "id": "ZpYXmXTdEVON"
   },
   "source": [
    "We can see that the issue occurance is not balanced at all. This suggested to us that we would need to balance our training data.\n",
    "\n",
    "We can see that we have 161 classes that are very skewed. Since we have a lot of classes with few to almost no records we decide to work with a cutoff. Issues that have less records than the cutoff value will be grouped together in the ‘Unknown’ class."
   ]
  },
  {
   "cell_type": "markdown",
   "metadata": {
    "colab_type": "text",
    "id": "2ZSILCHMEVOO"
   },
   "source": [
    "### Transform the data"
   ]
  },
  {
   "cell_type": "code",
   "execution_count": 0,
   "metadata": {
    "colab": {},
    "colab_type": "code",
    "id": "tQENyP3uEVOP"
   },
   "outputs": [],
   "source": [
    "KEEP_LOWER_BOUDNARY = 2000\n",
    "\n",
    "def define_keeps(df):\n",
    "    counts = df['Issue'].value_counts()\n",
    "    names = df['Issue'].value_counts().index\n",
    "    keep = [ names[i] for i, issue_count in enumerate(counts) if issue_count > KEEP_LOWER_BOUDNARY ]\n",
    "\n",
    "    return keep\n",
    "\n",
    "KEEPS = define_keeps(raw_data)\n",
    "\n",
    "cutoff_data = raw_data.copy()\n",
    "cutoff_data.loc[~cutoff_data['Issue'].isin(KEEPS), 'Issue'] = \"Unknown\""
   ]
  },
  {
   "cell_type": "code",
   "execution_count": 11,
   "metadata": {
    "colab": {
     "base_uri": "https://localhost:8080/",
     "height": 51
    },
    "colab_type": "code",
    "id": "LOo9hXu7qMxu",
    "outputId": "ab7a87df-4624-4def-895f-3f47515b1421"
   },
   "outputs": [
    {
     "name": "stdout",
     "output_type": "stream",
     "text": [
      "Issues that are kept: (437347, 18)\n",
      "Issues that are moved to Unknown: (48354, 18)\n"
     ]
    }
   ],
   "source": [
    "print(f'Issues that are kept: {cutoff_data.loc[cutoff_data[\"Issue\"].isin(KEEPS),:].shape}')\n",
    "print(f'Issues that are moved to Unknown: {cutoff_data.loc[~cutoff_data[\"Issue\"].isin(KEEPS),:].shape}')"
   ]
  },
  {
   "cell_type": "markdown",
   "metadata": {
    "colab_type": "text",
    "id": "Z-mdpOGOEVOR"
   },
   "source": [
    "We prefer not to have whitespace in the feature names. That’s why we executed the following code:"
   ]
  },
  {
   "cell_type": "code",
   "execution_count": 0,
   "metadata": {
    "colab": {},
    "colab_type": "code",
    "id": "X888hXSNEVOS"
   },
   "outputs": [],
   "source": [
    "cutoff_data['Message'] = cutoff_data['Consumer complaint narrative']"
   ]
  },
  {
   "cell_type": "markdown",
   "metadata": {
    "colab_type": "text",
    "id": "oAvhkRW1EVOV"
   },
   "source": [
    "### Cleaning the data\n",
    "\n",
    "We decided to clean our data since this would improve results."
   ]
  },
  {
   "cell_type": "code",
   "execution_count": 0,
   "metadata": {
    "colab": {},
    "colab_type": "code",
    "id": "OnMauTnTEVOV"
   },
   "outputs": [],
   "source": [
    "stopWords = stopWords = set(stopwords.words('english'))\n",
    "stemmer = SnowballStemmer(\"english\")\n",
    "  \n",
    "def preprocessing(text):\n",
    "    text = BeautifulSoup(text, \"html.parser\").text\n",
    "    translator = str.maketrans('', '', string.punctuation) \n",
    "    text = text.translate(translator).lower()\n",
    "    text = re.sub(r'(x)\\1+', '', text)\n",
    "    text = re.sub(r'[0-9]', r' ', text)\n",
    "    tokens = []\n",
    "    for word in text.split():\n",
    "        word = stemmer.stem(word)\n",
    "        if word not in stopWords:\n",
    "            tokens.append(word)\n",
    "    return \" \".join(tokens)"
   ]
  },
  {
   "cell_type": "code",
   "execution_count": 0,
   "metadata": {
    "colab": {},
    "colab_type": "code",
    "id": "0-gtemJzEVOZ"
   },
   "outputs": [],
   "source": [
    "cleaned_data = cutoff_data.copy()\n",
    "cleaned_data['Message'] = cleaned_data['Message'].apply(preprocessing)"
   ]
  },
  {
   "cell_type": "markdown",
   "metadata": {
    "colab_type": "text",
    "id": "of_f00wLEVOe"
   },
   "source": [
    "### Defining constants\n",
    "\n",
    "At this point, the data has the desired shape. This lets us define constants that we can use throughout the notebook."
   ]
  },
  {
   "cell_type": "code",
   "execution_count": 0,
   "metadata": {
    "colab": {},
    "colab_type": "code",
    "id": "p950PhDqEVOf"
   },
   "outputs": [],
   "source": [
    "CSV_COLUMNS = ['Product', 'Company', 'Message', 'Issue']\n",
    "CSV_FEATURES = ['Product', 'Company', 'Message']\n",
    "TARGET_LABEL = 'Issue'\n",
    "DEFAULTS = [['Unknown'], ['Unknown'], ['Unknown']]\n",
    "\n",
    "PROD_VOCAB = np.append(cleaned_data['Product'].unique(), 'Unknown')\n",
    "COMP_VOCAB = np.append(cleaned_data['Company'].unique(), 'Unknown')\n",
    "ISS_VOCAB = cleaned_data['Issue'].unique()"
   ]
  },
  {
   "cell_type": "markdown",
   "metadata": {
    "colab_type": "text",
    "id": "K-o1-j2MEVOi"
   },
   "source": [
    "### Selecting relevant columns\n",
    "\n",
    "There is no need to hold on to irrelevant columns."
   ]
  },
  {
   "cell_type": "code",
   "execution_count": 19,
   "metadata": {
    "colab": {
     "base_uri": "https://localhost:8080/",
     "height": 204
    },
    "colab_type": "code",
    "id": "OnBHqdDfEVOi",
    "outputId": "8f455c20-a822-40f2-9fc0-59bf9195266c"
   },
   "outputs": [
    {
     "data": {
      "text/html": [
       "<div>\n",
       "<style scoped>\n",
       "    .dataframe tbody tr th:only-of-type {\n",
       "        vertical-align: middle;\n",
       "    }\n",
       "\n",
       "    .dataframe tbody tr th {\n",
       "        vertical-align: top;\n",
       "    }\n",
       "\n",
       "    .dataframe thead th {\n",
       "        text-align: right;\n",
       "    }\n",
       "</style>\n",
       "<table border=\"1\" class=\"dataframe\">\n",
       "  <thead>\n",
       "    <tr style=\"text-align: right;\">\n",
       "      <th></th>\n",
       "      <th>Product</th>\n",
       "      <th>Company</th>\n",
       "      <th>Message</th>\n",
       "      <th>Issue</th>\n",
       "    </tr>\n",
       "  </thead>\n",
       "  <tbody>\n",
       "    <tr>\n",
       "      <th>0</th>\n",
       "      <td>Credit reporting, credit repair services, or o...</td>\n",
       "      <td>Experian Information Solutions Inc.</td>\n",
       "      <td>complain mani time credit report experian inac...</td>\n",
       "      <td>Credit monitoring or identity theft protection...</td>\n",
       "    </tr>\n",
       "    <tr>\n",
       "      <th>1</th>\n",
       "      <td>Debt collection</td>\n",
       "      <td>Ideal Collection Services, Inc.</td>\n",
       "      <td>pleas review current fraud account also fraudu...</td>\n",
       "      <td>False statements or representation</td>\n",
       "    </tr>\n",
       "    <tr>\n",
       "      <th>2</th>\n",
       "      <td>Debt collection</td>\n",
       "      <td>ONEMAIN FINANCIAL HOLDINGS, LLC.</td>\n",
       "      <td>call multipl time year debt occur dure previou...</td>\n",
       "      <td>Attempts to collect debt not owed</td>\n",
       "    </tr>\n",
       "    <tr>\n",
       "      <th>3</th>\n",
       "      <td>Debt collection</td>\n",
       "      <td>Diversified Consultants, Inc.</td>\n",
       "      <td>sent letter compani valid debt special ask att...</td>\n",
       "      <td>Attempts to collect debt not owed</td>\n",
       "    </tr>\n",
       "    <tr>\n",
       "      <th>4</th>\n",
       "      <td>Credit reporting, credit repair services, or o...</td>\n",
       "      <td>ClearOne Advantage, LLC</td>\n",
       "      <td>appli debt relief product account execut name ...</td>\n",
       "      <td>Improper use of your report</td>\n",
       "    </tr>\n",
       "  </tbody>\n",
       "</table>\n",
       "</div>"
      ],
      "text/plain": [
       "                                             Product  ...                                              Issue\n",
       "0  Credit reporting, credit repair services, or o...  ...  Credit monitoring or identity theft protection...\n",
       "1                                    Debt collection  ...                 False statements or representation\n",
       "2                                    Debt collection  ...                  Attempts to collect debt not owed\n",
       "3                                    Debt collection  ...                  Attempts to collect debt not owed\n",
       "4  Credit reporting, credit repair services, or o...  ...                        Improper use of your report\n",
       "\n",
       "[5 rows x 4 columns]"
      ]
     },
     "execution_count": 19,
     "metadata": {
      "tags": []
     },
     "output_type": "execute_result"
    }
   ],
   "source": [
    "selected_data = cleaned_data[CSV_COLUMNS]\n",
    "selected_data.head()"
   ]
  },
  {
   "cell_type": "markdown",
   "metadata": {
    "colab_type": "text",
    "id": "t4ocwnXtEVOm"
   },
   "source": [
    "### Train-Eval-Test split\n",
    "\n",
    "We divided our data into three parts: training data (80%), evaluation data (10%) and testing data (10%). "
   ]
  },
  {
   "cell_type": "code",
   "execution_count": 0,
   "metadata": {
    "colab": {},
    "colab_type": "code",
    "id": "ElgtFr8sEVOm"
   },
   "outputs": [],
   "source": [
    "x_train, x_test, y_train, y_test = train_test_split(selected_data[CSV_FEATURES], selected_data[TARGET_LABEL], test_size=0.2)\n",
    "x_eval, x_test, y_eval, y_test  = train_test_split(x_test, y_test, test_size=0.5)"
   ]
  },
  {
   "cell_type": "markdown",
   "metadata": {
    "colab_type": "text",
    "id": "927fk4QrEVOr"
   },
   "source": [
    "We reassemble the dataframes since they might be necessary at a later point. "
   ]
  },
  {
   "cell_type": "code",
   "execution_count": 0,
   "metadata": {
    "colab": {},
    "colab_type": "code",
    "id": "KfHPsYsbEVOs"
   },
   "outputs": [],
   "source": [
    "train_data = x_train.copy(deep=True)\n",
    "train_data['Issue'] = y_train.values\n",
    "\n",
    "eval_data = x_eval.copy(deep=True)\n",
    "eval_data['Issue'] = y_eval.values\n",
    "\n",
    "test_data = x_test.copy(deep=True)\n",
    "test_data['Issue'] = y_test.values"
   ]
  },
  {
   "cell_type": "markdown",
   "metadata": {
    "colab_type": "text",
    "id": "5vGF4oyx0-W9"
   },
   "source": [
    "When checking for null values in the dataframe we found descrepencies before and after the train_test_split. This lead to issues further in the notebook so we filter them out here."
   ]
  },
  {
   "cell_type": "code",
   "execution_count": 136,
   "metadata": {
    "colab": {
     "base_uri": "https://localhost:8080/",
     "height": 85
    },
    "colab_type": "code",
    "id": "WTwPM7hQ09sb",
    "outputId": "5d928c99-565d-47ce-ed4a-86631ef914a9"
   },
   "outputs": [
    {
     "name": "stdout",
     "output_type": "stream",
     "text": [
      "Amount of null values before train-eval-test split: 0\n",
      "Amount of null values after train-eval-test split (train): 0\n",
      "Amount of null values before train-eval-test split (eval): 0\n",
      "Amount of null values before train-eval-test split (test): 4\n"
     ]
    }
   ],
   "source": [
    "print('Amount of null values before train-eval-test split: {}'.format(selected_data['Message'].isnull().values.sum()))\n",
    "print('Amount of null values after train-eval-test split (train): {}'.format(train_data['Message'].isnull().values.sum()))\n",
    "print('Amount of null values before train-eval-test split (eval): {}'.format(eval_data['Message'].isnull().values.sum()))\n",
    "print('Amount of null values before train-eval-test split (test): {}'.format(test_data['Message'].isnull().values.sum()))"
   ]
  },
  {
   "cell_type": "code",
   "execution_count": 137,
   "metadata": {
    "colab": {
     "base_uri": "https://localhost:8080/",
     "height": 85
    },
    "colab_type": "code",
    "id": "TQDxrC924Gbp",
    "outputId": "0d194256-b748-4d61-9f5c-ec25b6e6ba99"
   },
   "outputs": [
    {
     "name": "stdout",
     "output_type": "stream",
     "text": [
      "Amount of null values before train-eval-test split: 0\n",
      "Amount of null values after train-eval-test split (train): 0\n",
      "Amount of null values before train-eval-test split (eval): 0\n",
      "Amount of null values before train-eval-test split (test): 0\n"
     ]
    }
   ],
   "source": [
    "train_data = train_data.iloc[np.where(~train_data['Message'].isnull().values)[0], :]\n",
    "eval_data = eval_data.iloc[np.where(~eval_data['Message'].isnull().values)[0], :]\n",
    "test_data = test_data.iloc[np.where(~test_data['Message'].isnull().values)[0], :]\n",
    "\n",
    "print('Amount of null values before train-eval-test split: {}'.format(selected_data['Message'].isnull().values.sum()))\n",
    "print('Amount of null values after train-eval-test split (train): {}'.format(train_data['Message'].isnull().values.sum()))\n",
    "print('Amount of null values before train-eval-test split (eval): {}'.format(eval_data['Message'].isnull().values.sum()))\n",
    "print('Amount of null values before train-eval-test split (test): {}'.format(test_data['Message'].isnull().values.sum()))"
   ]
  },
  {
   "cell_type": "markdown",
   "metadata": {
    "colab_type": "text",
    "id": "Sbbh0zYFEVOu"
   },
   "source": [
    "### Balancing the training data\n",
    "\n",
    "The balancing of our training data should reduce the chances of the model collapsing into simply predicting the most prevalent column.\n",
    "\n",
    "This is the original situation after cutoff:"
   ]
  },
  {
   "cell_type": "code",
   "execution_count": 0,
   "metadata": {
    "colab": {
     "base_uri": "https://localhost:8080/",
     "height": 1000
    },
    "colab_type": "code",
    "id": "53zgaQFfEVOu",
    "outputId": "2872c4a7-0f30-4edb-c370-a27fae722c81"
   },
   "outputs": [
    {
     "data": {
      "text/plain": [
       "[Text(0, 0, 'Improper use of your report'),\n",
       " Text(0, 0, 'Unknown'),\n",
       " Text(0, 0, 'Incorrect information on your report'),\n",
       " Text(0, 0, 'Loan servicing, payments, escrow account'),\n",
       " Text(0, 0, 'Written notification about debt'),\n",
       " Text(0, 0, 'Unable to get credit report/credit score'),\n",
       " Text(0, 0, 'Managing an account'),\n",
       " Text(0, 0, 'Advertising and marketing, including promotional offers'),\n",
       " Text(0, 0, 'Improper contact or sharing of info'),\n",
       " Text(0, 0, 'Communication tactics'),\n",
       " Text(0, 0, 'Fraud or scam'),\n",
       " Text(0, 0, 'Struggling to pay mortgage'),\n",
       " Text(0, 0, 'Applying for a mortgage or refinancing an existing mortgage'),\n",
       " Text(0, 0, 'Problem when making payments'),\n",
       " Text(0, 0, 'Problems when you are unable to pay'),\n",
       " Text(0, 0, 'False statements or representation'),\n",
       " Text(0, 0, 'Opening an account'),\n",
       " Text(0, 0, \"Cont'd attempts collect debt not owed\"),\n",
       " Text(0, 0, 'Account opening, closing, or management'),\n",
       " Text(0, 0, 'Incorrect information on credit report'),\n",
       " Text(0, 0, 'Dealing with my lender or servicer'),\n",
       " Text(0, 0, 'Attempts to collect debt not owed'),\n",
       " Text(0, 0, \"Problem with a credit reporting company's investigation into an existing problem\"),\n",
       " Text(0, 0, 'Loan modification,collection,foreclosure'),\n",
       " Text(0, 0, 'Getting a credit card'),\n",
       " Text(0, 0, 'Unable to get your credit report or credit score'),\n",
       " Text(0, 0, 'Dealing with your lender or servicer'),\n",
       " Text(0, 0, 'Problem with a lender or other company charging your account'),\n",
       " Text(0, 0, 'Trouble during payment process'),\n",
       " Text(0, 0, 'Fees or interest'),\n",
       " Text(0, 0, 'Managing the loan or lease'),\n",
       " Text(0, 0, 'Struggling to repay your loan'),\n",
       " Text(0, 0, 'Closing an account'),\n",
       " Text(0, 0, 'Problem with a purchase shown on your statement'),\n",
       " Text(0, 0, 'Struggling to pay your loan'),\n",
       " Text(0, 0, \"Credit reporting company's investigation\"),\n",
       " Text(0, 0, 'Problems caused by my funds being low'),\n",
       " Text(0, 0, 'Credit monitoring or identity theft protection services'),\n",
       " Text(0, 0, 'Application, originator, mortgage broker'),\n",
       " Text(0, 0, 'Disclosure verification of debt'),\n",
       " Text(0, 0, 'Closing on a mortgage'),\n",
       " Text(0, 0, 'Other features, terms, or problems'),\n",
       " Text(0, 0, 'Took or threatened to take negative or legal action'),\n",
       " Text(0, 0, 'Closing your account'),\n",
       " Text(0, 0, 'Threatened to contact someone or share information improperly'),\n",
       " Text(0, 0, 'Problem with fraud alerts or security freezes'),\n",
       " Text(0, 0, 'Billing disputes'),\n",
       " Text(0, 0, 'Deposits and withdrawals'),\n",
       " Text(0, 0, 'Settlement process and costs'),\n",
       " Text(0, 0, \"Can't repay my loan\"),\n",
       " Text(0, 0, 'Taking/threatening an illegal action')]"
      ]
     },
     "execution_count": 16,
     "metadata": {
      "tags": []
     },
     "output_type": "execute_result"
    },
    {
     "data": {
      "image/png": "[encoded data removed]",
      "text/plain": [
       "<Figure size 1440x720 with 1 Axes>"
      ]
     },
     "metadata": {
      "needs_background": "light",
      "tags": []
     },
     "output_type": "display_data"
    }
   ],
   "source": [
    "fig = plt.figure(figsize=(20,10))\n",
    "chart = sns.countplot('Issue', data=train_data)\n",
    "labels = chart.get_xticklabels()\n",
    "chart.set_xticklabels(chart.get_xticklabels(), rotation=90)"
   ]
  },
  {
   "cell_type": "markdown",
   "metadata": {
    "colab_type": "text",
    "id": "lgLKkqXuEVOx"
   },
   "source": [
    "We decide to create two different sizes of balanced datasets so we could experiment with both. The balancing was realized by using sampling and in some cases oversampling."
   ]
  },
  {
   "cell_type": "code",
   "execution_count": 0,
   "metadata": {
    "colab": {},
    "colab_type": "code",
    "id": "S1HRRNRLEVOx"
   },
   "outputs": [],
   "source": [
    "# Define boundaries for sampling\n",
    "BALANCE_SMALL_UPPER = 1000\n",
    "BALANCE_SMALL_LOWER = 500\n",
    "BALANCE_LARGER_UPPER = 7500\n",
    "BALANCE_LARGER_LOWER = 5000\n",
    "\n",
    "def create_balanced_dataset(df, lower, upper):\n",
    "\n",
    "    balanced_data = pd.DataFrame()\n",
    "\n",
    "    for issue in ISS_VOCAB:\n",
    "        if df[df['Issue'] == issue].shape[0] > upper:\n",
    "            # Sample when more available than upper boundary\n",
    "            balanced_data = pd.concat([df[df['Issue'] == issue].sample(upper), balanced_data])\n",
    "        if df[df['Issue'] == issue].shape[0] <= lower and df[df['Issue'] == issue].shape[0] > 0:\n",
    "            # Oversample up to lower boundary when to few available\n",
    "            balanced_data = pd.concat([df[df['Issue'] == issue].sample(lower, replace=True), balanced_data])\n",
    "\n",
    "    return balanced_data\n",
    "\n",
    "balanced_train_small = create_balanced_dataset(train_data, BALANCE_SMALL_LOWER, BALANCE_SMALL_UPPER)\n",
    "balanced_train_larger = create_balanced_dataset(train_data, BALANCE_LARGER_LOWER, BALANCE_LARGER_UPPER)"
   ]
  },
  {
   "cell_type": "markdown",
   "metadata": {
    "colab_type": "text",
    "id": "SV7-FzIJEVO0"
   },
   "source": [
    "The results of the balacing are the following: "
   ]
  },
  {
   "cell_type": "code",
   "execution_count": 0,
   "metadata": {
    "colab": {
     "base_uri": "https://localhost:8080/",
     "height": 1000
    },
    "colab_type": "code",
    "id": "wJQuM8ciEVO0",
    "outputId": "0a962207-c51a-4b55-878f-f42737db49bf"
   },
   "outputs": [
    {
     "data": {
      "text/plain": [
       "[Text(0, 0, 'Deposits and withdrawals'),\n",
       " Text(0, 0, 'Problems caused by my funds being low'),\n",
       " Text(0, 0, 'Improper contact or sharing of info'),\n",
       " Text(0, 0, 'Application, originator, mortgage broker'),\n",
       " Text(0, 0, 'Problems when you are unable to pay'),\n",
       " Text(0, 0, \"Credit reporting company's investigation\"),\n",
       " Text(0, 0, 'Unable to get credit report/credit score'),\n",
       " Text(0, 0, 'Dealing with my lender or servicer'),\n",
       " Text(0, 0, 'Billing disputes'),\n",
       " Text(0, 0, 'Incorrect information on credit report'),\n",
       " Text(0, 0, 'Account opening, closing, or management'),\n",
       " Text(0, 0, \"Can't repay my loan\"),\n",
       " Text(0, 0, 'Disclosure verification of debt'),\n",
       " Text(0, 0, \"Cont'd attempts collect debt not owed\"),\n",
       " Text(0, 0, 'Settlement process and costs'),\n",
       " Text(0, 0, 'Taking/threatening an illegal action'),\n",
       " Text(0, 0, 'Loan modification,collection,foreclosure'),\n",
       " Text(0, 0, 'Loan servicing, payments, escrow account'),\n",
       " Text(0, 0, 'Applying for a mortgage or refinancing an existing mortgage'),\n",
       " Text(0, 0, 'Problem when making payments'),\n",
       " Text(0, 0, 'Struggling to repay your loan'),\n",
       " Text(0, 0, 'Problem with a lender or other company charging your account'),\n",
       " Text(0, 0, 'Managing the loan or lease'),\n",
       " Text(0, 0, 'Struggling to pay mortgage'),\n",
       " Text(0, 0, 'Other features, terms, or problems'),\n",
       " Text(0, 0, 'Opening an account'),\n",
       " Text(0, 0, 'Getting a credit card'),\n",
       " Text(0, 0, 'Managing an account'),\n",
       " Text(0, 0, 'Advertising and marketing, including promotional offers'),\n",
       " Text(0, 0, 'Closing your account'),\n",
       " Text(0, 0, 'Problem with a purchase shown on your statement'),\n",
       " Text(0, 0, 'Closing an account'),\n",
       " Text(0, 0, 'Unable to get your credit report or credit score'),\n",
       " Text(0, 0, 'Struggling to pay your loan'),\n",
       " Text(0, 0, 'Threatened to contact someone or share information improperly'),\n",
       " Text(0, 0, 'Closing on a mortgage'),\n",
       " Text(0, 0, 'Fraud or scam'),\n",
       " Text(0, 0, 'Problem with fraud alerts or security freezes'),\n",
       " Text(0, 0, 'Dealing with your lender or servicer'),\n",
       " Text(0, 0, 'Written notification about debt'),\n",
       " Text(0, 0, 'Took or threatened to take negative or legal action'),\n",
       " Text(0, 0, 'Communication tactics'),\n",
       " Text(0, 0, 'Fees or interest'),\n",
       " Text(0, 0, 'Trouble during payment process'),\n",
       " Text(0, 0, 'Unknown'),\n",
       " Text(0, 0, 'Incorrect information on your report'),\n",
       " Text(0, 0, \"Problem with a credit reporting company's investigation into an existing problem\"),\n",
       " Text(0, 0, 'Improper use of your report'),\n",
       " Text(0, 0, 'Attempts to collect debt not owed'),\n",
       " Text(0, 0, 'False statements or representation'),\n",
       " Text(0, 0, 'Credit monitoring or identity theft protection services')]"
      ]
     },
     "execution_count": 18,
     "metadata": {
      "tags": []
     },
     "output_type": "execute_result"
    },
    {
     "data": {
      "image/png": "[encoded data removed]",
      "text/plain": [
       "<Figure size 1440x720 with 1 Axes>"
      ]
     },
     "metadata": {
      "needs_background": "light",
      "tags": []
     },
     "output_type": "display_data"
    }
   ],
   "source": [
    "# Small balanced dataset\n",
    "fig = plt.figure(figsize=(20,10))\n",
    "chart = sns.countplot('Issue', data=balanced_train_small)\n",
    "labels = chart.get_xticklabels()\n",
    "chart.set_xticklabels(chart.get_xticklabels(), rotation=90)"
   ]
  },
  {
   "cell_type": "code",
   "execution_count": 0,
   "metadata": {
    "colab": {
     "base_uri": "https://localhost:8080/",
     "height": 1000
    },
    "colab_type": "code",
    "id": "Am3rSbE0EVO3",
    "outputId": "f626bfa7-fd17-4505-b4c6-1744acf450e1"
   },
   "outputs": [
    {
     "data": {
      "text/plain": [
       "[Text(0, 0, 'Deposits and withdrawals'),\n",
       " Text(0, 0, 'Problems caused by my funds being low'),\n",
       " Text(0, 0, 'Improper contact or sharing of info'),\n",
       " Text(0, 0, 'Application, originator, mortgage broker'),\n",
       " Text(0, 0, 'Problems when you are unable to pay'),\n",
       " Text(0, 0, \"Credit reporting company's investigation\"),\n",
       " Text(0, 0, 'Unable to get credit report/credit score'),\n",
       " Text(0, 0, 'Billing disputes'),\n",
       " Text(0, 0, 'Incorrect information on credit report'),\n",
       " Text(0, 0, \"Can't repay my loan\"),\n",
       " Text(0, 0, \"Cont'd attempts collect debt not owed\"),\n",
       " Text(0, 0, 'Settlement process and costs'),\n",
       " Text(0, 0, 'Taking/threatening an illegal action'),\n",
       " Text(0, 0, 'Loan modification,collection,foreclosure'),\n",
       " Text(0, 0, 'Loan servicing, payments, escrow account'),\n",
       " Text(0, 0, 'Applying for a mortgage or refinancing an existing mortgage'),\n",
       " Text(0, 0, 'Problem when making payments'),\n",
       " Text(0, 0, 'Struggling to repay your loan'),\n",
       " Text(0, 0, 'Problem with a lender or other company charging your account'),\n",
       " Text(0, 0, 'Other features, terms, or problems'),\n",
       " Text(0, 0, 'Opening an account'),\n",
       " Text(0, 0, 'Getting a credit card'),\n",
       " Text(0, 0, 'Managing an account'),\n",
       " Text(0, 0, 'Advertising and marketing, including promotional offers'),\n",
       " Text(0, 0, 'Closing your account'),\n",
       " Text(0, 0, 'Closing an account'),\n",
       " Text(0, 0, 'Unable to get your credit report or credit score'),\n",
       " Text(0, 0, 'Struggling to pay your loan'),\n",
       " Text(0, 0, 'Threatened to contact someone or share information improperly'),\n",
       " Text(0, 0, 'Closing on a mortgage'),\n",
       " Text(0, 0, 'Fraud or scam'),\n",
       " Text(0, 0, 'Problem with fraud alerts or security freezes'),\n",
       " Text(0, 0, 'Written notification about debt'),\n",
       " Text(0, 0, 'Communication tactics'),\n",
       " Text(0, 0, 'Fees or interest'),\n",
       " Text(0, 0, 'Trouble during payment process'),\n",
       " Text(0, 0, 'Unknown'),\n",
       " Text(0, 0, 'Incorrect information on your report'),\n",
       " Text(0, 0, \"Problem with a credit reporting company's investigation into an existing problem\"),\n",
       " Text(0, 0, 'Improper use of your report'),\n",
       " Text(0, 0, 'Attempts to collect debt not owed'),\n",
       " Text(0, 0, 'False statements or representation'),\n",
       " Text(0, 0, 'Credit monitoring or identity theft protection services')]"
      ]
     },
     "execution_count": 19,
     "metadata": {
      "tags": []
     },
     "output_type": "execute_result"
    },
    {
     "data": {
      "image/png": "[encoded data removed]",
      "text/plain": [
       "<Figure size 1440x720 with 1 Axes>"
      ]
     },
     "metadata": {
      "needs_background": "light",
      "tags": []
     },
     "output_type": "display_data"
    }
   ],
   "source": [
    "# Small balanced dataset\n",
    "fig = plt.figure(figsize=(20,10))\n",
    "chart = sns.countplot('Issue', data=balanced_train_larger)\n",
    "labels = chart.get_xticklabels()\n",
    "chart.set_xticklabels(chart.get_xticklabels(), rotation=90)"
   ]
  },
  {
   "cell_type": "markdown",
   "metadata": {
    "colab_type": "text",
    "id": "bdnUUMvxQoyT"
   },
   "source": [
    "### Storing the processed data\n",
    "\n",
    "Storing the processed data allowed us to skip the steps above when appropriate."
   ]
  },
  {
   "cell_type": "code",
   "execution_count": 0,
   "metadata": {
    "colab": {},
    "colab_type": "code",
    "id": "O5xMip2IARl7"
   },
   "outputs": [],
   "source": [
    "!mkdir data"
   ]
  },
  {
   "cell_type": "code",
   "execution_count": 0,
   "metadata": {
    "colab": {},
    "colab_type": "code",
    "id": "6SSGMLzi_cD8"
   },
   "outputs": [],
   "source": [
    "train_data.to_csv('./data/train_data.csv', index=False)\n",
    "eval_data.to_csv('./data/eval_data.csv', index=False)\n",
    "test_data.to_csv('./data/test_data.csv', index=False)\n",
    "balanced_train_small.to_csv('./data/balanced_train_small.csv', index=False)\n",
    "balanced_train_larger.to_csv('./data/balanced_train_larger.csv', index=False)"
   ]
  },
  {
   "cell_type": "markdown",
   "metadata": {
    "colab_type": "text",
    "id": "tnR-15R3v8CC"
   },
   "source": [
    "We'll store a remote version of these files. This ensures that the previous steps can be skipped without any issues (on any machine). "
   ]
  },
  {
   "cell_type": "code",
   "execution_count": 0,
   "metadata": {
    "colab": {},
    "colab_type": "code",
    "id": "HNQgqBqFwHlo"
   },
   "outputs": [],
   "source": [
    "train_data.to_csv('gs://{}/preproc/train_data.csv'.format(BUCKET), index=False)\n",
    "eval_data.to_csv('gs://{}/preproc/eval_data.csv'.format(BUCKET), index=False)\n",
    "test_data.to_csv('gs://{}/preproc/test_data.csv'.format(BUCKET), index=False)\n",
    "balanced_train_small.to_csv('gs://{}/preproc/balanced_train_small.csv'.format(BUCKET), index=False)\n",
    "balanced_train_larger.to_csv('gs://{}/preproc/balanced_train_larger.csv'.format(BUCKET), index=False)"
   ]
  },
  {
   "cell_type": "markdown",
   "metadata": {
    "colab_type": "text",
    "id": "TKrxJqwywaA2"
   },
   "source": [
    "Let's check if the remote storing to Google Cloud Storage was successful.\n",
    "\n"
   ]
  },
  {
   "cell_type": "code",
   "execution_count": 4,
   "metadata": {
    "colab": {
     "base_uri": "https://localhost:8080/",
     "height": 102
    },
    "colab_type": "code",
    "id": "IFLN1n6awxSp",
    "outputId": "616d613a-c5ae-41cd-c3ec-8d23268197f5"
   },
   "outputs": [
    {
     "name": "stdout",
     "output_type": "stream",
     "text": [
      "gs://applied_machine_learning_bucket/preproc/balanced_train_larger.csv\n",
      "gs://applied_machine_learning_bucket/preproc/balanced_train_small.csv\n",
      "gs://applied_machine_learning_bucket/preproc/eval_data.csv\n",
      "gs://applied_machine_learning_bucket/preproc/test_data.csv\n",
      "gs://applied_machine_learning_bucket/preproc/train_data.csv\n"
     ]
    }
   ],
   "source": [
    "!gsutil ls gs://$BUCKET/preproc"
   ]
  },
  {
   "cell_type": "markdown",
   "metadata": {
    "colab_type": "text",
    "id": "ngo9iqVAw-Iz"
   },
   "source": [
    "### Retrieving the remote (preprocessed) data\n",
    "\n",
    "Executing this section allows skipping of all previous preprocessing steps."
   ]
  },
  {
   "cell_type": "code",
   "execution_count": 5,
   "metadata": {
    "colab": {
     "base_uri": "https://localhost:8080/",
     "height": 238
    },
    "colab_type": "code",
    "id": "MB1zwrjKTg0L",
    "outputId": "cfbc6b67-4b2e-425e-ad64-6d2876930b32"
   },
   "outputs": [
    {
     "name": "stdout",
     "output_type": "stream",
     "text": [
      "Copying gs://applied_machine_learning_bucket/preproc/balanced_train_larger.csv...\n",
      "Copying gs://applied_machine_learning_bucket/preproc/balanced_train_small.csv...\n",
      "Copying gs://applied_machine_learning_bucket/preproc/eval_data.csv...\n",
      "Copying gs://applied_machine_learning_bucket/preproc/test_data.csv...\n",
      "- [4 files][252.2 MiB/252.2 MiB]   14.1 MiB/s                                   \n",
      "==> NOTE: You are performing a sequence of gsutil operations that may\n",
      "run significantly faster if you instead use gsutil -m cp ... Please\n",
      "see the -m section under \"gsutil help options\" for further information\n",
      "about when gsutil -m can be advantageous.\n",
      "\n",
      "Copying gs://applied_machine_learning_bucket/preproc/train_data.csv...\n",
      "| [5 files][492.2 MiB/492.2 MiB]   18.7 MiB/s                                   \n",
      "Operation completed over 5 objects/492.2 MiB.                                    \n"
     ]
    }
   ],
   "source": [
    "!gsutil cp -R gs://$BUCKET/preproc ."
   ]
  },
  {
   "cell_type": "code",
   "execution_count": 0,
   "metadata": {
    "colab": {},
    "colab_type": "code",
    "id": "NhOrpM2gxI1n"
   },
   "outputs": [],
   "source": [
    "train_data = pd.read_csv('./preproc/train_data.csv')\n",
    "eval_data = pd.read_csv('./preproc/eval_data.csv')\n",
    "test_data = pd.read_csv('./preproc/test_data.csv')\n",
    "balanced_train_small = pd.read_csv('./preproc/balanced_train_small.csv')\n",
    "balanced_train_larger = pd.read_csv('./preproc/balanced_train_larger.csv')\n",
    "\n",
    "CSV_COLUMNS = ['Product', 'Company', 'Message', 'Issue']\n",
    "CSV_FEATURES = ['Product', 'Company', 'Message']\n",
    "TARGET_LABEL = 'Issue'\n",
    "DEFAULTS = [['Unknown'], ['Unknown'], ['Unknown']]\n",
    "\n",
    "PROD_VOCAB = np.append(train_data['Product'].unique(), 'Unknown')\n",
    "PROD_VOCAB = np.append(PROD_VOCAB, eval_data['Product'].unique())\n",
    "PROD_VOCAB = np.append(PROD_VOCAB, test_data['Product'].unique())\n",
    "PROD_VOCAB = list(set(PROD_VOCAB))\n",
    "\n",
    "COMP_VOCAB = np.append(train_data['Company'].unique(), 'Unknown')\n",
    "COMP_VOCAB = np.append(COMP_VOCAB, eval_data['Company'].unique())\n",
    "COMP_VOCAB = np.append(COMP_VOCAB, test_data['Company'].unique())\n",
    "COMP_VOCAB = list(set(COMP_VOCAB))\n",
    "\n",
    "ISS_VOCAB = np.append(train_data['Issue'].unique(), 'Unknown')\n",
    "ISS_VOCAB = np.append(ISS_VOCAB, eval_data['Issue'].unique())\n",
    "ISS_VOCAB = np.append(ISS_VOCAB, test_data['Issue'].unique())\n",
    "ISS_VOCAB = list(set(ISS_VOCAB))"
   ]
  },
  {
   "cell_type": "markdown",
   "metadata": {
    "colab_type": "text",
    "id": "WizHsD7pKtaN"
   },
   "source": [
    "### Creating a Proof of Concept\n",
    "\n",
    "Since we wanted to test our theory, we decided to create a Proof of Concept machine learning model before taking the steps to productionize the model. First we will analyze how well a basic NN performs with just the doc2vec model. Afterwards we add company names and products to see if the model gives better predictions. \n",
    "\n",
    "#### Sample dataset\n",
    "\n",
    "In order to create a local model sampling is a good idea to minimize the load on our machines. "
   ]
  },
  {
   "cell_type": "code",
   "execution_count": 0,
   "metadata": {
    "colab": {},
    "colab_type": "code",
    "id": "oe0ydQ7YLn6Y"
   },
   "outputs": [],
   "source": [
    "subset = balanced_train_larger.sample(50000)"
   ]
  },
  {
   "cell_type": "markdown",
   "metadata": {
    "colab_type": "text",
    "id": "Uvy8_q4RL5pT"
   },
   "source": [
    "\n",
    "#### Feature extraction\n",
    "\n",
    "We need to make the categorical columns and the textual column understandable for a machine. For the categorical columns we used one-hot-encoding. Previous sprints deterimend that Doc2Vec feature extraction works well, we decided to use this during Sprint 3 as well."
   ]
  },
  {
   "cell_type": "code",
   "execution_count": 0,
   "metadata": {
    "colab": {},
    "colab_type": "code",
    "id": "KSJ06EaoKlR9"
   },
   "outputs": [],
   "source": [
    "def one_hot_encode(df):\n",
    "    comp_1he = pd.get_dummies(df['Company'])\n",
    "    prod_1he = pd.get_dummies(df['Product'])\n",
    "    targets_1he = pd.get_dummies(df['Issue'])\n",
    "\n",
    "    return comp_1he, prod_1he, targets_1he\n",
    "\n",
    "comp_1he, prod_1he, targets_1he = one_hot_encode(subset)"
   ]
  },
  {
   "cell_type": "code",
   "execution_count": 147,
   "metadata": {
    "colab": {
     "base_uri": "https://localhost:8080/",
     "height": 68
    },
    "colab_type": "code",
    "id": "0iMF7g48LmKF",
    "outputId": "c32b0dae-3296-47cb-95c7-57154cbf4af0"
   },
   "outputs": [
    {
     "name": "stdout",
     "output_type": "stream",
     "text": [
      "(50000, 250)\n",
      "(50000, 2250)\n",
      "(50000, 18)\n"
     ]
    }
   ],
   "source": [
    "def doc2vec(df):\n",
    "    listOfDocsAsListOfStrings = [doc for doc in (row.split() for row in df['Message'])]\n",
    "    model = D2VTransformer(size=250, window=5, min_count=2, workers=multiprocessing.cpu_count())\n",
    "    transformed = model.fit_transform(listOfDocsAsListOfStrings)\n",
    "    return transformed\n",
    "\n",
    "transformed = doc2vec(subset)\n",
    "\n",
    "print(transformed.shape)\n",
    "print(comp_1he.shape)\n",
    "print(prod_1he.shape)"
   ]
  },
  {
   "cell_type": "markdown",
   "metadata": {
    "colab_type": "text",
    "id": "tKZzz3BrODwo"
   },
   "source": [
    "#### Keras Model\n",
    "\n",
    "Since NLP is usually preformed with neural networks we decided to try this approach as well. We used Keras to create a Proof of Concept model due to its ease of development.\n",
    "\n",
    "The PoC keras model is very basic. It has two hidden layers, each having 256 nodes. The output shape is of course defined by the number of issues. The input shape depends on the data fed. There will be no hyperparameter tuning at all. A basic SGD will be used as our optimizer and categorical crossentropy will be used as the loss function. "
   ]
  },
  {
   "cell_type": "code",
   "execution_count": 0,
   "metadata": {
    "colab": {},
    "colab_type": "code",
    "id": "HYPRsFmBQO0d"
   },
   "outputs": [],
   "source": [
    "def createDataSets(x,y):\n",
    "    x_train, x_test, y_train, y_test = train_test_split(x,y,test_size = 0.3)\n",
    "    x_train, x_val, y_train, y_val = train_test_split(x_train, y_train, test_size= 0.1)\n",
    "\n",
    "    return x_train,x_val,x_test,y_train,y_val,y_test"
   ]
  },
  {
   "cell_type": "code",
   "execution_count": 0,
   "metadata": {
    "colab": {},
    "colab_type": "code",
    "id": "q9bzFRnhNIDx"
   },
   "outputs": [],
   "source": [
    "def createModel(optimizer,loss, input_shape, output_shape):\n",
    "\n",
    "    print(output_shape)\n",
    "    \n",
    "    model = Sequential()\n",
    "    model.add(Dense(256, activation='relu', input_shape=(input_shape[1],)))\n",
    "    model.add(Dense(256, activation='relu'))\n",
    "    #model.add(Dense(256, activation='relu'))\n",
    "    model.add(Dense(output_shape[1], activation='softmax'))\n",
    "    \n",
    "    model.compile(loss=loss, optimizer=optimizer, metrics=['accuracy'])\n",
    "    return model"
   ]
  },
  {
   "cell_type": "code",
   "execution_count": 0,
   "metadata": {
    "colab": {},
    "colab_type": "code",
    "id": "9Z_qdn1oOQs5"
   },
   "outputs": [],
   "source": [
    "def trainModel(model, x, y, batch_size=64, epochs=10):\n",
    "    x_train,x_val,x_test,y_train,y_val,y_test = createDataSets(x,y)\n",
    "    \n",
    "    history = model.fit(x_train, y_train,\n",
    "                batch_size=batch_size,\n",
    "                epochs=epochs,\n",
    "                verbose=1,\n",
    "                validation_data=(x_val, y_val))\n",
    "    return history, x_test,y_test"
   ]
  },
  {
   "cell_type": "code",
   "execution_count": 0,
   "metadata": {
    "colab": {},
    "colab_type": "code",
    "id": "FqjA_ALIOS7L"
   },
   "outputs": [],
   "source": [
    "def validateModel(history, score):\n",
    "    print('Test loss:', score[0])\n",
    "    print('Test accuracy:', score[1])\n",
    "\n",
    "    # Plot training & validation accuracy values\n",
    "    plt.plot(history.history['accuracy'])\n",
    "    plt.plot(history.history['val_accuracy'])\n",
    "    plt.title('Model accuracy')\n",
    "    plt.ylabel('Accuracy')\n",
    "    plt.xlabel('Epoch')\n",
    "    plt.legend(['Train', 'Test'], loc='upper left')\n",
    "    plt.show()\n",
    "\n",
    "    # Plot training & validation loss values\n",
    "    plt.plot(history.history['loss'])\n",
    "    plt.plot(history.history['val_loss'])\n",
    "    plt.title('Model loss')\n",
    "    plt.ylabel('Loss')\n",
    "    plt.xlabel('Epoch')\n",
    "    plt.legend(['Train', 'Test'], loc='upper left')\n",
    "    plt.show()"
   ]
  },
  {
   "cell_type": "markdown",
   "metadata": {
    "colab_type": "text",
    "id": "8SBLs3obOWMH"
   },
   "source": [
    "The first model will only use the doc2vec data as input data. This will give us a base truth. Later on when adding new data, we can see if the added data helps improvve the model. If the model would perform worse afterwards, we should fall back to just using the doc2vec data."
   ]
  },
  {
   "cell_type": "code",
   "execution_count": 0,
   "metadata": {
    "colab": {},
    "colab_type": "code",
    "id": "fYXOYOSQOwmz"
   },
   "outputs": [],
   "source": [
    "y = targets_1he\n",
    "x = transformed"
   ]
  },
  {
   "cell_type": "code",
   "execution_count": 153,
   "metadata": {
    "colab": {
     "base_uri": "https://localhost:8080/",
     "height": 964
    },
    "colab_type": "code",
    "id": "80aMK0G6OUxx",
    "outputId": "60d03f2b-13c9-4ece-abf3-0026eb7f5f9b"
   },
   "outputs": [
    {
     "name": "stdout",
     "output_type": "stream",
     "text": [
      "(50000, 43)\n",
      "Epoch 1/10\n",
      "493/493 [==============================] - 2s 4ms/step - loss: 3.6752 - accuracy: 0.0665 - val_loss: 3.5112 - val_accuracy: 0.1169\n",
      "Epoch 2/10\n",
      "493/493 [==============================] - 2s 4ms/step - loss: 3.1209 - accuracy: 0.1680 - val_loss: 2.8290 - val_accuracy: 0.2231\n",
      "Epoch 3/10\n",
      "493/493 [==============================] - 2s 4ms/step - loss: 2.6218 - accuracy: 0.2464 - val_loss: 2.5300 - val_accuracy: 0.2729\n",
      "Epoch 4/10\n",
      "493/493 [==============================] - 2s 4ms/step - loss: 2.4180 - accuracy: 0.2890 - val_loss: 2.4348 - val_accuracy: 0.2826\n",
      "Epoch 5/10\n",
      "493/493 [==============================] - 2s 4ms/step - loss: 2.3153 - accuracy: 0.3157 - val_loss: 2.3464 - val_accuracy: 0.3100\n",
      "Epoch 6/10\n",
      "493/493 [==============================] - 2s 4ms/step - loss: 2.2480 - accuracy: 0.3332 - val_loss: 2.3124 - val_accuracy: 0.3226\n",
      "Epoch 7/10\n",
      "493/493 [==============================] - 2s 4ms/step - loss: 2.1990 - accuracy: 0.3475 - val_loss: 2.2965 - val_accuracy: 0.3271\n",
      "Epoch 8/10\n",
      "493/493 [==============================] - 2s 4ms/step - loss: 2.1618 - accuracy: 0.3584 - val_loss: 2.2646 - val_accuracy: 0.3246\n",
      "Epoch 9/10\n",
      "493/493 [==============================] - 2s 4ms/step - loss: 2.1275 - accuracy: 0.3666 - val_loss: 2.2492 - val_accuracy: 0.3400\n",
      "Epoch 10/10\n",
      "493/493 [==============================] - 2s 4ms/step - loss: 2.0978 - accuracy: 0.3729 - val_loss: 2.2390 - val_accuracy: 0.3369\n",
      "Test loss: 2.2366294860839844\n",
      "Test accuracy: 0.3388666808605194\n"
     ]
    },
    {
     "data": {
      "image/png": "[encoded data removed]",
      "text/plain": [
       "<Figure size 432x288 with 1 Axes>"
      ]
     },
     "metadata": {
      "needs_background": "light",
      "tags": []
     },
     "output_type": "display_data"
    },
    {
     "data": {
      "image/png": "[encoded data removed]",
      "text/plain": [
       "<Figure size 432x288 with 1 Axes>"
      ]
     },
     "metadata": {
      "needs_background": "light",
      "tags": []
     },
     "output_type": "display_data"
    }
   ],
   "source": [
    "model = createModel(SGD(lr=0.01, momentum=0.9),CategoricalCrossentropy(),x.shape, y.shape)\n",
    "\n",
    "history, x_test,y_test = trainModel(model,x,y)\n",
    "\n",
    "score = model.evaluate(x_test, y_test, verbose=0)\n",
    "validateModel(history,score)"
   ]
  },
  {
   "cell_type": "markdown",
   "metadata": {
    "colab_type": "text",
    "id": "nNw2mTgFQ8b1"
   },
   "source": [
    "We get an accuracy of about 30+% when only using the dov2vec data with the NN. Let's see how much this improves by adding company names."
   ]
  },
  {
   "cell_type": "code",
   "execution_count": 154,
   "metadata": {
    "colab": {
     "base_uri": "https://localhost:8080/",
     "height": 964
    },
    "colab_type": "code",
    "id": "zIjMSU6zPMXZ",
    "outputId": "a1d50f8a-999b-4909-81e9-4ba09b6e4a06"
   },
   "outputs": [
    {
     "name": "stdout",
     "output_type": "stream",
     "text": [
      "(50000, 43)\n",
      "Epoch 1/10\n",
      "493/493 [==============================] - 4s 9ms/step - loss: 3.6070 - accuracy: 0.0759 - val_loss: 3.2050 - val_accuracy: 0.1357\n",
      "Epoch 2/10\n",
      "493/493 [==============================] - 4s 8ms/step - loss: 2.7715 - accuracy: 0.1830 - val_loss: 2.4938 - val_accuracy: 0.2180\n",
      "Epoch 3/10\n",
      "493/493 [==============================] - 4s 8ms/step - loss: 2.3467 - accuracy: 0.2672 - val_loss: 2.2596 - val_accuracy: 0.2811\n",
      "Epoch 4/10\n",
      "493/493 [==============================] - 4s 8ms/step - loss: 2.1582 - accuracy: 0.3130 - val_loss: 2.1454 - val_accuracy: 0.3049\n",
      "Epoch 5/10\n",
      "493/493 [==============================] - 4s 8ms/step - loss: 2.0474 - accuracy: 0.3447 - val_loss: 2.0676 - val_accuracy: 0.3360\n",
      "Epoch 6/10\n",
      "493/493 [==============================] - 4s 8ms/step - loss: 1.9740 - accuracy: 0.3674 - val_loss: 2.0326 - val_accuracy: 0.3411\n",
      "Epoch 7/10\n",
      "493/493 [==============================] - 4s 8ms/step - loss: 1.9128 - accuracy: 0.3866 - val_loss: 1.9963 - val_accuracy: 0.3574\n",
      "Epoch 8/10\n",
      "493/493 [==============================] - 4s 8ms/step - loss: 1.8695 - accuracy: 0.3986 - val_loss: 1.9802 - val_accuracy: 0.3663\n",
      "Epoch 9/10\n",
      "493/493 [==============================] - 4s 8ms/step - loss: 1.8285 - accuracy: 0.4121 - val_loss: 1.9644 - val_accuracy: 0.3683\n",
      "Epoch 10/10\n",
      "493/493 [==============================] - 4s 8ms/step - loss: 1.7920 - accuracy: 0.4221 - val_loss: 1.9567 - val_accuracy: 0.3640\n",
      "Test loss: 1.9308786392211914\n",
      "Test accuracy: 0.3720666766166687\n"
     ]
    },
    {
     "data": {
      "image/png": "[encoded data removed]",
      "text/plain": [
       "<Figure size 432x288 with 1 Axes>"
      ]
     },
     "metadata": {
      "needs_background": "light",
      "tags": []
     },
     "output_type": "display_data"
    },
    {
     "data": {
      "image/png": "[encoded data removed]",
      "text/plain": [
       "<Figure size 432x288 with 1 Axes>"
      ]
     },
     "metadata": {
      "needs_background": "light",
      "tags": []
     },
     "output_type": "display_data"
    }
   ],
   "source": [
    "x = np.append(transformed, comp_1he.to_numpy(),axis=1)\n",
    "\n",
    "model = createModel(SGD(lr=0.01, momentum=0.9),CategoricalCrossentropy(),x.shape,y.shape)\n",
    "\n",
    "history,x_test,y_test = trainModel(model,x,y)\n",
    "score = model.evaluate(x_test, y_test, verbose=0)\n",
    "\n",
    "validateModel(history,score)"
   ]
  },
  {
   "cell_type": "markdown",
   "metadata": {
    "colab_type": "text",
    "id": "vsol5vF_RI-K"
   },
   "source": [
    "The basic keras NN improves with about 5% by adding company names. This is not as much as we expected since companies and certain issues seemed to be related, given a company's business model ect.\n",
    "\n",
    "We will now check how good the model performs when adding product categories to the dov2vec model."
   ]
  },
  {
   "cell_type": "code",
   "execution_count": 155,
   "metadata": {
    "colab": {
     "base_uri": "https://localhost:8080/",
     "height": 964
    },
    "colab_type": "code",
    "id": "VmDVjx2uRM1-",
    "outputId": "6fd61d27-f359-4aa3-87b4-5345ed9133e9"
   },
   "outputs": [
    {
     "name": "stdout",
     "output_type": "stream",
     "text": [
      "(50000, 43)\n",
      "Epoch 1/10\n",
      "493/493 [==============================] - 2s 4ms/step - loss: 2.5765 - accuracy: 0.2377 - val_loss: 1.6705 - val_accuracy: 0.3431\n",
      "Epoch 2/10\n",
      "493/493 [==============================] - 2s 4ms/step - loss: 1.5788 - accuracy: 0.3642 - val_loss: 1.5014 - val_accuracy: 0.3834\n",
      "Epoch 3/10\n",
      "493/493 [==============================] - 2s 4ms/step - loss: 1.4544 - accuracy: 0.4208 - val_loss: 1.4098 - val_accuracy: 0.4369\n",
      "Epoch 4/10\n",
      "493/493 [==============================] - 2s 4ms/step - loss: 1.3742 - accuracy: 0.4625 - val_loss: 1.3479 - val_accuracy: 0.4851\n",
      "Epoch 5/10\n",
      "493/493 [==============================] - 2s 4ms/step - loss: 1.3231 - accuracy: 0.4831 - val_loss: 1.3235 - val_accuracy: 0.4971\n",
      "Epoch 6/10\n",
      "493/493 [==============================] - 2s 4ms/step - loss: 1.2866 - accuracy: 0.5043 - val_loss: 1.3063 - val_accuracy: 0.4954\n",
      "Epoch 7/10\n",
      "493/493 [==============================] - 2s 4ms/step - loss: 1.2598 - accuracy: 0.5158 - val_loss: 1.2790 - val_accuracy: 0.5066\n",
      "Epoch 8/10\n",
      "493/493 [==============================] - 2s 4ms/step - loss: 1.2346 - accuracy: 0.5266 - val_loss: 1.2944 - val_accuracy: 0.5037\n",
      "Epoch 9/10\n",
      "493/493 [==============================] - 2s 4ms/step - loss: 1.2151 - accuracy: 0.5356 - val_loss: 1.2851 - val_accuracy: 0.5014\n",
      "Epoch 10/10\n",
      "493/493 [==============================] - 3s 6ms/step - loss: 1.1986 - accuracy: 0.5405 - val_loss: 1.2691 - val_accuracy: 0.5120\n",
      "Test loss: 1.2651939392089844\n",
      "Test accuracy: 0.5175999999046326\n"
     ]
    },
    {
     "data": {
      "image/png": "[encoded data removed]",
      "text/plain": [
       "<Figure size 432x288 with 1 Axes>"
      ]
     },
     "metadata": {
      "needs_background": "light",
      "tags": []
     },
     "output_type": "display_data"
    },
    {
     "data": {
      "image/png": "[encoded data removed]",
      "text/plain": [
       "<Figure size 432x288 with 1 Axes>"
      ]
     },
     "metadata": {
      "needs_background": "light",
      "tags": []
     },
     "output_type": "display_data"
    }
   ],
   "source": [
    "x = np.append(transformed, prod_1he.to_numpy(),axis=1)\n",
    "\n",
    "model = createModel(SGD(lr=0.01, momentum=0.9),CategoricalCrossentropy(),x.shape,y.shape)\n",
    "\n",
    "history,x_test,y_test = trainModel(model,x,y)\n",
    "score = model.evaluate(x_test, y_test, verbose=0)\n",
    "\n",
    "validateModel(history,score)"
   ]
  },
  {
   "cell_type": "markdown",
   "metadata": {
    "colab_type": "text",
    "id": "ahnksLhyRUjX"
   },
   "source": [
    "Adding products seems to give a way better performance. The model has about 50% accuracy now.\n",
    "\n",
    "We wonder if the model now makes predictions solely on product and company, since it might be possible that those predict issues way better than the dov2vec model.\n"
   ]
  },
  {
   "cell_type": "code",
   "execution_count": 0,
   "metadata": {
    "colab": {},
    "colab_type": "code",
    "id": "8jVoMY6XRSO2"
   },
   "outputs": [],
   "source": [
    "x = np.append(comp_1he.to_numpy(), prod_1he.to_numpy(),axis=1)\n",
    "\n",
    "model = createModel(SGD(lr=0.01, momentum=0.9),CategoricalCrossentropy(),x.shape,y.shape)\n",
    "\n",
    "history,x_test,y_test = trainModel(model,x,y)\n",
    "score = model.evaluate(x_test, y_test, verbose=0)\n",
    "\n",
    "validateModel(history,score)"
   ]
  },
  {
   "cell_type": "markdown",
   "metadata": {
    "colab_type": "text",
    "id": "PRmTo4yCTAAr"
   },
   "source": [
    "We still get an accuracy of 30%.  The loss function only improves with very minor steps compared to before, this means there's just not enough meaningful data to train the model with anymore. Since the accuracy is 30% and the model can not be trained further, we conclude that  there's no way the model can tell exactly what issue it's going to be depending on company and product. It is clear that the doc2vec model is very much needed for better predictions. \n",
    "\n",
    "\n",
    "Lastly we check how the model performs when adding all the features:\n"
   ]
  },
  {
   "cell_type": "code",
   "execution_count": 156,
   "metadata": {
    "colab": {
     "base_uri": "https://localhost:8080/",
     "height": 964
    },
    "colab_type": "code",
    "id": "WR5Cam5yTGga",
    "outputId": "59ebdb99-8fa1-4046-970a-43e74d962a20"
   },
   "outputs": [
    {
     "name": "stdout",
     "output_type": "stream",
     "text": [
      "(50000, 43)\n",
      "Epoch 1/10\n",
      "493/493 [==============================] - 4s 8ms/step - loss: 2.6752 - accuracy: 0.2160 - val_loss: 1.7281 - val_accuracy: 0.3094\n",
      "Epoch 2/10\n",
      "493/493 [==============================] - 4s 8ms/step - loss: 1.6069 - accuracy: 0.3526 - val_loss: 1.5715 - val_accuracy: 0.3554\n",
      "Epoch 3/10\n",
      "493/493 [==============================] - 4s 9ms/step - loss: 1.4714 - accuracy: 0.4151 - val_loss: 1.4369 - val_accuracy: 0.4437\n",
      "Epoch 4/10\n",
      "493/493 [==============================] - 4s 9ms/step - loss: 1.3755 - accuracy: 0.4603 - val_loss: 1.4248 - val_accuracy: 0.4306\n",
      "Epoch 5/10\n",
      "493/493 [==============================] - 4s 8ms/step - loss: 1.3153 - accuracy: 0.4896 - val_loss: 1.3583 - val_accuracy: 0.4731\n",
      "Epoch 6/10\n",
      "493/493 [==============================] - 4s 8ms/step - loss: 1.2767 - accuracy: 0.5056 - val_loss: 1.3232 - val_accuracy: 0.4877\n",
      "Epoch 7/10\n",
      "493/493 [==============================] - 4s 8ms/step - loss: 1.2422 - accuracy: 0.5199 - val_loss: 1.3136 - val_accuracy: 0.4994\n",
      "Epoch 8/10\n",
      "493/493 [==============================] - 4s 8ms/step - loss: 1.2135 - accuracy: 0.5358 - val_loss: 1.3002 - val_accuracy: 0.5049\n",
      "Epoch 9/10\n",
      "493/493 [==============================] - 4s 8ms/step - loss: 1.1876 - accuracy: 0.5446 - val_loss: 1.2896 - val_accuracy: 0.5151\n",
      "Epoch 10/10\n",
      "493/493 [==============================] - 4s 8ms/step - loss: 1.1625 - accuracy: 0.5595 - val_loss: 1.2731 - val_accuracy: 0.5226\n",
      "Test loss: 1.2374409437179565\n",
      "Test accuracy: 0.5241333246231079\n"
     ]
    },
    {
     "data": {
      "image/png": "[encoded data removed]",
      "text/plain": [
       "<Figure size 432x288 with 1 Axes>"
      ]
     },
     "metadata": {
      "needs_background": "light",
      "tags": []
     },
     "output_type": "display_data"
    },
    {
     "data": {
      "image/png": "[encoded data removed]",
      "text/plain": [
       "<Figure size 432x288 with 1 Axes>"
      ]
     },
     "metadata": {
      "needs_background": "light",
      "tags": []
     },
     "output_type": "display_data"
    }
   ],
   "source": [
    "x = np.append(comp_1he.to_numpy(), prod_1he.to_numpy(),axis=1)\n",
    "x = np.append(transformed, x, axis=1)\n",
    "\n",
    "model = createModel(SGD(lr=0.01, momentum=0.9),CategoricalCrossentropy(),x.shape,y.shape)\n",
    "\n",
    "history,x_test,y_test = trainModel(model,x,y)\n",
    "score = model.evaluate(x_test, y_test, verbose=0)\n",
    "\n",
    "validateModel(history,score)"
   ]
  },
  {
   "cell_type": "markdown",
   "metadata": {
    "colab_type": "text",
    "id": "uCg-e3A5RgSB"
   },
   "source": [
    "#### Conclusions of PoC\n",
    "\n",
    "At this point we are able to conclude the following:\n",
    "- The model seems to work quite well. We get an accuracy of about 50% with a standard Keras model. It is worth to look further into this problem.\n",
    "- We get the best performance using all chosen features. The company names are not as neccesary, it gives a marginal performance boost. However more data doesn't hurt\n",
    "\n",
    ">**note**: Since we have a limited amount of time and we set ourselves an ambitious goal we will not focus that much on the accuracy of the model. We did this in previous sprints. During Sprint 3 we mainly want to complete the full end-to-end flow of machine learning."
   ]
  },
  {
   "cell_type": "markdown",
   "metadata": {
    "colab_type": "text",
    "id": "sN1EDb2HUDAr"
   },
   "source": [
    "## Making our solution available for actual users\n",
    "\n",
    "As mentioned earlier, we will make use of the Google Cloud Platform in order to accomplish productionizing the model.\n",
    "\n",
    "Our goal is that we can serve the prediction capabilities of our machine learning model trough an API endpoint. \n",
    "\n",
    "The following section describes the workflow we went through. However, not all code might be runnable since GCP requires authentication. The model however will be publicly addressable to show we actually accomplished our goal. "
   ]
  },
  {
   "cell_type": "markdown",
   "metadata": {
    "colab_type": "text",
    "id": "Yl3suptVVXZD"
   },
   "source": [
    "### Tensorflow\n",
    "\n",
    "In order to create a model that can be served on the GCP we will make use of the estimator API. The estimator API allows us to make use of canned estimators. We decided to use the canned estimators instead of creating our own estimator.\n",
    "\n",
    "The estimator API takes away a lot of the complexity around productionizing a machine learning model. The concerns around distributed training etc. are handled for us. \n",
    "\n",
    "#### Creating feature columns\n",
    "\n",
    "Feature columns define what types of features we will work with. (We experimented with feature crosses to make use of memorization. However, this did not improve our model so we left it out in the end.)"
   ]
  },
  {
   "cell_type": "code",
   "execution_count": 0,
   "metadata": {
    "colab": {},
    "colab_type": "code",
    "id": "Po1GDzjjR5or"
   },
   "outputs": [],
   "source": [
    "def get_feature_columns():\n",
    "    return [\n",
    "        # tf.feature_column.crossed_column(['Product', 'Company'], len(COMP_VOCAB) * len(PROD_VOCAB))\n",
    "        # one hot encoding of the categorical product column (using vocab)\n",
    "        tf.feature_column.indicator_column(tf.feature_column.categorical_column_with_vocabulary_list('Product', PROD_VOCAB)),\n",
    "        # one hot encoding of the categorical company column (using vocab)\n",
    "        tf.feature_column.indicator_column(tf.feature_column.categorical_column_with_vocabulary_list('Company', COMP_VOCAB)),\n",
    "        # embedding of text using premade model \n",
    "        hub.text_embedding_column('Message', module_spec=\"https://tfhub.dev/google/nnlm-en-dim128/1\")\n",
    "    ]"
   ]
  },
  {
   "cell_type": "markdown",
   "metadata": {
    "colab_type": "text",
    "id": "kOznrR5YWs9J"
   },
   "source": [
    "> **Note**: We used a premade model for text embedding. Originally, we wanted to use Doc2Vec like we did in the PoC but we did not know how.\n",
    "\n",
    "\n",
    "#### Input functions\n",
    "\n",
    "We need to define input functions so that our model uses the right data in the right situation. Also, an extra input function needs to be created that defines how the deployed model should handle input.\n",
    "\n",
    "The following function details how the batch datasets should be created from csv files:"
   ]
  },
  {
   "cell_type": "code",
   "execution_count": 0,
   "metadata": {
    "colab": {},
    "colab_type": "code",
    "id": "Y95z7npc_OyX"
   },
   "outputs": [],
   "source": [
    "def get_dataset(file_path, tf_mode, batch_size=512):\n",
    "    def _input_fn():\n",
    "    \n",
    "        if tf_mode == tf.estimator.ModeKeys.TRAIN:\n",
    "            num_epochs = None\n",
    "            shuffle=True\n",
    "            shuffle_buffer_size=10*batch_size\n",
    "        else:\n",
    "            num_epochs = 1\n",
    "            shuffle=False\n",
    "            shuffle_buffer_size=None\n",
    "\n",
    "        return tf.data.experimental.make_csv_dataset(\n",
    "          file_path,\n",
    "          batch_size=batch_size, \n",
    "          label_name=TARGET_LABEL,\n",
    "          num_epochs=num_epochs,\n",
    "          shuffle=shuffle,\n",
    "          shuffle_buffer_size=shuffle_buffer_size\n",
    "        )\n",
    "\n",
    "    return _input_fn"
   ]
  },
  {
   "cell_type": "markdown",
   "metadata": {
    "colab_type": "text",
    "id": "iHATUPZtBWUR"
   },
   "source": [
    "These 3 functions create the required input_fn functions based upon the chosen scenario:"
   ]
  },
  {
   "cell_type": "code",
   "execution_count": 0,
   "metadata": {
    "colab": {},
    "colab_type": "code",
    "id": "RE6tPA5cVV8W"
   },
   "outputs": [],
   "source": [
    "def get_train_input_fn():\n",
    "    return get_dataset('./preproc/balanced_train_larger.csv', tf.estimator.ModeKeys.TRAIN)\n",
    "\n",
    "def get_eval_input_fn():\n",
    "    return get_dataset('./preproc/eval_data.csv', tf.estimator.ModeKeys.EVAL)\n",
    "  \n",
    "def get_test_input_fn():\n",
    "    return get_dataset('./preproc/test_data.csv', tf.estimator.ModeKeys.PREDICT)"
   ]
  },
  {
   "cell_type": "markdown",
   "metadata": {
    "colab_type": "text",
    "id": "PTClFFzPBeo0"
   },
   "source": [
    "An extra input function needs to be created that tells the model how it should handle input when the model is served:"
   ]
  },
  {
   "cell_type": "code",
   "execution_count": 0,
   "metadata": {
    "colab": {},
    "colab_type": "code",
    "id": "efMoS-Z3XhjY"
   },
   "outputs": [],
   "source": [
    "def get_serve_input_fn():\n",
    "\n",
    "  # We'll receive 3 inputs, all of them are strings\n",
    "    feat_placeholders = {\n",
    "      'Product' : tf.placeholder(tf.string, [None]), \n",
    "      'Company' : tf.placeholder(tf.string, [None]), \n",
    "      'Message' : tf.placeholder(tf.string, [None])\n",
    "    }\n",
    "\n",
    "    features = feat_placeholders\n",
    "\n",
    "    return tf.estimator.export.ServingInputReceiver(features, feat_placeholders)"
   ]
  },
  {
   "cell_type": "markdown",
   "metadata": {
    "colab_type": "text",
    "id": "kmlO4sLyXxY1"
   },
   "source": [
    "#### Experimenting with different types of models \n",
    "\n",
    "\n",
    "Since canned estimators allow us to try different types of models relatively easy, we decided to try three different models. \n",
    "\n",
    "\n",
    "##### Linear model \n",
    "\n",
    "The first model we tried was a Linear Classifier."
   ]
  },
  {
   "cell_type": "code",
   "execution_count": 0,
   "metadata": {
    "colab": {},
    "colab_type": "code",
    "id": "hzBnREwnXkrP"
   },
   "outputs": [],
   "source": [
    "# Train and evaluate with canned estimator\n",
    "def train_and_evaluate_lin(model_dir, steps):\n",
    "\n",
    "    # This ensures that eval points can be created for tensorboard analysis\n",
    "    #tf.summary.FileWriterCache.clear()\n",
    "\n",
    "    # Configuration of the run (commented lines determine the amount of eval points created)\n",
    "    run_config = tf.estimator.RunConfig(\n",
    "        model_dir = model_dir, \n",
    "        #save_summary_steps=100, \n",
    "        #save_checkpoints_steps=100\n",
    "    )\n",
    "\n",
    "    # Create the estimator\n",
    "    estimator = tf.estimator.LinearClassifier(\n",
    "        config = run_config,\n",
    "        feature_columns = get_feature_columns(), \n",
    "        n_classes = len(ISS_VOCAB),\n",
    "        label_vocabulary=ISS_VOCAB\n",
    "    )\n",
    "\n",
    "  # Create exporter\n",
    "    exporter = tf.estimator.LatestExporter('exporter', get_serve_input_fn)\n",
    "\n",
    "  # Define the training specifications\n",
    "    train_spec = tf.estimator.TrainSpec(\n",
    "        input_fn = get_train_input_fn(),\n",
    "        max_steps = steps\n",
    "    )\n",
    "\n",
    "  # Define the evaluatin specifications\n",
    "    eval_spec = tf.estimator.EvalSpec(\n",
    "        input_fn = get_eval_input_fn(),\n",
    "        exporters = exporter\n",
    "    )\n",
    "\n",
    "  # Call the actual train and evaluate function \n",
    "    tf.estimator.train_and_evaluate(estimator, train_spec, eval_spec)"
   ]
  },
  {
   "cell_type": "markdown",
   "metadata": {
    "colab_type": "text",
    "id": "s_TSVI_yRLIP"
   },
   "source": [
    "Let's train this model:"
   ]
  },
  {
   "cell_type": "code",
   "execution_count": 16,
   "metadata": {
    "colab": {
     "base_uri": "https://localhost:8080/",
     "height": 1000
    },
    "colab_type": "code",
    "id": "_2Uj9tx1Xwpb",
    "outputId": "5d29bba2-b12c-4ecc-fd50-b8d74795e454"
   },
   "outputs": [
    {
     "name": "stdout",
     "output_type": "stream",
     "text": [
      "INFO:tensorflow:Using config: {'_model_dir': 'linear_model', '_tf_random_seed': None, '_save_summary_steps': 100, '_save_checkpoints_steps': None, '_save_checkpoints_secs': 600, '_session_config': allow_soft_placement: true\n",
      "graph_options {\n",
      "  rewrite_options {\n",
      "    meta_optimizer_iterations: ONE\n",
      "  }\n",
      "}\n",
      ", '_keep_checkpoint_max': 5, '_keep_checkpoint_every_n_hours': 10000, '_log_step_count_steps': 100, '_train_distribute': None, '_device_fn': None, '_protocol': None, '_eval_distribute': None, '_experimental_distribute': None, '_experimental_max_worker_delay_secs': None, '_session_creation_timeout_secs': 7200, '_service': None, '_cluster_spec': <tensorflow.python.training.server_lib.ClusterSpec object at 0x7f451165f780>, '_task_type': 'worker', '_task_id': 0, '_global_id_in_cluster': 0, '_master': '', '_evaluation_master': '', '_is_chief': True, '_num_ps_replicas': 0, '_num_worker_replicas': 1}\n"
     ]
    },
    {
     "name": "stderr",
     "output_type": "stream",
     "text": [
      "INFO:tensorflow:Using config: {'_model_dir': 'linear_model', '_tf_random_seed': None, '_save_summary_steps': 100, '_save_checkpoints_steps': None, '_save_checkpoints_secs': 600, '_session_config': allow_soft_placement: true\n",
      "graph_options {\n",
      "  rewrite_options {\n",
      "    meta_optimizer_iterations: ONE\n",
      "  }\n",
      "}\n",
      ", '_keep_checkpoint_max': 5, '_keep_checkpoint_every_n_hours': 10000, '_log_step_count_steps': 100, '_train_distribute': None, '_device_fn': None, '_protocol': None, '_eval_distribute': None, '_experimental_distribute': None, '_experimental_max_worker_delay_secs': None, '_session_creation_timeout_secs': 7200, '_service': None, '_cluster_spec': <tensorflow.python.training.server_lib.ClusterSpec object at 0x7f451165f780>, '_task_type': 'worker', '_task_id': 0, '_global_id_in_cluster': 0, '_master': '', '_evaluation_master': '', '_is_chief': True, '_num_ps_replicas': 0, '_num_worker_replicas': 1}\n"
     ]
    },
    {
     "name": "stdout",
     "output_type": "stream",
     "text": [
      "INFO:tensorflow:Not using Distribute Coordinator.\n"
     ]
    },
    {
     "name": "stderr",
     "output_type": "stream",
     "text": [
      "INFO:tensorflow:Not using Distribute Coordinator.\n"
     ]
    },
    {
     "name": "stdout",
     "output_type": "stream",
     "text": [
      "INFO:tensorflow:Running training and evaluation locally (non-distributed).\n"
     ]
    },
    {
     "name": "stderr",
     "output_type": "stream",
     "text": [
      "INFO:tensorflow:Running training and evaluation locally (non-distributed).\n"
     ]
    },
    {
     "name": "stdout",
     "output_type": "stream",
     "text": [
      "INFO:tensorflow:Start train and evaluate loop. The evaluate will happen after every checkpoint. Checkpoint frequency is determined based on RunConfig arguments: save_checkpoints_steps None or save_checkpoints_secs 600.\n"
     ]
    },
    {
     "name": "stderr",
     "output_type": "stream",
     "text": [
      "INFO:tensorflow:Start train and evaluate loop. The evaluate will happen after every checkpoint. Checkpoint frequency is determined based on RunConfig arguments: save_checkpoints_steps None or save_checkpoints_secs 600.\n"
     ]
    },
    {
     "name": "stdout",
     "output_type": "stream",
     "text": [
      "WARNING:tensorflow:From /tensorflow-1.15.2/python3.6/tensorflow_core/python/training/training_util.py:236: Variable.initialized_value (from tensorflow.python.ops.variables) is deprecated and will be removed in a future version.\n",
      "Instructions for updating:\n",
      "Use Variable.read_value. Variables in 2.X are initialized automatically both in eager and graph (inside tf.defun) contexts.\n"
     ]
    },
    {
     "name": "stderr",
     "output_type": "stream",
     "text": [
      "WARNING:tensorflow:From /tensorflow-1.15.2/python3.6/tensorflow_core/python/training/training_util.py:236: Variable.initialized_value (from tensorflow.python.ops.variables) is deprecated and will be removed in a future version.\n",
      "Instructions for updating:\n",
      "Use Variable.read_value. Variables in 2.X are initialized automatically both in eager and graph (inside tf.defun) contexts.\n"
     ]
    },
    {
     "name": "stdout",
     "output_type": "stream",
     "text": [
      "WARNING:tensorflow:From /tensorflow-1.15.2/python3.6/tensorflow_core/python/data/experimental/ops/readers.py:214: shuffle_and_repeat (from tensorflow.python.data.experimental.ops.shuffle_ops) is deprecated and will be removed in a future version.\n",
      "Instructions for updating:\n",
      "Use `tf.data.Dataset.shuffle(buffer_size, seed)` followed by `tf.data.Dataset.repeat(count)`. Static tf.data optimizations will take care of using the fused implementation.\n"
     ]
    },
    {
     "name": "stderr",
     "output_type": "stream",
     "text": [
      "WARNING:tensorflow:From /tensorflow-1.15.2/python3.6/tensorflow_core/python/data/experimental/ops/readers.py:214: shuffle_and_repeat (from tensorflow.python.data.experimental.ops.shuffle_ops) is deprecated and will be removed in a future version.\n",
      "Instructions for updating:\n",
      "Use `tf.data.Dataset.shuffle(buffer_size, seed)` followed by `tf.data.Dataset.repeat(count)`. Static tf.data optimizations will take care of using the fused implementation.\n"
     ]
    },
    {
     "name": "stdout",
     "output_type": "stream",
     "text": [
      "INFO:tensorflow:Calling model_fn.\n"
     ]
    },
    {
     "name": "stderr",
     "output_type": "stream",
     "text": [
      "INFO:tensorflow:Calling model_fn.\n"
     ]
    },
    {
     "name": "stdout",
     "output_type": "stream",
     "text": [
      "INFO:tensorflow:Saver not created because there are no variables in the graph to restore\n"
     ]
    },
    {
     "name": "stderr",
     "output_type": "stream",
     "text": [
      "INFO:tensorflow:Saver not created because there are no variables in the graph to restore\n"
     ]
    },
    {
     "name": "stdout",
     "output_type": "stream",
     "text": [
      "INFO:tensorflow:Saver not created because there are no variables in the graph to restore\n"
     ]
    },
    {
     "name": "stderr",
     "output_type": "stream",
     "text": [
      "INFO:tensorflow:Saver not created because there are no variables in the graph to restore\n"
     ]
    },
    {
     "name": "stdout",
     "output_type": "stream",
     "text": [
      "INFO:tensorflow:Done calling model_fn.\n"
     ]
    },
    {
     "name": "stderr",
     "output_type": "stream",
     "text": [
      "INFO:tensorflow:Done calling model_fn.\n"
     ]
    },
    {
     "name": "stdout",
     "output_type": "stream",
     "text": [
      "INFO:tensorflow:Create CheckpointSaverHook.\n"
     ]
    },
    {
     "name": "stderr",
     "output_type": "stream",
     "text": [
      "INFO:tensorflow:Create CheckpointSaverHook.\n"
     ]
    },
    {
     "name": "stdout",
     "output_type": "stream",
     "text": [
      "INFO:tensorflow:Graph was finalized.\n"
     ]
    },
    {
     "name": "stderr",
     "output_type": "stream",
     "text": [
      "INFO:tensorflow:Graph was finalized.\n"
     ]
    },
    {
     "name": "stdout",
     "output_type": "stream",
     "text": [
      "INFO:tensorflow:Running local_init_op.\n"
     ]
    },
    {
     "name": "stderr",
     "output_type": "stream",
     "text": [
      "INFO:tensorflow:Running local_init_op.\n"
     ]
    },
    {
     "name": "stdout",
     "output_type": "stream",
     "text": [
      "INFO:tensorflow:Done running local_init_op.\n"
     ]
    },
    {
     "name": "stderr",
     "output_type": "stream",
     "text": [
      "INFO:tensorflow:Done running local_init_op.\n"
     ]
    },
    {
     "name": "stdout",
     "output_type": "stream",
     "text": [
      "INFO:tensorflow:Saving checkpoints for 0 into linear_model/model.ckpt.\n"
     ]
    },
    {
     "name": "stderr",
     "output_type": "stream",
     "text": [
      "INFO:tensorflow:Saving checkpoints for 0 into linear_model/model.ckpt.\n"
     ]
    },
    {
     "name": "stdout",
     "output_type": "stream",
     "text": [
      "INFO:tensorflow:loss = 2013.0939, step = 1\n"
     ]
    },
    {
     "name": "stderr",
     "output_type": "stream",
     "text": [
      "INFO:tensorflow:loss = 2013.0939, step = 1\n"
     ]
    },
    {
     "name": "stdout",
     "output_type": "stream",
     "text": [
      "INFO:tensorflow:global_step/sec: 21.6526\n"
     ]
    },
    {
     "name": "stderr",
     "output_type": "stream",
     "text": [
      "INFO:tensorflow:global_step/sec: 21.6526\n"
     ]
    },
    {
     "name": "stdout",
     "output_type": "stream",
     "text": [
      "INFO:tensorflow:loss = 102.26984, step = 101 (4.623 sec)\n"
     ]
    },
    {
     "name": "stderr",
     "output_type": "stream",
     "text": [
      "INFO:tensorflow:loss = 102.26984, step = 101 (4.623 sec)\n"
     ]
    },
    {
     "name": "stdout",
     "output_type": "stream",
     "text": [
      "INFO:tensorflow:global_step/sec: 19.6284\n"
     ]
    },
    {
     "name": "stderr",
     "output_type": "stream",
     "text": [
      "INFO:tensorflow:global_step/sec: 19.6284\n"
     ]
    },
    {
     "name": "stdout",
     "output_type": "stream",
     "text": [
      "INFO:tensorflow:loss = 257.63782, step = 201 (5.094 sec)\n"
     ]
    },
    {
     "name": "stderr",
     "output_type": "stream",
     "text": [
      "INFO:tensorflow:loss = 257.63782, step = 201 (5.094 sec)\n"
     ]
    },
    {
     "name": "stdout",
     "output_type": "stream",
     "text": [
      "INFO:tensorflow:global_step/sec: 19.9852\n"
     ]
    },
    {
     "name": "stderr",
     "output_type": "stream",
     "text": [
      "INFO:tensorflow:global_step/sec: 19.9852\n"
     ]
    },
    {
     "name": "stdout",
     "output_type": "stream",
     "text": [
      "INFO:tensorflow:loss = 536.1742, step = 301 (5.010 sec)\n"
     ]
    },
    {
     "name": "stderr",
     "output_type": "stream",
     "text": [
      "INFO:tensorflow:loss = 536.1742, step = 301 (5.010 sec)\n"
     ]
    },
    {
     "name": "stdout",
     "output_type": "stream",
     "text": [
      "INFO:tensorflow:global_step/sec: 20.3767\n"
     ]
    },
    {
     "name": "stderr",
     "output_type": "stream",
     "text": [
      "INFO:tensorflow:global_step/sec: 20.3767\n"
     ]
    },
    {
     "name": "stdout",
     "output_type": "stream",
     "text": [
      "INFO:tensorflow:loss = 239.01494, step = 401 (4.899 sec)\n"
     ]
    },
    {
     "name": "stderr",
     "output_type": "stream",
     "text": [
      "INFO:tensorflow:loss = 239.01494, step = 401 (4.899 sec)\n"
     ]
    },
    {
     "name": "stdout",
     "output_type": "stream",
     "text": [
      "INFO:tensorflow:global_step/sec: 22.035\n"
     ]
    },
    {
     "name": "stderr",
     "output_type": "stream",
     "text": [
      "INFO:tensorflow:global_step/sec: 22.035\n"
     ]
    },
    {
     "name": "stdout",
     "output_type": "stream",
     "text": [
      "INFO:tensorflow:loss = 806.36414, step = 501 (4.539 sec)\n"
     ]
    },
    {
     "name": "stderr",
     "output_type": "stream",
     "text": [
      "INFO:tensorflow:loss = 806.36414, step = 501 (4.539 sec)\n"
     ]
    },
    {
     "name": "stdout",
     "output_type": "stream",
     "text": [
      "INFO:tensorflow:global_step/sec: 22.0491\n"
     ]
    },
    {
     "name": "stderr",
     "output_type": "stream",
     "text": [
      "INFO:tensorflow:global_step/sec: 22.0491\n"
     ]
    },
    {
     "name": "stdout",
     "output_type": "stream",
     "text": [
      "INFO:tensorflow:loss = 88.04238, step = 601 (4.537 sec)\n"
     ]
    },
    {
     "name": "stderr",
     "output_type": "stream",
     "text": [
      "INFO:tensorflow:loss = 88.04238, step = 601 (4.537 sec)\n"
     ]
    },
    {
     "name": "stdout",
     "output_type": "stream",
     "text": [
      "INFO:tensorflow:global_step/sec: 18.7532\n"
     ]
    },
    {
     "name": "stderr",
     "output_type": "stream",
     "text": [
      "INFO:tensorflow:global_step/sec: 18.7532\n"
     ]
    },
    {
     "name": "stdout",
     "output_type": "stream",
     "text": [
      "INFO:tensorflow:loss = 155.47095, step = 701 (5.330 sec)\n"
     ]
    },
    {
     "name": "stderr",
     "output_type": "stream",
     "text": [
      "INFO:tensorflow:loss = 155.47095, step = 701 (5.330 sec)\n"
     ]
    },
    {
     "name": "stdout",
     "output_type": "stream",
     "text": [
      "INFO:tensorflow:global_step/sec: 19.5243\n"
     ]
    },
    {
     "name": "stderr",
     "output_type": "stream",
     "text": [
      "INFO:tensorflow:global_step/sec: 19.5243\n"
     ]
    },
    {
     "name": "stdout",
     "output_type": "stream",
     "text": [
      "INFO:tensorflow:loss = 85.31258, step = 801 (5.123 sec)\n"
     ]
    },
    {
     "name": "stderr",
     "output_type": "stream",
     "text": [
      "INFO:tensorflow:loss = 85.31258, step = 801 (5.123 sec)\n"
     ]
    },
    {
     "name": "stdout",
     "output_type": "stream",
     "text": [
      "INFO:tensorflow:global_step/sec: 20.5884\n"
     ]
    },
    {
     "name": "stderr",
     "output_type": "stream",
     "text": [
      "INFO:tensorflow:global_step/sec: 20.5884\n"
     ]
    },
    {
     "name": "stdout",
     "output_type": "stream",
     "text": [
      "INFO:tensorflow:loss = 733.8917, step = 901 (4.858 sec)\n"
     ]
    },
    {
     "name": "stderr",
     "output_type": "stream",
     "text": [
      "INFO:tensorflow:loss = 733.8917, step = 901 (4.858 sec)\n"
     ]
    },
    {
     "name": "stdout",
     "output_type": "stream",
     "text": [
      "INFO:tensorflow:global_step/sec: 22.2668\n"
     ]
    },
    {
     "name": "stderr",
     "output_type": "stream",
     "text": [
      "INFO:tensorflow:global_step/sec: 22.2668\n"
     ]
    },
    {
     "name": "stdout",
     "output_type": "stream",
     "text": [
      "INFO:tensorflow:loss = 258.0144, step = 1001 (4.491 sec)\n"
     ]
    },
    {
     "name": "stderr",
     "output_type": "stream",
     "text": [
      "INFO:tensorflow:loss = 258.0144, step = 1001 (4.491 sec)\n"
     ]
    },
    {
     "name": "stdout",
     "output_type": "stream",
     "text": [
      "INFO:tensorflow:global_step/sec: 22.0528\n"
     ]
    },
    {
     "name": "stderr",
     "output_type": "stream",
     "text": [
      "INFO:tensorflow:global_step/sec: 22.0528\n"
     ]
    },
    {
     "name": "stdout",
     "output_type": "stream",
     "text": [
      "INFO:tensorflow:loss = 180.45056, step = 1101 (4.535 sec)\n"
     ]
    },
    {
     "name": "stderr",
     "output_type": "stream",
     "text": [
      "INFO:tensorflow:loss = 180.45056, step = 1101 (4.535 sec)\n"
     ]
    },
    {
     "name": "stdout",
     "output_type": "stream",
     "text": [
      "INFO:tensorflow:global_step/sec: 19.0132\n"
     ]
    },
    {
     "name": "stderr",
     "output_type": "stream",
     "text": [
      "INFO:tensorflow:global_step/sec: 19.0132\n"
     ]
    },
    {
     "name": "stdout",
     "output_type": "stream",
     "text": [
      "INFO:tensorflow:loss = 165.91916, step = 1201 (5.258 sec)\n"
     ]
    },
    {
     "name": "stderr",
     "output_type": "stream",
     "text": [
      "INFO:tensorflow:loss = 165.91916, step = 1201 (5.258 sec)\n"
     ]
    },
    {
     "name": "stdout",
     "output_type": "stream",
     "text": [
      "INFO:tensorflow:global_step/sec: 19.5309\n"
     ]
    },
    {
     "name": "stderr",
     "output_type": "stream",
     "text": [
      "INFO:tensorflow:global_step/sec: 19.5309\n"
     ]
    },
    {
     "name": "stdout",
     "output_type": "stream",
     "text": [
      "INFO:tensorflow:loss = 108.40801, step = 1301 (5.123 sec)\n"
     ]
    },
    {
     "name": "stderr",
     "output_type": "stream",
     "text": [
      "INFO:tensorflow:loss = 108.40801, step = 1301 (5.123 sec)\n"
     ]
    },
    {
     "name": "stdout",
     "output_type": "stream",
     "text": [
      "INFO:tensorflow:global_step/sec: 20.3357\n"
     ]
    },
    {
     "name": "stderr",
     "output_type": "stream",
     "text": [
      "INFO:tensorflow:global_step/sec: 20.3357\n"
     ]
    },
    {
     "name": "stdout",
     "output_type": "stream",
     "text": [
      "INFO:tensorflow:loss = 287.7892, step = 1401 (4.917 sec)\n"
     ]
    },
    {
     "name": "stderr",
     "output_type": "stream",
     "text": [
      "INFO:tensorflow:loss = 287.7892, step = 1401 (4.917 sec)\n"
     ]
    },
    {
     "name": "stdout",
     "output_type": "stream",
     "text": [
      "INFO:tensorflow:global_step/sec: 21.7148\n"
     ]
    },
    {
     "name": "stderr",
     "output_type": "stream",
     "text": [
      "INFO:tensorflow:global_step/sec: 21.7148\n"
     ]
    },
    {
     "name": "stdout",
     "output_type": "stream",
     "text": [
      "INFO:tensorflow:loss = 66.41612, step = 1501 (4.606 sec)\n"
     ]
    },
    {
     "name": "stderr",
     "output_type": "stream",
     "text": [
      "INFO:tensorflow:loss = 66.41612, step = 1501 (4.606 sec)\n"
     ]
    },
    {
     "name": "stdout",
     "output_type": "stream",
     "text": [
      "INFO:tensorflow:global_step/sec: 21.9913\n"
     ]
    },
    {
     "name": "stderr",
     "output_type": "stream",
     "text": [
      "INFO:tensorflow:global_step/sec: 21.9913\n"
     ]
    },
    {
     "name": "stdout",
     "output_type": "stream",
     "text": [
      "INFO:tensorflow:loss = 211.69897, step = 1601 (4.544 sec)\n"
     ]
    },
    {
     "name": "stderr",
     "output_type": "stream",
     "text": [
      "INFO:tensorflow:loss = 211.69897, step = 1601 (4.544 sec)\n"
     ]
    },
    {
     "name": "stdout",
     "output_type": "stream",
     "text": [
      "INFO:tensorflow:global_step/sec: 19.101\n"
     ]
    },
    {
     "name": "stderr",
     "output_type": "stream",
     "text": [
      "INFO:tensorflow:global_step/sec: 19.101\n"
     ]
    },
    {
     "name": "stdout",
     "output_type": "stream",
     "text": [
      "INFO:tensorflow:loss = 161.26776, step = 1701 (5.239 sec)\n"
     ]
    },
    {
     "name": "stderr",
     "output_type": "stream",
     "text": [
      "INFO:tensorflow:loss = 161.26776, step = 1701 (5.239 sec)\n"
     ]
    },
    {
     "name": "stdout",
     "output_type": "stream",
     "text": [
      "INFO:tensorflow:global_step/sec: 19.7586\n"
     ]
    },
    {
     "name": "stderr",
     "output_type": "stream",
     "text": [
      "INFO:tensorflow:global_step/sec: 19.7586\n"
     ]
    },
    {
     "name": "stdout",
     "output_type": "stream",
     "text": [
      "INFO:tensorflow:loss = 114.39036, step = 1801 (5.059 sec)\n"
     ]
    },
    {
     "name": "stderr",
     "output_type": "stream",
     "text": [
      "INFO:tensorflow:loss = 114.39036, step = 1801 (5.059 sec)\n"
     ]
    },
    {
     "name": "stdout",
     "output_type": "stream",
     "text": [
      "INFO:tensorflow:global_step/sec: 21.337\n"
     ]
    },
    {
     "name": "stderr",
     "output_type": "stream",
     "text": [
      "INFO:tensorflow:global_step/sec: 21.337\n"
     ]
    },
    {
     "name": "stdout",
     "output_type": "stream",
     "text": [
      "INFO:tensorflow:loss = 287.15298, step = 1901 (4.686 sec)\n"
     ]
    },
    {
     "name": "stderr",
     "output_type": "stream",
     "text": [
      "INFO:tensorflow:loss = 287.15298, step = 1901 (4.686 sec)\n"
     ]
    },
    {
     "name": "stdout",
     "output_type": "stream",
     "text": [
      "INFO:tensorflow:Saving checkpoints for 2000 into linear_model/model.ckpt.\n"
     ]
    },
    {
     "name": "stderr",
     "output_type": "stream",
     "text": [
      "INFO:tensorflow:Saving checkpoints for 2000 into linear_model/model.ckpt.\n"
     ]
    },
    {
     "name": "stdout",
     "output_type": "stream",
     "text": [
      "INFO:tensorflow:Calling model_fn.\n"
     ]
    },
    {
     "name": "stderr",
     "output_type": "stream",
     "text": [
      "INFO:tensorflow:Calling model_fn.\n"
     ]
    },
    {
     "name": "stdout",
     "output_type": "stream",
     "text": [
      "INFO:tensorflow:Saver not created because there are no variables in the graph to restore\n"
     ]
    },
    {
     "name": "stderr",
     "output_type": "stream",
     "text": [
      "INFO:tensorflow:Saver not created because there are no variables in the graph to restore\n"
     ]
    },
    {
     "name": "stdout",
     "output_type": "stream",
     "text": [
      "INFO:tensorflow:Saver not created because there are no variables in the graph to restore\n"
     ]
    },
    {
     "name": "stderr",
     "output_type": "stream",
     "text": [
      "INFO:tensorflow:Saver not created because there are no variables in the graph to restore\n"
     ]
    },
    {
     "name": "stdout",
     "output_type": "stream",
     "text": [
      "INFO:tensorflow:Done calling model_fn.\n"
     ]
    },
    {
     "name": "stderr",
     "output_type": "stream",
     "text": [
      "INFO:tensorflow:Done calling model_fn.\n"
     ]
    },
    {
     "name": "stdout",
     "output_type": "stream",
     "text": [
      "INFO:tensorflow:Starting evaluation at 2020-05-31T07:08:20Z\n"
     ]
    },
    {
     "name": "stderr",
     "output_type": "stream",
     "text": [
      "INFO:tensorflow:Starting evaluation at 2020-05-31T07:08:20Z\n"
     ]
    },
    {
     "name": "stdout",
     "output_type": "stream",
     "text": [
      "INFO:tensorflow:Graph was finalized.\n"
     ]
    },
    {
     "name": "stderr",
     "output_type": "stream",
     "text": [
      "INFO:tensorflow:Graph was finalized.\n"
     ]
    },
    {
     "name": "stdout",
     "output_type": "stream",
     "text": [
      "INFO:tensorflow:Restoring parameters from linear_model/model.ckpt-2000\n"
     ]
    },
    {
     "name": "stderr",
     "output_type": "stream",
     "text": [
      "INFO:tensorflow:Restoring parameters from linear_model/model.ckpt-2000\n"
     ]
    },
    {
     "name": "stdout",
     "output_type": "stream",
     "text": [
      "INFO:tensorflow:Running local_init_op.\n"
     ]
    },
    {
     "name": "stderr",
     "output_type": "stream",
     "text": [
      "INFO:tensorflow:Running local_init_op.\n"
     ]
    },
    {
     "name": "stdout",
     "output_type": "stream",
     "text": [
      "INFO:tensorflow:Done running local_init_op.\n"
     ]
    },
    {
     "name": "stderr",
     "output_type": "stream",
     "text": [
      "INFO:tensorflow:Done running local_init_op.\n"
     ]
    },
    {
     "name": "stdout",
     "output_type": "stream",
     "text": [
      "INFO:tensorflow:Evaluation [10/100]\n"
     ]
    },
    {
     "name": "stderr",
     "output_type": "stream",
     "text": [
      "INFO:tensorflow:Evaluation [10/100]\n"
     ]
    },
    {
     "name": "stdout",
     "output_type": "stream",
     "text": [
      "INFO:tensorflow:Evaluation [20/100]\n"
     ]
    },
    {
     "name": "stderr",
     "output_type": "stream",
     "text": [
      "INFO:tensorflow:Evaluation [20/100]\n"
     ]
    },
    {
     "name": "stdout",
     "output_type": "stream",
     "text": [
      "INFO:tensorflow:Evaluation [30/100]\n"
     ]
    },
    {
     "name": "stderr",
     "output_type": "stream",
     "text": [
      "INFO:tensorflow:Evaluation [30/100]\n"
     ]
    },
    {
     "name": "stdout",
     "output_type": "stream",
     "text": [
      "INFO:tensorflow:Evaluation [40/100]\n"
     ]
    },
    {
     "name": "stderr",
     "output_type": "stream",
     "text": [
      "INFO:tensorflow:Evaluation [40/100]\n"
     ]
    },
    {
     "name": "stdout",
     "output_type": "stream",
     "text": [
      "INFO:tensorflow:Evaluation [50/100]\n"
     ]
    },
    {
     "name": "stderr",
     "output_type": "stream",
     "text": [
      "INFO:tensorflow:Evaluation [50/100]\n"
     ]
    },
    {
     "name": "stdout",
     "output_type": "stream",
     "text": [
      "INFO:tensorflow:Evaluation [60/100]\n"
     ]
    },
    {
     "name": "stderr",
     "output_type": "stream",
     "text": [
      "INFO:tensorflow:Evaluation [60/100]\n"
     ]
    },
    {
     "name": "stdout",
     "output_type": "stream",
     "text": [
      "INFO:tensorflow:Evaluation [70/100]\n"
     ]
    },
    {
     "name": "stderr",
     "output_type": "stream",
     "text": [
      "INFO:tensorflow:Evaluation [70/100]\n"
     ]
    },
    {
     "name": "stdout",
     "output_type": "stream",
     "text": [
      "INFO:tensorflow:Evaluation [80/100]\n"
     ]
    },
    {
     "name": "stderr",
     "output_type": "stream",
     "text": [
      "INFO:tensorflow:Evaluation [80/100]\n"
     ]
    },
    {
     "name": "stdout",
     "output_type": "stream",
     "text": [
      "INFO:tensorflow:Evaluation [90/100]\n"
     ]
    },
    {
     "name": "stderr",
     "output_type": "stream",
     "text": [
      "INFO:tensorflow:Evaluation [90/100]\n"
     ]
    },
    {
     "name": "stdout",
     "output_type": "stream",
     "text": [
      "INFO:tensorflow:Finished evaluation at 2020-05-31-07:08:24\n"
     ]
    },
    {
     "name": "stderr",
     "output_type": "stream",
     "text": [
      "INFO:tensorflow:Finished evaluation at 2020-05-31-07:08:24\n"
     ]
    },
    {
     "name": "stdout",
     "output_type": "stream",
     "text": [
      "INFO:tensorflow:Saving dict for global step 2000: accuracy = 0.16294008, average_loss = 4.6950755, global_step = 2000, loss = 2400.4192\n"
     ]
    },
    {
     "name": "stderr",
     "output_type": "stream",
     "text": [
      "INFO:tensorflow:Saving dict for global step 2000: accuracy = 0.16294008, average_loss = 4.6950755, global_step = 2000, loss = 2400.4192\n"
     ]
    },
    {
     "name": "stdout",
     "output_type": "stream",
     "text": [
      "INFO:tensorflow:Saving 'checkpoint_path' summary for global step 2000: linear_model/model.ckpt-2000\n"
     ]
    },
    {
     "name": "stderr",
     "output_type": "stream",
     "text": [
      "INFO:tensorflow:Saving 'checkpoint_path' summary for global step 2000: linear_model/model.ckpt-2000\n"
     ]
    },
    {
     "name": "stdout",
     "output_type": "stream",
     "text": [
      "INFO:tensorflow:Calling model_fn.\n"
     ]
    },
    {
     "name": "stderr",
     "output_type": "stream",
     "text": [
      "INFO:tensorflow:Calling model_fn.\n"
     ]
    },
    {
     "name": "stdout",
     "output_type": "stream",
     "text": [
      "INFO:tensorflow:Saver not created because there are no variables in the graph to restore\n"
     ]
    },
    {
     "name": "stderr",
     "output_type": "stream",
     "text": [
      "INFO:tensorflow:Saver not created because there are no variables in the graph to restore\n"
     ]
    },
    {
     "name": "stdout",
     "output_type": "stream",
     "text": [
      "INFO:tensorflow:Saver not created because there are no variables in the graph to restore\n"
     ]
    },
    {
     "name": "stderr",
     "output_type": "stream",
     "text": [
      "INFO:tensorflow:Saver not created because there are no variables in the graph to restore\n"
     ]
    },
    {
     "name": "stdout",
     "output_type": "stream",
     "text": [
      "INFO:tensorflow:Done calling model_fn.\n"
     ]
    },
    {
     "name": "stderr",
     "output_type": "stream",
     "text": [
      "INFO:tensorflow:Done calling model_fn.\n"
     ]
    },
    {
     "name": "stdout",
     "output_type": "stream",
     "text": [
      "WARNING:tensorflow:From /tensorflow-1.15.2/python3.6/tensorflow_core/python/saved_model/signature_def_utils_impl.py:201: build_tensor_info (from tensorflow.python.saved_model.utils_impl) is deprecated and will be removed in a future version.\n",
      "Instructions for updating:\n",
      "This function will only be available through the v1 compatibility library as tf.compat.v1.saved_model.utils.build_tensor_info or tf.compat.v1.saved_model.build_tensor_info.\n"
     ]
    },
    {
     "name": "stderr",
     "output_type": "stream",
     "text": [
      "WARNING:tensorflow:From /tensorflow-1.15.2/python3.6/tensorflow_core/python/saved_model/signature_def_utils_impl.py:201: build_tensor_info (from tensorflow.python.saved_model.utils_impl) is deprecated and will be removed in a future version.\n",
      "Instructions for updating:\n",
      "This function will only be available through the v1 compatibility library as tf.compat.v1.saved_model.utils.build_tensor_info or tf.compat.v1.saved_model.build_tensor_info.\n"
     ]
    },
    {
     "name": "stdout",
     "output_type": "stream",
     "text": [
      "INFO:tensorflow:Signatures INCLUDED in export for Classify: None\n"
     ]
    },
    {
     "name": "stderr",
     "output_type": "stream",
     "text": [
      "INFO:tensorflow:Signatures INCLUDED in export for Classify: None\n"
     ]
    },
    {
     "name": "stdout",
     "output_type": "stream",
     "text": [
      "INFO:tensorflow:Signatures INCLUDED in export for Regress: None\n"
     ]
    },
    {
     "name": "stderr",
     "output_type": "stream",
     "text": [
      "INFO:tensorflow:Signatures INCLUDED in export for Regress: None\n"
     ]
    },
    {
     "name": "stdout",
     "output_type": "stream",
     "text": [
      "INFO:tensorflow:Signatures INCLUDED in export for Predict: ['predict']\n"
     ]
    },
    {
     "name": "stderr",
     "output_type": "stream",
     "text": [
      "INFO:tensorflow:Signatures INCLUDED in export for Predict: ['predict']\n"
     ]
    },
    {
     "name": "stdout",
     "output_type": "stream",
     "text": [
      "INFO:tensorflow:Signatures INCLUDED in export for Train: None\n"
     ]
    },
    {
     "name": "stderr",
     "output_type": "stream",
     "text": [
      "INFO:tensorflow:Signatures INCLUDED in export for Train: None\n"
     ]
    },
    {
     "name": "stdout",
     "output_type": "stream",
     "text": [
      "INFO:tensorflow:Signatures INCLUDED in export for Eval: None\n"
     ]
    },
    {
     "name": "stderr",
     "output_type": "stream",
     "text": [
      "INFO:tensorflow:Signatures INCLUDED in export for Eval: None\n"
     ]
    },
    {
     "name": "stdout",
     "output_type": "stream",
     "text": [
      "INFO:tensorflow:Signatures EXCLUDED from export because they cannot be be served via TensorFlow Serving APIs:\n"
     ]
    },
    {
     "name": "stderr",
     "output_type": "stream",
     "text": [
      "INFO:tensorflow:Signatures EXCLUDED from export because they cannot be be served via TensorFlow Serving APIs:\n"
     ]
    },
    {
     "name": "stdout",
     "output_type": "stream",
     "text": [
      "INFO:tensorflow:'serving_default' : Classification input must be a single string Tensor; got {'Product': <tf.Tensor 'Placeholder:0' shape=(?,) dtype=string>, 'Company': <tf.Tensor 'Placeholder_1:0' shape=(?,) dtype=string>, 'Message': <tf.Tensor 'Placeholder_2:0' shape=(?,) dtype=string>}\n"
     ]
    },
    {
     "name": "stderr",
     "output_type": "stream",
     "text": [
      "INFO:tensorflow:'serving_default' : Classification input must be a single string Tensor; got {'Product': <tf.Tensor 'Placeholder:0' shape=(?,) dtype=string>, 'Company': <tf.Tensor 'Placeholder_1:0' shape=(?,) dtype=string>, 'Message': <tf.Tensor 'Placeholder_2:0' shape=(?,) dtype=string>}\n"
     ]
    },
    {
     "name": "stdout",
     "output_type": "stream",
     "text": [
      "INFO:tensorflow:'classification' : Classification input must be a single string Tensor; got {'Product': <tf.Tensor 'Placeholder:0' shape=(?,) dtype=string>, 'Company': <tf.Tensor 'Placeholder_1:0' shape=(?,) dtype=string>, 'Message': <tf.Tensor 'Placeholder_2:0' shape=(?,) dtype=string>}\n"
     ]
    },
    {
     "name": "stderr",
     "output_type": "stream",
     "text": [
      "INFO:tensorflow:'classification' : Classification input must be a single string Tensor; got {'Product': <tf.Tensor 'Placeholder:0' shape=(?,) dtype=string>, 'Company': <tf.Tensor 'Placeholder_1:0' shape=(?,) dtype=string>, 'Message': <tf.Tensor 'Placeholder_2:0' shape=(?,) dtype=string>}\n"
     ]
    },
    {
     "name": "stdout",
     "output_type": "stream",
     "text": [
      "WARNING:tensorflow:Export includes no default signature!\n"
     ]
    },
    {
     "name": "stderr",
     "output_type": "stream",
     "text": [
      "WARNING:tensorflow:Export includes no default signature!\n"
     ]
    },
    {
     "name": "stdout",
     "output_type": "stream",
     "text": [
      "INFO:tensorflow:Restoring parameters from linear_model/model.ckpt-2000\n"
     ]
    },
    {
     "name": "stderr",
     "output_type": "stream",
     "text": [
      "INFO:tensorflow:Restoring parameters from linear_model/model.ckpt-2000\n"
     ]
    },
    {
     "name": "stdout",
     "output_type": "stream",
     "text": [
      "INFO:tensorflow:Assets added to graph.\n"
     ]
    },
    {
     "name": "stderr",
     "output_type": "stream",
     "text": [
      "INFO:tensorflow:Assets added to graph.\n"
     ]
    },
    {
     "name": "stdout",
     "output_type": "stream",
     "text": [
      "INFO:tensorflow:Assets written to: linear_model/export/exporter/temp-b'1590908905'/assets\n"
     ]
    },
    {
     "name": "stderr",
     "output_type": "stream",
     "text": [
      "INFO:tensorflow:Assets written to: linear_model/export/exporter/temp-b'1590908905'/assets\n"
     ]
    },
    {
     "name": "stdout",
     "output_type": "stream",
     "text": [
      "INFO:tensorflow:SavedModel written to: linear_model/export/exporter/temp-b'1590908905'/saved_model.pb\n"
     ]
    },
    {
     "name": "stderr",
     "output_type": "stream",
     "text": [
      "INFO:tensorflow:SavedModel written to: linear_model/export/exporter/temp-b'1590908905'/saved_model.pb\n"
     ]
    },
    {
     "name": "stdout",
     "output_type": "stream",
     "text": [
      "INFO:tensorflow:Loss for final step: 58.4161.\n"
     ]
    },
    {
     "name": "stderr",
     "output_type": "stream",
     "text": [
      "INFO:tensorflow:Loss for final step: 58.4161.\n"
     ]
    }
   ],
   "source": [
    "tf.compat.v1.logging.set_verbosity(tf.compat.v1.logging.INFO)\n",
    "OUTDIR = 'linear_model'\n",
    "shutil.rmtree(OUTDIR, ignore_errors=True)\n",
    "train_and_evaluate_lin(OUTDIR, 2000)"
   ]
  },
  {
   "cell_type": "markdown",
   "metadata": {
    "colab_type": "text",
    "id": "pU5ANsYLROEK"
   },
   "source": [
    "Let's evaluate this model:"
   ]
  },
  {
   "cell_type": "code",
   "execution_count": 17,
   "metadata": {
    "colab": {
     "base_uri": "https://localhost:8080/",
     "height": 785
    },
    "colab_type": "code",
    "id": "Daa3gKxNvYw0",
    "outputId": "83b7cdbc-1977-4234-f140-d5d4c59b1adb"
   },
   "outputs": [
    {
     "name": "stdout",
     "output_type": "stream",
     "text": [
      "INFO:tensorflow:Using default config.\n"
     ]
    },
    {
     "name": "stderr",
     "output_type": "stream",
     "text": [
      "INFO:tensorflow:Using default config.\n"
     ]
    },
    {
     "name": "stdout",
     "output_type": "stream",
     "text": [
      "INFO:tensorflow:Using config: {'_model_dir': 'linear_model', '_tf_random_seed': None, '_save_summary_steps': 100, '_save_checkpoints_steps': None, '_save_checkpoints_secs': 600, '_session_config': allow_soft_placement: true\n",
      "graph_options {\n",
      "  rewrite_options {\n",
      "    meta_optimizer_iterations: ONE\n",
      "  }\n",
      "}\n",
      ", '_keep_checkpoint_max': 5, '_keep_checkpoint_every_n_hours': 10000, '_log_step_count_steps': 100, '_train_distribute': None, '_device_fn': None, '_protocol': None, '_eval_distribute': None, '_experimental_distribute': None, '_experimental_max_worker_delay_secs': None, '_session_creation_timeout_secs': 7200, '_service': None, '_cluster_spec': <tensorflow.python.training.server_lib.ClusterSpec object at 0x7f4518256b70>, '_task_type': 'worker', '_task_id': 0, '_global_id_in_cluster': 0, '_master': '', '_evaluation_master': '', '_is_chief': True, '_num_ps_replicas': 0, '_num_worker_replicas': 1}\n"
     ]
    },
    {
     "name": "stderr",
     "output_type": "stream",
     "text": [
      "INFO:tensorflow:Using config: {'_model_dir': 'linear_model', '_tf_random_seed': None, '_save_summary_steps': 100, '_save_checkpoints_steps': None, '_save_checkpoints_secs': 600, '_session_config': allow_soft_placement: true\n",
      "graph_options {\n",
      "  rewrite_options {\n",
      "    meta_optimizer_iterations: ONE\n",
      "  }\n",
      "}\n",
      ", '_keep_checkpoint_max': 5, '_keep_checkpoint_every_n_hours': 10000, '_log_step_count_steps': 100, '_train_distribute': None, '_device_fn': None, '_protocol': None, '_eval_distribute': None, '_experimental_distribute': None, '_experimental_max_worker_delay_secs': None, '_session_creation_timeout_secs': 7200, '_service': None, '_cluster_spec': <tensorflow.python.training.server_lib.ClusterSpec object at 0x7f4518256b70>, '_task_type': 'worker', '_task_id': 0, '_global_id_in_cluster': 0, '_master': '', '_evaluation_master': '', '_is_chief': True, '_num_ps_replicas': 0, '_num_worker_replicas': 1}\n"
     ]
    },
    {
     "name": "stdout",
     "output_type": "stream",
     "text": [
      "INFO:tensorflow:Calling model_fn.\n"
     ]
    },
    {
     "name": "stderr",
     "output_type": "stream",
     "text": [
      "INFO:tensorflow:Calling model_fn.\n"
     ]
    },
    {
     "name": "stdout",
     "output_type": "stream",
     "text": [
      "INFO:tensorflow:Saver not created because there are no variables in the graph to restore\n"
     ]
    },
    {
     "name": "stderr",
     "output_type": "stream",
     "text": [
      "INFO:tensorflow:Saver not created because there are no variables in the graph to restore\n"
     ]
    },
    {
     "name": "stdout",
     "output_type": "stream",
     "text": [
      "INFO:tensorflow:Saver not created because there are no variables in the graph to restore\n"
     ]
    },
    {
     "name": "stderr",
     "output_type": "stream",
     "text": [
      "INFO:tensorflow:Saver not created because there are no variables in the graph to restore\n"
     ]
    },
    {
     "name": "stdout",
     "output_type": "stream",
     "text": [
      "INFO:tensorflow:Done calling model_fn.\n"
     ]
    },
    {
     "name": "stderr",
     "output_type": "stream",
     "text": [
      "INFO:tensorflow:Done calling model_fn.\n"
     ]
    },
    {
     "name": "stdout",
     "output_type": "stream",
     "text": [
      "INFO:tensorflow:Starting evaluation at 2020-05-31T07:08:27Z\n"
     ]
    },
    {
     "name": "stderr",
     "output_type": "stream",
     "text": [
      "INFO:tensorflow:Starting evaluation at 2020-05-31T07:08:27Z\n"
     ]
    },
    {
     "name": "stdout",
     "output_type": "stream",
     "text": [
      "INFO:tensorflow:Graph was finalized.\n"
     ]
    },
    {
     "name": "stderr",
     "output_type": "stream",
     "text": [
      "INFO:tensorflow:Graph was finalized.\n"
     ]
    },
    {
     "name": "stdout",
     "output_type": "stream",
     "text": [
      "INFO:tensorflow:Restoring parameters from linear_model/model.ckpt-2000\n"
     ]
    },
    {
     "name": "stderr",
     "output_type": "stream",
     "text": [
      "INFO:tensorflow:Restoring parameters from linear_model/model.ckpt-2000\n"
     ]
    },
    {
     "name": "stdout",
     "output_type": "stream",
     "text": [
      "INFO:tensorflow:Running local_init_op.\n"
     ]
    },
    {
     "name": "stderr",
     "output_type": "stream",
     "text": [
      "INFO:tensorflow:Running local_init_op.\n"
     ]
    },
    {
     "name": "stdout",
     "output_type": "stream",
     "text": [
      "INFO:tensorflow:Done running local_init_op.\n"
     ]
    },
    {
     "name": "stderr",
     "output_type": "stream",
     "text": [
      "INFO:tensorflow:Done running local_init_op.\n"
     ]
    },
    {
     "name": "stdout",
     "output_type": "stream",
     "text": [
      "INFO:tensorflow:Finished evaluation at 2020-05-31-07:08:32\n"
     ]
    },
    {
     "name": "stderr",
     "output_type": "stream",
     "text": [
      "INFO:tensorflow:Finished evaluation at 2020-05-31-07:08:32\n"
     ]
    },
    {
     "name": "stdout",
     "output_type": "stream",
     "text": [
      "INFO:tensorflow:Saving dict for global step 2000: accuracy = 0.1634649, average_loss = 4.691047, global_step = 2000, loss = 2398.2114\n"
     ]
    },
    {
     "name": "stderr",
     "output_type": "stream",
     "text": [
      "INFO:tensorflow:Saving dict for global step 2000: accuracy = 0.1634649, average_loss = 4.691047, global_step = 2000, loss = 2398.2114\n"
     ]
    },
    {
     "name": "stdout",
     "output_type": "stream",
     "text": [
      "INFO:tensorflow:Saving 'checkpoint_path' summary for global step 2000: linear_model/model.ckpt-2000\n"
     ]
    },
    {
     "name": "stderr",
     "output_type": "stream",
     "text": [
      "INFO:tensorflow:Saving 'checkpoint_path' summary for global step 2000: linear_model/model.ckpt-2000\n"
     ]
    },
    {
     "data": {
      "text/plain": [
       "{'accuracy': 0.1634649,\n",
       " 'average_loss': 4.691047,\n",
       " 'global_step': 2000,\n",
       " 'loss': 2398.2114}"
      ]
     },
     "execution_count": 17,
     "metadata": {
      "tags": []
     },
     "output_type": "execute_result"
    }
   ],
   "source": [
    "estimator = tf.estimator.LinearClassifier(\n",
    "    model_dir='linear_model',\n",
    "    feature_columns = get_feature_columns(), \n",
    "    n_classes = len(ISS_VOCAB),\n",
    "    label_vocabulary=list(ISS_VOCAB)\n",
    ")\n",
    "\n",
    "estimator.evaluate(get_test_input_fn())"
   ]
  },
  {
   "cell_type": "markdown",
   "metadata": {
    "colab_type": "text",
    "id": "5UFoGROTvYnb"
   },
   "source": [
    "This model achieves an accuracy of about 16% (a random model would be about 2%)."
   ]
  },
  {
   "cell_type": "markdown",
   "metadata": {
    "colab_type": "text",
    "id": "7UfUo4jPfEjU"
   },
   "source": [
    "##### Deep Neural Network model \n",
    "\n",
    "The second model we tried was a Deep Neural Network Classifier with a similar construction to our PoC DNN."
   ]
  },
  {
   "cell_type": "code",
   "execution_count": 0,
   "metadata": {
    "colab": {},
    "colab_type": "code",
    "id": "IpsRJ9RKdz3E"
   },
   "outputs": [],
   "source": [
    "def train_and_evaluate_dnn(model_dir, steps):\n",
    "\n",
    "    tf.summary.FileWriterCache.clear()\n",
    "\n",
    "    run_config = tf.estimator.RunConfig(\n",
    "        model_dir = model_dir, \n",
    "        #save_summary_steps=100,\n",
    "        #save_checkpoints_steps=100\n",
    "    )\n",
    "\n",
    "  # Create the estimator\n",
    "    estimator = tf.estimator.DNNClassifier(\n",
    "        hidden_units = [256, 256], \n",
    "        feature_columns = get_feature_columns(), \n",
    "        config = run_config,\n",
    "        n_classes= len(list(ISS_VOCAB)), \n",
    "        label_vocabulary=list(ISS_VOCAB), \n",
    "    )\n",
    "\n",
    "  # Create exporter\n",
    "    exporter = tf.estimator.LatestExporter('exporter', get_serve_input_fn)\n",
    "\n",
    "  # Define the training specifications\n",
    "    train_spec = tf.estimator.TrainSpec(\n",
    "         input_fn = get_train_input_fn(),\n",
    "         max_steps = steps\n",
    "    )\n",
    "\n",
    "  # Define the evaluatin specifications\n",
    "    eval_spec = tf.estimator.EvalSpec(\n",
    "        input_fn = get_eval_input_fn(),\n",
    "        exporters = exporter\n",
    "    )\n",
    "\n",
    "  # Call the actual train and evaluate function \n",
    "    tf.estimator.train_and_evaluate(estimator, train_spec, eval_spec)"
   ]
  },
  {
   "cell_type": "markdown",
   "metadata": {
    "colab_type": "text",
    "id": "Gtmy-pm3RWgJ"
   },
   "source": [
    "Let's train the model:"
   ]
  },
  {
   "cell_type": "code",
   "execution_count": 19,
   "metadata": {
    "colab": {
     "base_uri": "https://localhost:8080/",
     "height": 1000
    },
    "colab_type": "code",
    "id": "OaKZeArQvk_v",
    "outputId": "d48eb0b6-acb4-4dbe-d7aa-059bb99d5a14"
   },
   "outputs": [
    {
     "name": "stdout",
     "output_type": "stream",
     "text": [
      "INFO:tensorflow:Using config: {'_model_dir': 'deep_neural_network', '_tf_random_seed': None, '_save_summary_steps': 100, '_save_checkpoints_steps': None, '_save_checkpoints_secs': 600, '_session_config': allow_soft_placement: true\n",
      "graph_options {\n",
      "  rewrite_options {\n",
      "    meta_optimizer_iterations: ONE\n",
      "  }\n",
      "}\n",
      ", '_keep_checkpoint_max': 5, '_keep_checkpoint_every_n_hours': 10000, '_log_step_count_steps': 100, '_train_distribute': None, '_device_fn': None, '_protocol': None, '_eval_distribute': None, '_experimental_distribute': None, '_experimental_max_worker_delay_secs': None, '_session_creation_timeout_secs': 7200, '_service': None, '_cluster_spec': <tensorflow.python.training.server_lib.ClusterSpec object at 0x7f4511279128>, '_task_type': 'worker', '_task_id': 0, '_global_id_in_cluster': 0, '_master': '', '_evaluation_master': '', '_is_chief': True, '_num_ps_replicas': 0, '_num_worker_replicas': 1}\n"
     ]
    },
    {
     "name": "stderr",
     "output_type": "stream",
     "text": [
      "INFO:tensorflow:Using config: {'_model_dir': 'deep_neural_network', '_tf_random_seed': None, '_save_summary_steps': 100, '_save_checkpoints_steps': None, '_save_checkpoints_secs': 600, '_session_config': allow_soft_placement: true\n",
      "graph_options {\n",
      "  rewrite_options {\n",
      "    meta_optimizer_iterations: ONE\n",
      "  }\n",
      "}\n",
      ", '_keep_checkpoint_max': 5, '_keep_checkpoint_every_n_hours': 10000, '_log_step_count_steps': 100, '_train_distribute': None, '_device_fn': None, '_protocol': None, '_eval_distribute': None, '_experimental_distribute': None, '_experimental_max_worker_delay_secs': None, '_session_creation_timeout_secs': 7200, '_service': None, '_cluster_spec': <tensorflow.python.training.server_lib.ClusterSpec object at 0x7f4511279128>, '_task_type': 'worker', '_task_id': 0, '_global_id_in_cluster': 0, '_master': '', '_evaluation_master': '', '_is_chief': True, '_num_ps_replicas': 0, '_num_worker_replicas': 1}\n"
     ]
    },
    {
     "name": "stdout",
     "output_type": "stream",
     "text": [
      "INFO:tensorflow:Not using Distribute Coordinator.\n"
     ]
    },
    {
     "name": "stderr",
     "output_type": "stream",
     "text": [
      "INFO:tensorflow:Not using Distribute Coordinator.\n"
     ]
    },
    {
     "name": "stdout",
     "output_type": "stream",
     "text": [
      "INFO:tensorflow:Running training and evaluation locally (non-distributed).\n"
     ]
    },
    {
     "name": "stderr",
     "output_type": "stream",
     "text": [
      "INFO:tensorflow:Running training and evaluation locally (non-distributed).\n"
     ]
    },
    {
     "name": "stdout",
     "output_type": "stream",
     "text": [
      "INFO:tensorflow:Start train and evaluate loop. The evaluate will happen after every checkpoint. Checkpoint frequency is determined based on RunConfig arguments: save_checkpoints_steps None or save_checkpoints_secs 600.\n"
     ]
    },
    {
     "name": "stderr",
     "output_type": "stream",
     "text": [
      "INFO:tensorflow:Start train and evaluate loop. The evaluate will happen after every checkpoint. Checkpoint frequency is determined based on RunConfig arguments: save_checkpoints_steps None or save_checkpoints_secs 600.\n"
     ]
    },
    {
     "name": "stdout",
     "output_type": "stream",
     "text": [
      "INFO:tensorflow:Calling model_fn.\n"
     ]
    },
    {
     "name": "stderr",
     "output_type": "stream",
     "text": [
      "INFO:tensorflow:Calling model_fn.\n"
     ]
    },
    {
     "name": "stdout",
     "output_type": "stream",
     "text": [
      "WARNING:tensorflow:Entity <bound method _DNNModel.call of <tensorflow_estimator.python.estimator.canned.dnn._DNNModel object at 0x7f4511279f98>> could not be transformed and will be executed as-is. Please report this to the AutoGraph team. When filing the bug, set the verbosity to 10 (on Linux, `export AUTOGRAPH_VERBOSITY=10`) and attach the full output. Cause: module 'gast' has no attribute 'Num'\n"
     ]
    },
    {
     "name": "stderr",
     "output_type": "stream",
     "text": [
      "WARNING:tensorflow:Entity <bound method _DNNModel.call of <tensorflow_estimator.python.estimator.canned.dnn._DNNModel object at 0x7f4511279f98>> could not be transformed and will be executed as-is. Please report this to the AutoGraph team. When filing the bug, set the verbosity to 10 (on Linux, `export AUTOGRAPH_VERBOSITY=10`) and attach the full output. Cause: module 'gast' has no attribute 'Num'\n"
     ]
    },
    {
     "name": "stdout",
     "output_type": "stream",
     "text": [
      "WARNING: Entity <bound method _DNNModel.call of <tensorflow_estimator.python.estimator.canned.dnn._DNNModel object at 0x7f4511279f98>> could not be transformed and will be executed as-is. Please report this to the AutoGraph team. When filing the bug, set the verbosity to 10 (on Linux, `export AUTOGRAPH_VERBOSITY=10`) and attach the full output. Cause: module 'gast' has no attribute 'Num'\n",
      "INFO:tensorflow:Saver not created because there are no variables in the graph to restore\n"
     ]
    },
    {
     "name": "stderr",
     "output_type": "stream",
     "text": [
      "INFO:tensorflow:Saver not created because there are no variables in the graph to restore\n"
     ]
    },
    {
     "name": "stdout",
     "output_type": "stream",
     "text": [
      "INFO:tensorflow:Saver not created because there are no variables in the graph to restore\n"
     ]
    },
    {
     "name": "stderr",
     "output_type": "stream",
     "text": [
      "INFO:tensorflow:Saver not created because there are no variables in the graph to restore\n"
     ]
    },
    {
     "name": "stdout",
     "output_type": "stream",
     "text": [
      "WARNING:tensorflow:From /tensorflow-1.15.2/python3.6/tensorflow_core/python/training/adagrad.py:76: calling Constant.__init__ (from tensorflow.python.ops.init_ops) with dtype is deprecated and will be removed in a future version.\n",
      "Instructions for updating:\n",
      "Call initializer instance with the dtype argument instead of passing it to the constructor\n"
     ]
    },
    {
     "name": "stderr",
     "output_type": "stream",
     "text": [
      "WARNING:tensorflow:From /tensorflow-1.15.2/python3.6/tensorflow_core/python/training/adagrad.py:76: calling Constant.__init__ (from tensorflow.python.ops.init_ops) with dtype is deprecated and will be removed in a future version.\n",
      "Instructions for updating:\n",
      "Call initializer instance with the dtype argument instead of passing it to the constructor\n"
     ]
    },
    {
     "name": "stdout",
     "output_type": "stream",
     "text": [
      "INFO:tensorflow:Done calling model_fn.\n"
     ]
    },
    {
     "name": "stderr",
     "output_type": "stream",
     "text": [
      "INFO:tensorflow:Done calling model_fn.\n"
     ]
    },
    {
     "name": "stdout",
     "output_type": "stream",
     "text": [
      "INFO:tensorflow:Create CheckpointSaverHook.\n"
     ]
    },
    {
     "name": "stderr",
     "output_type": "stream",
     "text": [
      "INFO:tensorflow:Create CheckpointSaverHook.\n"
     ]
    },
    {
     "name": "stdout",
     "output_type": "stream",
     "text": [
      "INFO:tensorflow:Graph was finalized.\n"
     ]
    },
    {
     "name": "stderr",
     "output_type": "stream",
     "text": [
      "INFO:tensorflow:Graph was finalized.\n"
     ]
    },
    {
     "name": "stdout",
     "output_type": "stream",
     "text": [
      "INFO:tensorflow:Running local_init_op.\n"
     ]
    },
    {
     "name": "stderr",
     "output_type": "stream",
     "text": [
      "INFO:tensorflow:Running local_init_op.\n"
     ]
    },
    {
     "name": "stdout",
     "output_type": "stream",
     "text": [
      "INFO:tensorflow:Done running local_init_op.\n"
     ]
    },
    {
     "name": "stderr",
     "output_type": "stream",
     "text": [
      "INFO:tensorflow:Done running local_init_op.\n"
     ]
    },
    {
     "name": "stdout",
     "output_type": "stream",
     "text": [
      "INFO:tensorflow:Saving checkpoints for 0 into deep_neural_network/model.ckpt.\n"
     ]
    },
    {
     "name": "stderr",
     "output_type": "stream",
     "text": [
      "INFO:tensorflow:Saving checkpoints for 0 into deep_neural_network/model.ckpt.\n"
     ]
    },
    {
     "name": "stdout",
     "output_type": "stream",
     "text": [
      "INFO:tensorflow:loss = 2002.8794, step = 1\n"
     ]
    },
    {
     "name": "stderr",
     "output_type": "stream",
     "text": [
      "INFO:tensorflow:loss = 2002.8794, step = 1\n"
     ]
    },
    {
     "name": "stdout",
     "output_type": "stream",
     "text": [
      "INFO:tensorflow:global_step/sec: 12.0789\n"
     ]
    },
    {
     "name": "stderr",
     "output_type": "stream",
     "text": [
      "INFO:tensorflow:global_step/sec: 12.0789\n"
     ]
    },
    {
     "name": "stdout",
     "output_type": "stream",
     "text": [
      "INFO:tensorflow:loss = 52.55445, step = 101 (8.281 sec)\n"
     ]
    },
    {
     "name": "stderr",
     "output_type": "stream",
     "text": [
      "INFO:tensorflow:loss = 52.55445, step = 101 (8.281 sec)\n"
     ]
    },
    {
     "name": "stdout",
     "output_type": "stream",
     "text": [
      "INFO:tensorflow:global_step/sec: 11.3978\n"
     ]
    },
    {
     "name": "stderr",
     "output_type": "stream",
     "text": [
      "INFO:tensorflow:global_step/sec: 11.3978\n"
     ]
    },
    {
     "name": "stdout",
     "output_type": "stream",
     "text": [
      "INFO:tensorflow:loss = 326.17334, step = 201 (8.774 sec)\n"
     ]
    },
    {
     "name": "stderr",
     "output_type": "stream",
     "text": [
      "INFO:tensorflow:loss = 326.17334, step = 201 (8.774 sec)\n"
     ]
    },
    {
     "name": "stdout",
     "output_type": "stream",
     "text": [
      "INFO:tensorflow:global_step/sec: 11.4568\n"
     ]
    },
    {
     "name": "stderr",
     "output_type": "stream",
     "text": [
      "INFO:tensorflow:global_step/sec: 11.4568\n"
     ]
    },
    {
     "name": "stdout",
     "output_type": "stream",
     "text": [
      "INFO:tensorflow:loss = 345.41183, step = 301 (8.729 sec)\n"
     ]
    },
    {
     "name": "stderr",
     "output_type": "stream",
     "text": [
      "INFO:tensorflow:loss = 345.41183, step = 301 (8.729 sec)\n"
     ]
    },
    {
     "name": "stdout",
     "output_type": "stream",
     "text": [
      "INFO:tensorflow:global_step/sec: 11.6482\n"
     ]
    },
    {
     "name": "stderr",
     "output_type": "stream",
     "text": [
      "INFO:tensorflow:global_step/sec: 11.6482\n"
     ]
    },
    {
     "name": "stdout",
     "output_type": "stream",
     "text": [
      "INFO:tensorflow:loss = 164.0144, step = 401 (8.585 sec)\n"
     ]
    },
    {
     "name": "stderr",
     "output_type": "stream",
     "text": [
      "INFO:tensorflow:loss = 164.0144, step = 401 (8.585 sec)\n"
     ]
    },
    {
     "name": "stdout",
     "output_type": "stream",
     "text": [
      "INFO:tensorflow:global_step/sec: 12.1982\n"
     ]
    },
    {
     "name": "stderr",
     "output_type": "stream",
     "text": [
      "INFO:tensorflow:global_step/sec: 12.1982\n"
     ]
    },
    {
     "name": "stdout",
     "output_type": "stream",
     "text": [
      "INFO:tensorflow:loss = 311.17682, step = 501 (8.199 sec)\n"
     ]
    },
    {
     "name": "stderr",
     "output_type": "stream",
     "text": [
      "INFO:tensorflow:loss = 311.17682, step = 501 (8.199 sec)\n"
     ]
    },
    {
     "name": "stdout",
     "output_type": "stream",
     "text": [
      "INFO:tensorflow:global_step/sec: 12.0778\n"
     ]
    },
    {
     "name": "stderr",
     "output_type": "stream",
     "text": [
      "INFO:tensorflow:global_step/sec: 12.0778\n"
     ]
    },
    {
     "name": "stdout",
     "output_type": "stream",
     "text": [
      "INFO:tensorflow:loss = 12.422424, step = 601 (8.278 sec)\n"
     ]
    },
    {
     "name": "stderr",
     "output_type": "stream",
     "text": [
      "INFO:tensorflow:loss = 12.422424, step = 601 (8.278 sec)\n"
     ]
    },
    {
     "name": "stdout",
     "output_type": "stream",
     "text": [
      "INFO:tensorflow:global_step/sec: 11.1431\n"
     ]
    },
    {
     "name": "stderr",
     "output_type": "stream",
     "text": [
      "INFO:tensorflow:global_step/sec: 11.1431\n"
     ]
    },
    {
     "name": "stdout",
     "output_type": "stream",
     "text": [
      "INFO:tensorflow:loss = 123.69534, step = 701 (8.975 sec)\n"
     ]
    },
    {
     "name": "stderr",
     "output_type": "stream",
     "text": [
      "INFO:tensorflow:loss = 123.69534, step = 701 (8.975 sec)\n"
     ]
    },
    {
     "name": "stdout",
     "output_type": "stream",
     "text": [
      "INFO:tensorflow:global_step/sec: 11.3338\n"
     ]
    },
    {
     "name": "stderr",
     "output_type": "stream",
     "text": [
      "INFO:tensorflow:global_step/sec: 11.3338\n"
     ]
    },
    {
     "name": "stdout",
     "output_type": "stream",
     "text": [
      "INFO:tensorflow:loss = 24.404345, step = 801 (8.822 sec)\n"
     ]
    },
    {
     "name": "stderr",
     "output_type": "stream",
     "text": [
      "INFO:tensorflow:loss = 24.404345, step = 801 (8.822 sec)\n"
     ]
    },
    {
     "name": "stdout",
     "output_type": "stream",
     "text": [
      "INFO:tensorflow:global_step/sec: 11.6928\n"
     ]
    },
    {
     "name": "stderr",
     "output_type": "stream",
     "text": [
      "INFO:tensorflow:global_step/sec: 11.6928\n"
     ]
    },
    {
     "name": "stdout",
     "output_type": "stream",
     "text": [
      "INFO:tensorflow:loss = 291.79138, step = 901 (8.554 sec)\n"
     ]
    },
    {
     "name": "stderr",
     "output_type": "stream",
     "text": [
      "INFO:tensorflow:loss = 291.79138, step = 901 (8.554 sec)\n"
     ]
    },
    {
     "name": "stdout",
     "output_type": "stream",
     "text": [
      "INFO:tensorflow:global_step/sec: 12.1272\n"
     ]
    },
    {
     "name": "stderr",
     "output_type": "stream",
     "text": [
      "INFO:tensorflow:global_step/sec: 12.1272\n"
     ]
    },
    {
     "name": "stdout",
     "output_type": "stream",
     "text": [
      "INFO:tensorflow:loss = 42.479965, step = 1001 (8.247 sec)\n"
     ]
    },
    {
     "name": "stderr",
     "output_type": "stream",
     "text": [
      "INFO:tensorflow:loss = 42.479965, step = 1001 (8.247 sec)\n"
     ]
    },
    {
     "name": "stdout",
     "output_type": "stream",
     "text": [
      "INFO:tensorflow:global_step/sec: 12.1205\n"
     ]
    },
    {
     "name": "stderr",
     "output_type": "stream",
     "text": [
      "INFO:tensorflow:global_step/sec: 12.1205\n"
     ]
    },
    {
     "name": "stdout",
     "output_type": "stream",
     "text": [
      "INFO:tensorflow:loss = 123.804474, step = 1101 (8.250 sec)\n"
     ]
    },
    {
     "name": "stderr",
     "output_type": "stream",
     "text": [
      "INFO:tensorflow:loss = 123.804474, step = 1101 (8.250 sec)\n"
     ]
    },
    {
     "name": "stdout",
     "output_type": "stream",
     "text": [
      "INFO:tensorflow:global_step/sec: 11.1355\n"
     ]
    },
    {
     "name": "stderr",
     "output_type": "stream",
     "text": [
      "INFO:tensorflow:global_step/sec: 11.1355\n"
     ]
    },
    {
     "name": "stdout",
     "output_type": "stream",
     "text": [
      "INFO:tensorflow:loss = 143.30138, step = 1201 (8.981 sec)\n"
     ]
    },
    {
     "name": "stderr",
     "output_type": "stream",
     "text": [
      "INFO:tensorflow:loss = 143.30138, step = 1201 (8.981 sec)\n"
     ]
    },
    {
     "name": "stdout",
     "output_type": "stream",
     "text": [
      "INFO:tensorflow:global_step/sec: 11.3052\n"
     ]
    },
    {
     "name": "stderr",
     "output_type": "stream",
     "text": [
      "INFO:tensorflow:global_step/sec: 11.3052\n"
     ]
    },
    {
     "name": "stdout",
     "output_type": "stream",
     "text": [
      "INFO:tensorflow:loss = 42.589447, step = 1301 (8.842 sec)\n"
     ]
    },
    {
     "name": "stderr",
     "output_type": "stream",
     "text": [
      "INFO:tensorflow:loss = 42.589447, step = 1301 (8.842 sec)\n"
     ]
    },
    {
     "name": "stdout",
     "output_type": "stream",
     "text": [
      "INFO:tensorflow:global_step/sec: 11.746\n"
     ]
    },
    {
     "name": "stderr",
     "output_type": "stream",
     "text": [
      "INFO:tensorflow:global_step/sec: 11.746\n"
     ]
    },
    {
     "name": "stdout",
     "output_type": "stream",
     "text": [
      "INFO:tensorflow:loss = 241.31898, step = 1401 (8.513 sec)\n"
     ]
    },
    {
     "name": "stderr",
     "output_type": "stream",
     "text": [
      "INFO:tensorflow:loss = 241.31898, step = 1401 (8.513 sec)\n"
     ]
    },
    {
     "name": "stdout",
     "output_type": "stream",
     "text": [
      "INFO:tensorflow:global_step/sec: 11.9937\n"
     ]
    },
    {
     "name": "stderr",
     "output_type": "stream",
     "text": [
      "INFO:tensorflow:global_step/sec: 11.9937\n"
     ]
    },
    {
     "name": "stdout",
     "output_type": "stream",
     "text": [
      "INFO:tensorflow:loss = 15.242254, step = 1501 (8.338 sec)\n"
     ]
    },
    {
     "name": "stderr",
     "output_type": "stream",
     "text": [
      "INFO:tensorflow:loss = 15.242254, step = 1501 (8.338 sec)\n"
     ]
    },
    {
     "name": "stdout",
     "output_type": "stream",
     "text": [
      "INFO:tensorflow:global_step/sec: 12.0484\n"
     ]
    },
    {
     "name": "stderr",
     "output_type": "stream",
     "text": [
      "INFO:tensorflow:global_step/sec: 12.0484\n"
     ]
    },
    {
     "name": "stdout",
     "output_type": "stream",
     "text": [
      "INFO:tensorflow:loss = 154.5635, step = 1601 (8.303 sec)\n"
     ]
    },
    {
     "name": "stderr",
     "output_type": "stream",
     "text": [
      "INFO:tensorflow:loss = 154.5635, step = 1601 (8.303 sec)\n"
     ]
    },
    {
     "name": "stdout",
     "output_type": "stream",
     "text": [
      "INFO:tensorflow:global_step/sec: 11.0909\n"
     ]
    },
    {
     "name": "stderr",
     "output_type": "stream",
     "text": [
      "INFO:tensorflow:global_step/sec: 11.0909\n"
     ]
    },
    {
     "name": "stdout",
     "output_type": "stream",
     "text": [
      "INFO:tensorflow:loss = 166.57251, step = 1701 (9.016 sec)\n"
     ]
    },
    {
     "name": "stderr",
     "output_type": "stream",
     "text": [
      "INFO:tensorflow:loss = 166.57251, step = 1701 (9.016 sec)\n"
     ]
    },
    {
     "name": "stdout",
     "output_type": "stream",
     "text": [
      "INFO:tensorflow:global_step/sec: 11.3225\n"
     ]
    },
    {
     "name": "stderr",
     "output_type": "stream",
     "text": [
      "INFO:tensorflow:global_step/sec: 11.3225\n"
     ]
    },
    {
     "name": "stdout",
     "output_type": "stream",
     "text": [
      "INFO:tensorflow:loss = 33.59063, step = 1801 (8.833 sec)\n"
     ]
    },
    {
     "name": "stderr",
     "output_type": "stream",
     "text": [
      "INFO:tensorflow:loss = 33.59063, step = 1801 (8.833 sec)\n"
     ]
    },
    {
     "name": "stdout",
     "output_type": "stream",
     "text": [
      "INFO:tensorflow:global_step/sec: 11.8133\n"
     ]
    },
    {
     "name": "stderr",
     "output_type": "stream",
     "text": [
      "INFO:tensorflow:global_step/sec: 11.8133\n"
     ]
    },
    {
     "name": "stdout",
     "output_type": "stream",
     "text": [
      "INFO:tensorflow:loss = 267.76923, step = 1901 (8.462 sec)\n"
     ]
    },
    {
     "name": "stderr",
     "output_type": "stream",
     "text": [
      "INFO:tensorflow:loss = 267.76923, step = 1901 (8.462 sec)\n"
     ]
    },
    {
     "name": "stdout",
     "output_type": "stream",
     "text": [
      "INFO:tensorflow:Saving checkpoints for 2000 into deep_neural_network/model.ckpt.\n"
     ]
    },
    {
     "name": "stderr",
     "output_type": "stream",
     "text": [
      "INFO:tensorflow:Saving checkpoints for 2000 into deep_neural_network/model.ckpt.\n"
     ]
    },
    {
     "name": "stdout",
     "output_type": "stream",
     "text": [
      "INFO:tensorflow:Calling model_fn.\n"
     ]
    },
    {
     "name": "stderr",
     "output_type": "stream",
     "text": [
      "INFO:tensorflow:Calling model_fn.\n"
     ]
    },
    {
     "name": "stdout",
     "output_type": "stream",
     "text": [
      "WARNING:tensorflow:Entity <bound method _DNNModel.call of <tensorflow_estimator.python.estimator.canned.dnn._DNNModel object at 0x7f45172c3828>> could not be transformed and will be executed as-is. Please report this to the AutoGraph team. When filing the bug, set the verbosity to 10 (on Linux, `export AUTOGRAPH_VERBOSITY=10`) and attach the full output. Cause: module 'gast' has no attribute 'Num'\n"
     ]
    },
    {
     "name": "stderr",
     "output_type": "stream",
     "text": [
      "WARNING:tensorflow:Entity <bound method _DNNModel.call of <tensorflow_estimator.python.estimator.canned.dnn._DNNModel object at 0x7f45172c3828>> could not be transformed and will be executed as-is. Please report this to the AutoGraph team. When filing the bug, set the verbosity to 10 (on Linux, `export AUTOGRAPH_VERBOSITY=10`) and attach the full output. Cause: module 'gast' has no attribute 'Num'\n"
     ]
    },
    {
     "name": "stdout",
     "output_type": "stream",
     "text": [
      "WARNING: Entity <bound method _DNNModel.call of <tensorflow_estimator.python.estimator.canned.dnn._DNNModel object at 0x7f45172c3828>> could not be transformed and will be executed as-is. Please report this to the AutoGraph team. When filing the bug, set the verbosity to 10 (on Linux, `export AUTOGRAPH_VERBOSITY=10`) and attach the full output. Cause: module 'gast' has no attribute 'Num'\n",
      "INFO:tensorflow:Saver not created because there are no variables in the graph to restore\n"
     ]
    },
    {
     "name": "stderr",
     "output_type": "stream",
     "text": [
      "INFO:tensorflow:Saver not created because there are no variables in the graph to restore\n"
     ]
    },
    {
     "name": "stdout",
     "output_type": "stream",
     "text": [
      "INFO:tensorflow:Saver not created because there are no variables in the graph to restore\n"
     ]
    },
    {
     "name": "stderr",
     "output_type": "stream",
     "text": [
      "INFO:tensorflow:Saver not created because there are no variables in the graph to restore\n"
     ]
    },
    {
     "name": "stdout",
     "output_type": "stream",
     "text": [
      "INFO:tensorflow:Done calling model_fn.\n"
     ]
    },
    {
     "name": "stderr",
     "output_type": "stream",
     "text": [
      "INFO:tensorflow:Done calling model_fn.\n"
     ]
    },
    {
     "name": "stdout",
     "output_type": "stream",
     "text": [
      "INFO:tensorflow:Starting evaluation at 2020-05-31T07:14:35Z\n"
     ]
    },
    {
     "name": "stderr",
     "output_type": "stream",
     "text": [
      "INFO:tensorflow:Starting evaluation at 2020-05-31T07:14:35Z\n"
     ]
    },
    {
     "name": "stdout",
     "output_type": "stream",
     "text": [
      "INFO:tensorflow:Graph was finalized.\n"
     ]
    },
    {
     "name": "stderr",
     "output_type": "stream",
     "text": [
      "INFO:tensorflow:Graph was finalized.\n"
     ]
    },
    {
     "name": "stdout",
     "output_type": "stream",
     "text": [
      "INFO:tensorflow:Restoring parameters from deep_neural_network/model.ckpt-2000\n"
     ]
    },
    {
     "name": "stderr",
     "output_type": "stream",
     "text": [
      "INFO:tensorflow:Restoring parameters from deep_neural_network/model.ckpt-2000\n"
     ]
    },
    {
     "name": "stdout",
     "output_type": "stream",
     "text": [
      "INFO:tensorflow:Running local_init_op.\n"
     ]
    },
    {
     "name": "stderr",
     "output_type": "stream",
     "text": [
      "INFO:tensorflow:Running local_init_op.\n"
     ]
    },
    {
     "name": "stdout",
     "output_type": "stream",
     "text": [
      "INFO:tensorflow:Done running local_init_op.\n"
     ]
    },
    {
     "name": "stderr",
     "output_type": "stream",
     "text": [
      "INFO:tensorflow:Done running local_init_op.\n"
     ]
    },
    {
     "name": "stdout",
     "output_type": "stream",
     "text": [
      "INFO:tensorflow:Evaluation [10/100]\n"
     ]
    },
    {
     "name": "stderr",
     "output_type": "stream",
     "text": [
      "INFO:tensorflow:Evaluation [10/100]\n"
     ]
    },
    {
     "name": "stdout",
     "output_type": "stream",
     "text": [
      "INFO:tensorflow:Evaluation [20/100]\n"
     ]
    },
    {
     "name": "stderr",
     "output_type": "stream",
     "text": [
      "INFO:tensorflow:Evaluation [20/100]\n"
     ]
    },
    {
     "name": "stdout",
     "output_type": "stream",
     "text": [
      "INFO:tensorflow:Evaluation [30/100]\n"
     ]
    },
    {
     "name": "stderr",
     "output_type": "stream",
     "text": [
      "INFO:tensorflow:Evaluation [30/100]\n"
     ]
    },
    {
     "name": "stdout",
     "output_type": "stream",
     "text": [
      "INFO:tensorflow:Evaluation [40/100]\n"
     ]
    },
    {
     "name": "stderr",
     "output_type": "stream",
     "text": [
      "INFO:tensorflow:Evaluation [40/100]\n"
     ]
    },
    {
     "name": "stdout",
     "output_type": "stream",
     "text": [
      "INFO:tensorflow:Evaluation [50/100]\n"
     ]
    },
    {
     "name": "stderr",
     "output_type": "stream",
     "text": [
      "INFO:tensorflow:Evaluation [50/100]\n"
     ]
    },
    {
     "name": "stdout",
     "output_type": "stream",
     "text": [
      "INFO:tensorflow:Evaluation [60/100]\n"
     ]
    },
    {
     "name": "stderr",
     "output_type": "stream",
     "text": [
      "INFO:tensorflow:Evaluation [60/100]\n"
     ]
    },
    {
     "name": "stdout",
     "output_type": "stream",
     "text": [
      "INFO:tensorflow:Evaluation [70/100]\n"
     ]
    },
    {
     "name": "stderr",
     "output_type": "stream",
     "text": [
      "INFO:tensorflow:Evaluation [70/100]\n"
     ]
    },
    {
     "name": "stdout",
     "output_type": "stream",
     "text": [
      "INFO:tensorflow:Evaluation [80/100]\n"
     ]
    },
    {
     "name": "stderr",
     "output_type": "stream",
     "text": [
      "INFO:tensorflow:Evaluation [80/100]\n"
     ]
    },
    {
     "name": "stdout",
     "output_type": "stream",
     "text": [
      "INFO:tensorflow:Evaluation [90/100]\n"
     ]
    },
    {
     "name": "stderr",
     "output_type": "stream",
     "text": [
      "INFO:tensorflow:Evaluation [90/100]\n"
     ]
    },
    {
     "name": "stdout",
     "output_type": "stream",
     "text": [
      "INFO:tensorflow:Finished evaluation at 2020-05-31-07:14:42\n"
     ]
    },
    {
     "name": "stderr",
     "output_type": "stream",
     "text": [
      "INFO:tensorflow:Finished evaluation at 2020-05-31-07:14:42\n"
     ]
    },
    {
     "name": "stdout",
     "output_type": "stream",
     "text": [
      "INFO:tensorflow:Saving dict for global step 2000: accuracy = 0.04622195, average_loss = 15.736079, global_step = 2000, loss = 8045.278\n"
     ]
    },
    {
     "name": "stderr",
     "output_type": "stream",
     "text": [
      "INFO:tensorflow:Saving dict for global step 2000: accuracy = 0.04622195, average_loss = 15.736079, global_step = 2000, loss = 8045.278\n"
     ]
    },
    {
     "name": "stdout",
     "output_type": "stream",
     "text": [
      "INFO:tensorflow:Saving 'checkpoint_path' summary for global step 2000: deep_neural_network/model.ckpt-2000\n"
     ]
    },
    {
     "name": "stderr",
     "output_type": "stream",
     "text": [
      "INFO:tensorflow:Saving 'checkpoint_path' summary for global step 2000: deep_neural_network/model.ckpt-2000\n"
     ]
    },
    {
     "name": "stdout",
     "output_type": "stream",
     "text": [
      "INFO:tensorflow:Calling model_fn.\n"
     ]
    },
    {
     "name": "stderr",
     "output_type": "stream",
     "text": [
      "INFO:tensorflow:Calling model_fn.\n"
     ]
    },
    {
     "name": "stdout",
     "output_type": "stream",
     "text": [
      "WARNING:tensorflow:Entity <bound method _DNNModel.call of <tensorflow_estimator.python.estimator.canned.dnn._DNNModel object at 0x7f45170ea208>> could not be transformed and will be executed as-is. Please report this to the AutoGraph team. When filing the bug, set the verbosity to 10 (on Linux, `export AUTOGRAPH_VERBOSITY=10`) and attach the full output. Cause: module 'gast' has no attribute 'Num'\n"
     ]
    },
    {
     "name": "stderr",
     "output_type": "stream",
     "text": [
      "WARNING:tensorflow:Entity <bound method _DNNModel.call of <tensorflow_estimator.python.estimator.canned.dnn._DNNModel object at 0x7f45170ea208>> could not be transformed and will be executed as-is. Please report this to the AutoGraph team. When filing the bug, set the verbosity to 10 (on Linux, `export AUTOGRAPH_VERBOSITY=10`) and attach the full output. Cause: module 'gast' has no attribute 'Num'\n"
     ]
    },
    {
     "name": "stdout",
     "output_type": "stream",
     "text": [
      "WARNING: Entity <bound method _DNNModel.call of <tensorflow_estimator.python.estimator.canned.dnn._DNNModel object at 0x7f45170ea208>> could not be transformed and will be executed as-is. Please report this to the AutoGraph team. When filing the bug, set the verbosity to 10 (on Linux, `export AUTOGRAPH_VERBOSITY=10`) and attach the full output. Cause: module 'gast' has no attribute 'Num'\n",
      "INFO:tensorflow:Saver not created because there are no variables in the graph to restore\n"
     ]
    },
    {
     "name": "stderr",
     "output_type": "stream",
     "text": [
      "INFO:tensorflow:Saver not created because there are no variables in the graph to restore\n"
     ]
    },
    {
     "name": "stdout",
     "output_type": "stream",
     "text": [
      "INFO:tensorflow:Saver not created because there are no variables in the graph to restore\n"
     ]
    },
    {
     "name": "stderr",
     "output_type": "stream",
     "text": [
      "INFO:tensorflow:Saver not created because there are no variables in the graph to restore\n"
     ]
    },
    {
     "name": "stdout",
     "output_type": "stream",
     "text": [
      "INFO:tensorflow:Done calling model_fn.\n"
     ]
    },
    {
     "name": "stderr",
     "output_type": "stream",
     "text": [
      "INFO:tensorflow:Done calling model_fn.\n"
     ]
    },
    {
     "name": "stdout",
     "output_type": "stream",
     "text": [
      "INFO:tensorflow:Signatures INCLUDED in export for Classify: None\n"
     ]
    },
    {
     "name": "stderr",
     "output_type": "stream",
     "text": [
      "INFO:tensorflow:Signatures INCLUDED in export for Classify: None\n"
     ]
    },
    {
     "name": "stdout",
     "output_type": "stream",
     "text": [
      "INFO:tensorflow:Signatures INCLUDED in export for Regress: None\n"
     ]
    },
    {
     "name": "stderr",
     "output_type": "stream",
     "text": [
      "INFO:tensorflow:Signatures INCLUDED in export for Regress: None\n"
     ]
    },
    {
     "name": "stdout",
     "output_type": "stream",
     "text": [
      "INFO:tensorflow:Signatures INCLUDED in export for Predict: ['predict']\n"
     ]
    },
    {
     "name": "stderr",
     "output_type": "stream",
     "text": [
      "INFO:tensorflow:Signatures INCLUDED in export for Predict: ['predict']\n"
     ]
    },
    {
     "name": "stdout",
     "output_type": "stream",
     "text": [
      "INFO:tensorflow:Signatures INCLUDED in export for Train: None\n"
     ]
    },
    {
     "name": "stderr",
     "output_type": "stream",
     "text": [
      "INFO:tensorflow:Signatures INCLUDED in export for Train: None\n"
     ]
    },
    {
     "name": "stdout",
     "output_type": "stream",
     "text": [
      "INFO:tensorflow:Signatures INCLUDED in export for Eval: None\n"
     ]
    },
    {
     "name": "stderr",
     "output_type": "stream",
     "text": [
      "INFO:tensorflow:Signatures INCLUDED in export for Eval: None\n"
     ]
    },
    {
     "name": "stdout",
     "output_type": "stream",
     "text": [
      "INFO:tensorflow:Signatures EXCLUDED from export because they cannot be be served via TensorFlow Serving APIs:\n"
     ]
    },
    {
     "name": "stderr",
     "output_type": "stream",
     "text": [
      "INFO:tensorflow:Signatures EXCLUDED from export because they cannot be be served via TensorFlow Serving APIs:\n"
     ]
    },
    {
     "name": "stdout",
     "output_type": "stream",
     "text": [
      "INFO:tensorflow:'serving_default' : Classification input must be a single string Tensor; got {'Product': <tf.Tensor 'Placeholder:0' shape=(?,) dtype=string>, 'Company': <tf.Tensor 'Placeholder_1:0' shape=(?,) dtype=string>, 'Message': <tf.Tensor 'Placeholder_2:0' shape=(?,) dtype=string>}\n"
     ]
    },
    {
     "name": "stderr",
     "output_type": "stream",
     "text": [
      "INFO:tensorflow:'serving_default' : Classification input must be a single string Tensor; got {'Product': <tf.Tensor 'Placeholder:0' shape=(?,) dtype=string>, 'Company': <tf.Tensor 'Placeholder_1:0' shape=(?,) dtype=string>, 'Message': <tf.Tensor 'Placeholder_2:0' shape=(?,) dtype=string>}\n"
     ]
    },
    {
     "name": "stdout",
     "output_type": "stream",
     "text": [
      "INFO:tensorflow:'classification' : Classification input must be a single string Tensor; got {'Product': <tf.Tensor 'Placeholder:0' shape=(?,) dtype=string>, 'Company': <tf.Tensor 'Placeholder_1:0' shape=(?,) dtype=string>, 'Message': <tf.Tensor 'Placeholder_2:0' shape=(?,) dtype=string>}\n"
     ]
    },
    {
     "name": "stderr",
     "output_type": "stream",
     "text": [
      "INFO:tensorflow:'classification' : Classification input must be a single string Tensor; got {'Product': <tf.Tensor 'Placeholder:0' shape=(?,) dtype=string>, 'Company': <tf.Tensor 'Placeholder_1:0' shape=(?,) dtype=string>, 'Message': <tf.Tensor 'Placeholder_2:0' shape=(?,) dtype=string>}\n"
     ]
    },
    {
     "name": "stdout",
     "output_type": "stream",
     "text": [
      "WARNING:tensorflow:Export includes no default signature!\n"
     ]
    },
    {
     "name": "stderr",
     "output_type": "stream",
     "text": [
      "WARNING:tensorflow:Export includes no default signature!\n"
     ]
    },
    {
     "name": "stdout",
     "output_type": "stream",
     "text": [
      "INFO:tensorflow:Restoring parameters from deep_neural_network/model.ckpt-2000\n"
     ]
    },
    {
     "name": "stderr",
     "output_type": "stream",
     "text": [
      "INFO:tensorflow:Restoring parameters from deep_neural_network/model.ckpt-2000\n"
     ]
    },
    {
     "name": "stdout",
     "output_type": "stream",
     "text": [
      "INFO:tensorflow:Assets added to graph.\n"
     ]
    },
    {
     "name": "stderr",
     "output_type": "stream",
     "text": [
      "INFO:tensorflow:Assets added to graph.\n"
     ]
    },
    {
     "name": "stdout",
     "output_type": "stream",
     "text": [
      "INFO:tensorflow:Assets written to: deep_neural_network/export/exporter/temp-b'1590909282'/assets\n"
     ]
    },
    {
     "name": "stderr",
     "output_type": "stream",
     "text": [
      "INFO:tensorflow:Assets written to: deep_neural_network/export/exporter/temp-b'1590909282'/assets\n"
     ]
    },
    {
     "name": "stdout",
     "output_type": "stream",
     "text": [
      "INFO:tensorflow:SavedModel written to: deep_neural_network/export/exporter/temp-b'1590909282'/saved_model.pb\n"
     ]
    },
    {
     "name": "stderr",
     "output_type": "stream",
     "text": [
      "INFO:tensorflow:SavedModel written to: deep_neural_network/export/exporter/temp-b'1590909282'/saved_model.pb\n"
     ]
    },
    {
     "name": "stdout",
     "output_type": "stream",
     "text": [
      "INFO:tensorflow:Loss for final step: 11.785759.\n"
     ]
    },
    {
     "name": "stderr",
     "output_type": "stream",
     "text": [
      "INFO:tensorflow:Loss for final step: 11.785759.\n"
     ]
    }
   ],
   "source": [
    "OUTDIR = 'deep_neural_network'\n",
    "shutil.rmtree(OUTDIR, ignore_errors=True) \n",
    "train_and_evaluate_dnn(OUTDIR, 2000)"
   ]
  },
  {
   "cell_type": "markdown",
   "metadata": {
    "colab_type": "text",
    "id": "zi4ywb3qRX8N"
   },
   "source": [
    "Let's evaluate the model:"
   ]
  },
  {
   "cell_type": "code",
   "execution_count": 20,
   "metadata": {
    "colab": {
     "base_uri": "https://localhost:8080/",
     "height": 836
    },
    "colab_type": "code",
    "id": "hx9SvMCwvo0e",
    "outputId": "807c4144-af5c-4291-a122-2fe68f42aa3f"
   },
   "outputs": [
    {
     "name": "stdout",
     "output_type": "stream",
     "text": [
      "INFO:tensorflow:Using default config.\n"
     ]
    },
    {
     "name": "stderr",
     "output_type": "stream",
     "text": [
      "INFO:tensorflow:Using default config.\n"
     ]
    },
    {
     "name": "stdout",
     "output_type": "stream",
     "text": [
      "INFO:tensorflow:Using config: {'_model_dir': 'deep_neural_network', '_tf_random_seed': None, '_save_summary_steps': 100, '_save_checkpoints_steps': None, '_save_checkpoints_secs': 600, '_session_config': allow_soft_placement: true\n",
      "graph_options {\n",
      "  rewrite_options {\n",
      "    meta_optimizer_iterations: ONE\n",
      "  }\n",
      "}\n",
      ", '_keep_checkpoint_max': 5, '_keep_checkpoint_every_n_hours': 10000, '_log_step_count_steps': 100, '_train_distribute': None, '_device_fn': None, '_protocol': None, '_eval_distribute': None, '_experimental_distribute': None, '_experimental_max_worker_delay_secs': None, '_session_creation_timeout_secs': 7200, '_service': None, '_cluster_spec': <tensorflow.python.training.server_lib.ClusterSpec object at 0x7f4516f50e80>, '_task_type': 'worker', '_task_id': 0, '_global_id_in_cluster': 0, '_master': '', '_evaluation_master': '', '_is_chief': True, '_num_ps_replicas': 0, '_num_worker_replicas': 1}\n"
     ]
    },
    {
     "name": "stderr",
     "output_type": "stream",
     "text": [
      "INFO:tensorflow:Using config: {'_model_dir': 'deep_neural_network', '_tf_random_seed': None, '_save_summary_steps': 100, '_save_checkpoints_steps': None, '_save_checkpoints_secs': 600, '_session_config': allow_soft_placement: true\n",
      "graph_options {\n",
      "  rewrite_options {\n",
      "    meta_optimizer_iterations: ONE\n",
      "  }\n",
      "}\n",
      ", '_keep_checkpoint_max': 5, '_keep_checkpoint_every_n_hours': 10000, '_log_step_count_steps': 100, '_train_distribute': None, '_device_fn': None, '_protocol': None, '_eval_distribute': None, '_experimental_distribute': None, '_experimental_max_worker_delay_secs': None, '_session_creation_timeout_secs': 7200, '_service': None, '_cluster_spec': <tensorflow.python.training.server_lib.ClusterSpec object at 0x7f4516f50e80>, '_task_type': 'worker', '_task_id': 0, '_global_id_in_cluster': 0, '_master': '', '_evaluation_master': '', '_is_chief': True, '_num_ps_replicas': 0, '_num_worker_replicas': 1}\n"
     ]
    },
    {
     "name": "stdout",
     "output_type": "stream",
     "text": [
      "INFO:tensorflow:Calling model_fn.\n"
     ]
    },
    {
     "name": "stderr",
     "output_type": "stream",
     "text": [
      "INFO:tensorflow:Calling model_fn.\n"
     ]
    },
    {
     "name": "stdout",
     "output_type": "stream",
     "text": [
      "WARNING:tensorflow:Entity <bound method _DNNModel.call of <tensorflow_estimator.python.estimator.canned.dnn._DNNModel object at 0x7f4516f6c0f0>> could not be transformed and will be executed as-is. Please report this to the AutoGraph team. When filing the bug, set the verbosity to 10 (on Linux, `export AUTOGRAPH_VERBOSITY=10`) and attach the full output. Cause: module 'gast' has no attribute 'Num'\n"
     ]
    },
    {
     "name": "stderr",
     "output_type": "stream",
     "text": [
      "WARNING:tensorflow:Entity <bound method _DNNModel.call of <tensorflow_estimator.python.estimator.canned.dnn._DNNModel object at 0x7f4516f6c0f0>> could not be transformed and will be executed as-is. Please report this to the AutoGraph team. When filing the bug, set the verbosity to 10 (on Linux, `export AUTOGRAPH_VERBOSITY=10`) and attach the full output. Cause: module 'gast' has no attribute 'Num'\n"
     ]
    },
    {
     "name": "stdout",
     "output_type": "stream",
     "text": [
      "WARNING: Entity <bound method _DNNModel.call of <tensorflow_estimator.python.estimator.canned.dnn._DNNModel object at 0x7f4516f6c0f0>> could not be transformed and will be executed as-is. Please report this to the AutoGraph team. When filing the bug, set the verbosity to 10 (on Linux, `export AUTOGRAPH_VERBOSITY=10`) and attach the full output. Cause: module 'gast' has no attribute 'Num'\n",
      "INFO:tensorflow:Saver not created because there are no variables in the graph to restore\n"
     ]
    },
    {
     "name": "stderr",
     "output_type": "stream",
     "text": [
      "INFO:tensorflow:Saver not created because there are no variables in the graph to restore\n"
     ]
    },
    {
     "name": "stdout",
     "output_type": "stream",
     "text": [
      "INFO:tensorflow:Saver not created because there are no variables in the graph to restore\n"
     ]
    },
    {
     "name": "stderr",
     "output_type": "stream",
     "text": [
      "INFO:tensorflow:Saver not created because there are no variables in the graph to restore\n"
     ]
    },
    {
     "name": "stdout",
     "output_type": "stream",
     "text": [
      "INFO:tensorflow:Done calling model_fn.\n"
     ]
    },
    {
     "name": "stderr",
     "output_type": "stream",
     "text": [
      "INFO:tensorflow:Done calling model_fn.\n"
     ]
    },
    {
     "name": "stdout",
     "output_type": "stream",
     "text": [
      "INFO:tensorflow:Starting evaluation at 2020-05-31T07:14:45Z\n"
     ]
    },
    {
     "name": "stderr",
     "output_type": "stream",
     "text": [
      "INFO:tensorflow:Starting evaluation at 2020-05-31T07:14:45Z\n"
     ]
    },
    {
     "name": "stdout",
     "output_type": "stream",
     "text": [
      "INFO:tensorflow:Graph was finalized.\n"
     ]
    },
    {
     "name": "stderr",
     "output_type": "stream",
     "text": [
      "INFO:tensorflow:Graph was finalized.\n"
     ]
    },
    {
     "name": "stdout",
     "output_type": "stream",
     "text": [
      "INFO:tensorflow:Restoring parameters from deep_neural_network/model.ckpt-2000\n"
     ]
    },
    {
     "name": "stderr",
     "output_type": "stream",
     "text": [
      "INFO:tensorflow:Restoring parameters from deep_neural_network/model.ckpt-2000\n"
     ]
    },
    {
     "name": "stdout",
     "output_type": "stream",
     "text": [
      "INFO:tensorflow:Running local_init_op.\n"
     ]
    },
    {
     "name": "stderr",
     "output_type": "stream",
     "text": [
      "INFO:tensorflow:Running local_init_op.\n"
     ]
    },
    {
     "name": "stdout",
     "output_type": "stream",
     "text": [
      "INFO:tensorflow:Done running local_init_op.\n"
     ]
    },
    {
     "name": "stderr",
     "output_type": "stream",
     "text": [
      "INFO:tensorflow:Done running local_init_op.\n"
     ]
    },
    {
     "name": "stdout",
     "output_type": "stream",
     "text": [
      "INFO:tensorflow:Finished evaluation at 2020-05-31-07:14:52\n"
     ]
    },
    {
     "name": "stderr",
     "output_type": "stream",
     "text": [
      "INFO:tensorflow:Finished evaluation at 2020-05-31-07:14:52\n"
     ]
    },
    {
     "name": "stdout",
     "output_type": "stream",
     "text": [
      "INFO:tensorflow:Saving dict for global step 2000: accuracy = 0.04573064, average_loss = 15.698022, global_step = 2000, loss = 8025.324\n"
     ]
    },
    {
     "name": "stderr",
     "output_type": "stream",
     "text": [
      "INFO:tensorflow:Saving dict for global step 2000: accuracy = 0.04573064, average_loss = 15.698022, global_step = 2000, loss = 8025.324\n"
     ]
    },
    {
     "name": "stdout",
     "output_type": "stream",
     "text": [
      "INFO:tensorflow:Saving 'checkpoint_path' summary for global step 2000: deep_neural_network/model.ckpt-2000\n"
     ]
    },
    {
     "name": "stderr",
     "output_type": "stream",
     "text": [
      "INFO:tensorflow:Saving 'checkpoint_path' summary for global step 2000: deep_neural_network/model.ckpt-2000\n"
     ]
    },
    {
     "data": {
      "text/plain": [
       "{'accuracy': 0.04573064,\n",
       " 'average_loss': 15.698022,\n",
       " 'global_step': 2000,\n",
       " 'loss': 8025.324}"
      ]
     },
     "execution_count": 20,
     "metadata": {
      "tags": []
     },
     "output_type": "execute_result"
    }
   ],
   "source": [
    "estimator = tf.estimator.DNNClassifier(\n",
    "    hidden_units = [256, 256], \n",
    "    feature_columns = get_feature_columns(), \n",
    "    model_dir = OUTDIR, \n",
    "    n_classes= len(list(ISS_VOCAB)), \n",
    "    label_vocabulary=list(ISS_VOCAB), \n",
    "  )\n",
    "\n",
    "estimator.evaluate(get_test_input_fn())"
   ]
  },
  {
   "cell_type": "markdown",
   "metadata": {
    "colab_type": "text",
    "id": "CtScC61Qws2O"
   },
   "source": [
    "This model achieves an accuracy of about 5%. Because of the results in the Proof of Concept we anticipated a much better score. However, this is probably due to the fact that we were not able to use Doc2Vec here. "
   ]
  },
  {
   "cell_type": "markdown",
   "metadata": {
    "colab_type": "text",
    "id": "kaUdfB5zw-KK"
   },
   "source": [
    "##### Wide and Deep model \n",
    "\n",
    "We decided to try a third kind of model. A wide and deep model is a combination of a Linear type and DNN type model. It allows us to decide which features are better used in what kind of model."
   ]
  },
  {
   "cell_type": "code",
   "execution_count": 0,
   "metadata": {
    "colab": {},
    "colab_type": "code",
    "id": "nwkNdtFhwcUZ"
   },
   "outputs": [],
   "source": [
    "# Create wide features (for linear part of model):\n",
    "def get_wide_features():\n",
    "    return [\n",
    "      # tf.feature_column.crossed_column(['Product', 'Company'], len(PROD_VOCAB) * len(COMP_VOCAB))\n",
    "      # one hot encoding of the categorical product column (using vocab)\n",
    "      tf.feature_column.indicator_column(tf.feature_column.categorical_column_with_vocabulary_list('Product', PROD_VOCAB)),\n",
    "      # one hot encoding of the categorical company column (using vocab)\n",
    "      tf.feature_column.indicator_column(tf.feature_column.categorical_column_with_vocabulary_list('Company', COMP_VOCAB))\n",
    "    ]\n",
    "\n",
    "# Create deep features (for DNN part of model):\n",
    "def get_deep_features():\n",
    "    return [\n",
    "      # embedding of text using premade model \n",
    "      hub.text_embedding_column('Message', module_spec=\"https://tfhub.dev/google/nnlm-en-dim128/1\")\n",
    "  ]"
   ]
  },
  {
   "cell_type": "code",
   "execution_count": 0,
   "metadata": {
    "colab": {},
    "colab_type": "code",
    "id": "SApS1Z6RxUve"
   },
   "outputs": [],
   "source": [
    "# Train and evaluate with canned estimator\n",
    "def train_and_evaluate_wnd(model_dir, steps):\n",
    "\n",
    "    tf.summary.FileWriterCache.clear()\n",
    "\n",
    "  # Create the estimator\n",
    "    estimator = tf.estimator.DNNLinearCombinedClassifier(\n",
    "        model_dir=model_dir, \n",
    "        linear_feature_columns=get_wide_features(), \n",
    "        dnn_feature_columns=get_deep_features(),  \n",
    "        dnn_hidden_units=[256,256],\n",
    "        n_classes=len(list(ISS_VOCAB)), \n",
    "        label_vocabulary=list(ISS_VOCAB), \n",
    "    )\n",
    "\n",
    "  # Create exporter\n",
    "    exporter = tf.estimator.LatestExporter('exporter', get_serve_input_fn)\n",
    "\n",
    "  # Define the training specifications\n",
    "    train_spec = tf.estimator.TrainSpec(\n",
    "        input_fn = get_train_input_fn(),\n",
    "        max_steps = steps\n",
    "    )\n",
    "\n",
    "  # Define the evaluatin specifications\n",
    "    eval_spec = tf.estimator.EvalSpec(\n",
    "        input_fn = get_eval_input_fn(),\n",
    "        exporters = exporter\n",
    "    )\n",
    "\n",
    "  # Call the actual train and evaluate function \n",
    "    tf.estimator.train_and_evaluate(estimator, train_spec, eval_spec)"
   ]
  },
  {
   "cell_type": "markdown",
   "metadata": {
    "colab_type": "text",
    "id": "WFgV9qTxRst3"
   },
   "source": [
    "Let's train the model:\n",
    "\n"
   ]
  },
  {
   "cell_type": "code",
   "execution_count": 24,
   "metadata": {
    "colab": {
     "base_uri": "https://localhost:8080/",
     "height": 1000
    },
    "colab_type": "code",
    "id": "3JvE8KbpxXQg",
    "outputId": "68336b89-be5f-495e-945b-733bd73ee0e4"
   },
   "outputs": [
    {
     "name": "stdout",
     "output_type": "stream",
     "text": [
      "INFO:tensorflow:Using config: {'_model_dir': 'wide_and_deep', '_tf_random_seed': None, '_save_summary_steps': 100, '_save_checkpoints_steps': None, '_save_checkpoints_secs': 600, '_session_config': allow_soft_placement: true\n",
      "graph_options {\n",
      "  rewrite_options {\n",
      "    meta_optimizer_iterations: ONE\n",
      "  }\n",
      "}\n",
      ", '_keep_checkpoint_max': 5, '_keep_checkpoint_every_n_hours': 10000, '_log_step_count_steps': 100, '_train_distribute': None, '_device_fn': None, '_protocol': None, '_eval_distribute': None, '_experimental_distribute': None, '_experimental_max_worker_delay_secs': None, '_session_creation_timeout_secs': 7200, '_service': None, '_cluster_spec': <tensorflow.python.training.server_lib.ClusterSpec object at 0x7f4516d52390>, '_task_type': 'worker', '_task_id': 0, '_global_id_in_cluster': 0, '_master': '', '_evaluation_master': '', '_is_chief': True, '_num_ps_replicas': 0, '_num_worker_replicas': 1}\n"
     ]
    },
    {
     "name": "stderr",
     "output_type": "stream",
     "text": [
      "INFO:tensorflow:Using config: {'_model_dir': 'wide_and_deep', '_tf_random_seed': None, '_save_summary_steps': 100, '_save_checkpoints_steps': None, '_save_checkpoints_secs': 600, '_session_config': allow_soft_placement: true\n",
      "graph_options {\n",
      "  rewrite_options {\n",
      "    meta_optimizer_iterations: ONE\n",
      "  }\n",
      "}\n",
      ", '_keep_checkpoint_max': 5, '_keep_checkpoint_every_n_hours': 10000, '_log_step_count_steps': 100, '_train_distribute': None, '_device_fn': None, '_protocol': None, '_eval_distribute': None, '_experimental_distribute': None, '_experimental_max_worker_delay_secs': None, '_session_creation_timeout_secs': 7200, '_service': None, '_cluster_spec': <tensorflow.python.training.server_lib.ClusterSpec object at 0x7f4516d52390>, '_task_type': 'worker', '_task_id': 0, '_global_id_in_cluster': 0, '_master': '', '_evaluation_master': '', '_is_chief': True, '_num_ps_replicas': 0, '_num_worker_replicas': 1}\n"
     ]
    },
    {
     "name": "stdout",
     "output_type": "stream",
     "text": [
      "INFO:tensorflow:Not using Distribute Coordinator.\n"
     ]
    },
    {
     "name": "stderr",
     "output_type": "stream",
     "text": [
      "INFO:tensorflow:Not using Distribute Coordinator.\n"
     ]
    },
    {
     "name": "stdout",
     "output_type": "stream",
     "text": [
      "INFO:tensorflow:Running training and evaluation locally (non-distributed).\n"
     ]
    },
    {
     "name": "stderr",
     "output_type": "stream",
     "text": [
      "INFO:tensorflow:Running training and evaluation locally (non-distributed).\n"
     ]
    },
    {
     "name": "stdout",
     "output_type": "stream",
     "text": [
      "INFO:tensorflow:Start train and evaluate loop. The evaluate will happen after every checkpoint. Checkpoint frequency is determined based on RunConfig arguments: save_checkpoints_steps None or save_checkpoints_secs 600.\n"
     ]
    },
    {
     "name": "stderr",
     "output_type": "stream",
     "text": [
      "INFO:tensorflow:Start train and evaluate loop. The evaluate will happen after every checkpoint. Checkpoint frequency is determined based on RunConfig arguments: save_checkpoints_steps None or save_checkpoints_secs 600.\n"
     ]
    },
    {
     "name": "stdout",
     "output_type": "stream",
     "text": [
      "INFO:tensorflow:Calling model_fn.\n"
     ]
    },
    {
     "name": "stderr",
     "output_type": "stream",
     "text": [
      "INFO:tensorflow:Calling model_fn.\n"
     ]
    },
    {
     "name": "stdout",
     "output_type": "stream",
     "text": [
      "WARNING:tensorflow:Entity <bound method _DNNModel.call of <tensorflow_estimator.python.estimator.canned.dnn._DNNModel object at 0x7f4516d52dd8>> could not be transformed and will be executed as-is. Please report this to the AutoGraph team. When filing the bug, set the verbosity to 10 (on Linux, `export AUTOGRAPH_VERBOSITY=10`) and attach the full output. Cause: module 'gast' has no attribute 'Num'\n"
     ]
    },
    {
     "name": "stderr",
     "output_type": "stream",
     "text": [
      "WARNING:tensorflow:Entity <bound method _DNNModel.call of <tensorflow_estimator.python.estimator.canned.dnn._DNNModel object at 0x7f4516d52dd8>> could not be transformed and will be executed as-is. Please report this to the AutoGraph team. When filing the bug, set the verbosity to 10 (on Linux, `export AUTOGRAPH_VERBOSITY=10`) and attach the full output. Cause: module 'gast' has no attribute 'Num'\n"
     ]
    },
    {
     "name": "stdout",
     "output_type": "stream",
     "text": [
      "WARNING: Entity <bound method _DNNModel.call of <tensorflow_estimator.python.estimator.canned.dnn._DNNModel object at 0x7f4516d52dd8>> could not be transformed and will be executed as-is. Please report this to the AutoGraph team. When filing the bug, set the verbosity to 10 (on Linux, `export AUTOGRAPH_VERBOSITY=10`) and attach the full output. Cause: module 'gast' has no attribute 'Num'\n",
      "INFO:tensorflow:Saver not created because there are no variables in the graph to restore\n"
     ]
    },
    {
     "name": "stderr",
     "output_type": "stream",
     "text": [
      "INFO:tensorflow:Saver not created because there are no variables in the graph to restore\n"
     ]
    },
    {
     "name": "stdout",
     "output_type": "stream",
     "text": [
      "INFO:tensorflow:Saver not created because there are no variables in the graph to restore\n"
     ]
    },
    {
     "name": "stderr",
     "output_type": "stream",
     "text": [
      "INFO:tensorflow:Saver not created because there are no variables in the graph to restore\n"
     ]
    },
    {
     "name": "stdout",
     "output_type": "stream",
     "text": [
      "INFO:tensorflow:Done calling model_fn.\n"
     ]
    },
    {
     "name": "stderr",
     "output_type": "stream",
     "text": [
      "INFO:tensorflow:Done calling model_fn.\n"
     ]
    },
    {
     "name": "stdout",
     "output_type": "stream",
     "text": [
      "INFO:tensorflow:Create CheckpointSaverHook.\n"
     ]
    },
    {
     "name": "stderr",
     "output_type": "stream",
     "text": [
      "INFO:tensorflow:Create CheckpointSaverHook.\n"
     ]
    },
    {
     "name": "stdout",
     "output_type": "stream",
     "text": [
      "INFO:tensorflow:Graph was finalized.\n"
     ]
    },
    {
     "name": "stderr",
     "output_type": "stream",
     "text": [
      "INFO:tensorflow:Graph was finalized.\n"
     ]
    },
    {
     "name": "stdout",
     "output_type": "stream",
     "text": [
      "INFO:tensorflow:Running local_init_op.\n"
     ]
    },
    {
     "name": "stderr",
     "output_type": "stream",
     "text": [
      "INFO:tensorflow:Running local_init_op.\n"
     ]
    },
    {
     "name": "stdout",
     "output_type": "stream",
     "text": [
      "INFO:tensorflow:Done running local_init_op.\n"
     ]
    },
    {
     "name": "stderr",
     "output_type": "stream",
     "text": [
      "INFO:tensorflow:Done running local_init_op.\n"
     ]
    },
    {
     "name": "stdout",
     "output_type": "stream",
     "text": [
      "INFO:tensorflow:Saving checkpoints for 0 into wide_and_deep/model.ckpt.\n"
     ]
    },
    {
     "name": "stderr",
     "output_type": "stream",
     "text": [
      "INFO:tensorflow:Saving checkpoints for 0 into wide_and_deep/model.ckpt.\n"
     ]
    },
    {
     "name": "stdout",
     "output_type": "stream",
     "text": [
      "INFO:tensorflow:loss = 2017.4382, step = 1\n"
     ]
    },
    {
     "name": "stderr",
     "output_type": "stream",
     "text": [
      "INFO:tensorflow:loss = 2017.4382, step = 1\n"
     ]
    },
    {
     "name": "stdout",
     "output_type": "stream",
     "text": [
      "INFO:tensorflow:global_step/sec: 12.0901\n"
     ]
    },
    {
     "name": "stderr",
     "output_type": "stream",
     "text": [
      "INFO:tensorflow:global_step/sec: 12.0901\n"
     ]
    },
    {
     "name": "stdout",
     "output_type": "stream",
     "text": [
      "INFO:tensorflow:loss = 53.30283, step = 101 (8.275 sec)\n"
     ]
    },
    {
     "name": "stderr",
     "output_type": "stream",
     "text": [
      "INFO:tensorflow:loss = 53.30283, step = 101 (8.275 sec)\n"
     ]
    },
    {
     "name": "stdout",
     "output_type": "stream",
     "text": [
      "INFO:tensorflow:global_step/sec: 11.3881\n"
     ]
    },
    {
     "name": "stderr",
     "output_type": "stream",
     "text": [
      "INFO:tensorflow:global_step/sec: 11.3881\n"
     ]
    },
    {
     "name": "stdout",
     "output_type": "stream",
     "text": [
      "INFO:tensorflow:loss = 511.68414, step = 201 (8.782 sec)\n"
     ]
    },
    {
     "name": "stderr",
     "output_type": "stream",
     "text": [
      "INFO:tensorflow:loss = 511.68414, step = 201 (8.782 sec)\n"
     ]
    },
    {
     "name": "stdout",
     "output_type": "stream",
     "text": [
      "INFO:tensorflow:global_step/sec: 11.3141\n"
     ]
    },
    {
     "name": "stderr",
     "output_type": "stream",
     "text": [
      "INFO:tensorflow:global_step/sec: 11.3141\n"
     ]
    },
    {
     "name": "stdout",
     "output_type": "stream",
     "text": [
      "INFO:tensorflow:loss = 227.90274, step = 301 (8.835 sec)\n"
     ]
    },
    {
     "name": "stderr",
     "output_type": "stream",
     "text": [
      "INFO:tensorflow:loss = 227.90274, step = 301 (8.835 sec)\n"
     ]
    },
    {
     "name": "stdout",
     "output_type": "stream",
     "text": [
      "INFO:tensorflow:global_step/sec: 11.6641\n"
     ]
    },
    {
     "name": "stderr",
     "output_type": "stream",
     "text": [
      "INFO:tensorflow:global_step/sec: 11.6641\n"
     ]
    },
    {
     "name": "stdout",
     "output_type": "stream",
     "text": [
      "INFO:tensorflow:loss = 193.07036, step = 401 (8.576 sec)\n"
     ]
    },
    {
     "name": "stderr",
     "output_type": "stream",
     "text": [
      "INFO:tensorflow:loss = 193.07036, step = 401 (8.576 sec)\n"
     ]
    },
    {
     "name": "stdout",
     "output_type": "stream",
     "text": [
      "INFO:tensorflow:global_step/sec: 12.1891\n"
     ]
    },
    {
     "name": "stderr",
     "output_type": "stream",
     "text": [
      "INFO:tensorflow:global_step/sec: 12.1891\n"
     ]
    },
    {
     "name": "stdout",
     "output_type": "stream",
     "text": [
      "INFO:tensorflow:loss = 262.74335, step = 501 (8.203 sec)\n"
     ]
    },
    {
     "name": "stderr",
     "output_type": "stream",
     "text": [
      "INFO:tensorflow:loss = 262.74335, step = 501 (8.203 sec)\n"
     ]
    },
    {
     "name": "stdout",
     "output_type": "stream",
     "text": [
      "INFO:tensorflow:global_step/sec: 12.0538\n"
     ]
    },
    {
     "name": "stderr",
     "output_type": "stream",
     "text": [
      "INFO:tensorflow:global_step/sec: 12.0538\n"
     ]
    },
    {
     "name": "stdout",
     "output_type": "stream",
     "text": [
      "INFO:tensorflow:loss = 6.0094047, step = 601 (8.298 sec)\n"
     ]
    },
    {
     "name": "stderr",
     "output_type": "stream",
     "text": [
      "INFO:tensorflow:loss = 6.0094047, step = 601 (8.298 sec)\n"
     ]
    },
    {
     "name": "stdout",
     "output_type": "stream",
     "text": [
      "INFO:tensorflow:global_step/sec: 11.0964\n"
     ]
    },
    {
     "name": "stderr",
     "output_type": "stream",
     "text": [
      "INFO:tensorflow:global_step/sec: 11.0964\n"
     ]
    },
    {
     "name": "stdout",
     "output_type": "stream",
     "text": [
      "INFO:tensorflow:loss = 156.36086, step = 701 (9.010 sec)\n"
     ]
    },
    {
     "name": "stderr",
     "output_type": "stream",
     "text": [
      "INFO:tensorflow:loss = 156.36086, step = 701 (9.010 sec)\n"
     ]
    },
    {
     "name": "stdout",
     "output_type": "stream",
     "text": [
      "INFO:tensorflow:global_step/sec: 11.3586\n"
     ]
    },
    {
     "name": "stderr",
     "output_type": "stream",
     "text": [
      "INFO:tensorflow:global_step/sec: 11.3586\n"
     ]
    },
    {
     "name": "stdout",
     "output_type": "stream",
     "text": [
      "INFO:tensorflow:loss = 16.605362, step = 801 (8.805 sec)\n"
     ]
    },
    {
     "name": "stderr",
     "output_type": "stream",
     "text": [
      "INFO:tensorflow:loss = 16.605362, step = 801 (8.805 sec)\n"
     ]
    },
    {
     "name": "stdout",
     "output_type": "stream",
     "text": [
      "INFO:tensorflow:global_step/sec: 11.7056\n"
     ]
    },
    {
     "name": "stderr",
     "output_type": "stream",
     "text": [
      "INFO:tensorflow:global_step/sec: 11.7056\n"
     ]
    },
    {
     "name": "stdout",
     "output_type": "stream",
     "text": [
      "INFO:tensorflow:loss = 288.17407, step = 901 (8.542 sec)\n"
     ]
    },
    {
     "name": "stderr",
     "output_type": "stream",
     "text": [
      "INFO:tensorflow:loss = 288.17407, step = 901 (8.542 sec)\n"
     ]
    },
    {
     "name": "stdout",
     "output_type": "stream",
     "text": [
      "INFO:tensorflow:global_step/sec: 12.1129\n"
     ]
    },
    {
     "name": "stderr",
     "output_type": "stream",
     "text": [
      "INFO:tensorflow:global_step/sec: 12.1129\n"
     ]
    },
    {
     "name": "stdout",
     "output_type": "stream",
     "text": [
      "INFO:tensorflow:loss = 59.160755, step = 1001 (8.261 sec)\n"
     ]
    },
    {
     "name": "stderr",
     "output_type": "stream",
     "text": [
      "INFO:tensorflow:loss = 59.160755, step = 1001 (8.261 sec)\n"
     ]
    },
    {
     "name": "stdout",
     "output_type": "stream",
     "text": [
      "INFO:tensorflow:global_step/sec: 12.1433\n"
     ]
    },
    {
     "name": "stderr",
     "output_type": "stream",
     "text": [
      "INFO:tensorflow:global_step/sec: 12.1433\n"
     ]
    },
    {
     "name": "stdout",
     "output_type": "stream",
     "text": [
      "INFO:tensorflow:loss = 105.3094, step = 1101 (8.228 sec)\n"
     ]
    },
    {
     "name": "stderr",
     "output_type": "stream",
     "text": [
      "INFO:tensorflow:loss = 105.3094, step = 1101 (8.228 sec)\n"
     ]
    },
    {
     "name": "stdout",
     "output_type": "stream",
     "text": [
      "INFO:tensorflow:global_step/sec: 11.116\n"
     ]
    },
    {
     "name": "stderr",
     "output_type": "stream",
     "text": [
      "INFO:tensorflow:global_step/sec: 11.116\n"
     ]
    },
    {
     "name": "stdout",
     "output_type": "stream",
     "text": [
      "INFO:tensorflow:loss = 128.26431, step = 1201 (8.998 sec)\n"
     ]
    },
    {
     "name": "stderr",
     "output_type": "stream",
     "text": [
      "INFO:tensorflow:loss = 128.26431, step = 1201 (8.998 sec)\n"
     ]
    },
    {
     "name": "stdout",
     "output_type": "stream",
     "text": [
      "INFO:tensorflow:global_step/sec: 11.3322\n"
     ]
    },
    {
     "name": "stderr",
     "output_type": "stream",
     "text": [
      "INFO:tensorflow:global_step/sec: 11.3322\n"
     ]
    },
    {
     "name": "stdout",
     "output_type": "stream",
     "text": [
      "INFO:tensorflow:loss = 76.88522, step = 1301 (8.822 sec)\n"
     ]
    },
    {
     "name": "stderr",
     "output_type": "stream",
     "text": [
      "INFO:tensorflow:loss = 76.88522, step = 1301 (8.822 sec)\n"
     ]
    },
    {
     "name": "stdout",
     "output_type": "stream",
     "text": [
      "INFO:tensorflow:global_step/sec: 11.8131\n"
     ]
    },
    {
     "name": "stderr",
     "output_type": "stream",
     "text": [
      "INFO:tensorflow:global_step/sec: 11.8131\n"
     ]
    },
    {
     "name": "stdout",
     "output_type": "stream",
     "text": [
      "INFO:tensorflow:loss = 241.43307, step = 1401 (8.469 sec)\n"
     ]
    },
    {
     "name": "stderr",
     "output_type": "stream",
     "text": [
      "INFO:tensorflow:loss = 241.43307, step = 1401 (8.469 sec)\n"
     ]
    },
    {
     "name": "stdout",
     "output_type": "stream",
     "text": [
      "INFO:tensorflow:global_step/sec: 12.0177\n"
     ]
    },
    {
     "name": "stderr",
     "output_type": "stream",
     "text": [
      "INFO:tensorflow:global_step/sec: 12.0177\n"
     ]
    },
    {
     "name": "stdout",
     "output_type": "stream",
     "text": [
      "INFO:tensorflow:loss = 12.504532, step = 1501 (8.320 sec)\n"
     ]
    },
    {
     "name": "stderr",
     "output_type": "stream",
     "text": [
      "INFO:tensorflow:loss = 12.504532, step = 1501 (8.320 sec)\n"
     ]
    },
    {
     "name": "stdout",
     "output_type": "stream",
     "text": [
      "INFO:tensorflow:global_step/sec: 12.184\n"
     ]
    },
    {
     "name": "stderr",
     "output_type": "stream",
     "text": [
      "INFO:tensorflow:global_step/sec: 12.184\n"
     ]
    },
    {
     "name": "stdout",
     "output_type": "stream",
     "text": [
      "INFO:tensorflow:loss = 151.46532, step = 1601 (8.205 sec)\n"
     ]
    },
    {
     "name": "stderr",
     "output_type": "stream",
     "text": [
      "INFO:tensorflow:loss = 151.46532, step = 1601 (8.205 sec)\n"
     ]
    },
    {
     "name": "stdout",
     "output_type": "stream",
     "text": [
      "INFO:tensorflow:global_step/sec: 11.0949\n"
     ]
    },
    {
     "name": "stderr",
     "output_type": "stream",
     "text": [
      "INFO:tensorflow:global_step/sec: 11.0949\n"
     ]
    },
    {
     "name": "stdout",
     "output_type": "stream",
     "text": [
      "INFO:tensorflow:loss = 140.36855, step = 1701 (9.015 sec)\n"
     ]
    },
    {
     "name": "stderr",
     "output_type": "stream",
     "text": [
      "INFO:tensorflow:loss = 140.36855, step = 1701 (9.015 sec)\n"
     ]
    },
    {
     "name": "stdout",
     "output_type": "stream",
     "text": [
      "INFO:tensorflow:global_step/sec: 11.3703\n"
     ]
    },
    {
     "name": "stderr",
     "output_type": "stream",
     "text": [
      "INFO:tensorflow:global_step/sec: 11.3703\n"
     ]
    },
    {
     "name": "stdout",
     "output_type": "stream",
     "text": [
      "INFO:tensorflow:loss = 42.754227, step = 1801 (8.793 sec)\n"
     ]
    },
    {
     "name": "stderr",
     "output_type": "stream",
     "text": [
      "INFO:tensorflow:loss = 42.754227, step = 1801 (8.793 sec)\n"
     ]
    },
    {
     "name": "stdout",
     "output_type": "stream",
     "text": [
      "INFO:tensorflow:global_step/sec: 11.8991\n"
     ]
    },
    {
     "name": "stderr",
     "output_type": "stream",
     "text": [
      "INFO:tensorflow:global_step/sec: 11.8991\n"
     ]
    },
    {
     "name": "stdout",
     "output_type": "stream",
     "text": [
      "INFO:tensorflow:loss = 292.7226, step = 1901 (8.404 sec)\n"
     ]
    },
    {
     "name": "stderr",
     "output_type": "stream",
     "text": [
      "INFO:tensorflow:loss = 292.7226, step = 1901 (8.404 sec)\n"
     ]
    },
    {
     "name": "stdout",
     "output_type": "stream",
     "text": [
      "INFO:tensorflow:Saving checkpoints for 2000 into wide_and_deep/model.ckpt.\n"
     ]
    },
    {
     "name": "stderr",
     "output_type": "stream",
     "text": [
      "INFO:tensorflow:Saving checkpoints for 2000 into wide_and_deep/model.ckpt.\n"
     ]
    },
    {
     "name": "stdout",
     "output_type": "stream",
     "text": [
      "INFO:tensorflow:Calling model_fn.\n"
     ]
    },
    {
     "name": "stderr",
     "output_type": "stream",
     "text": [
      "INFO:tensorflow:Calling model_fn.\n"
     ]
    },
    {
     "name": "stdout",
     "output_type": "stream",
     "text": [
      "WARNING:tensorflow:Entity <bound method _DNNModel.call of <tensorflow_estimator.python.estimator.canned.dnn._DNNModel object at 0x7f45112412e8>> could not be transformed and will be executed as-is. Please report this to the AutoGraph team. When filing the bug, set the verbosity to 10 (on Linux, `export AUTOGRAPH_VERBOSITY=10`) and attach the full output. Cause: module 'gast' has no attribute 'Num'\n"
     ]
    },
    {
     "name": "stderr",
     "output_type": "stream",
     "text": [
      "WARNING:tensorflow:Entity <bound method _DNNModel.call of <tensorflow_estimator.python.estimator.canned.dnn._DNNModel object at 0x7f45112412e8>> could not be transformed and will be executed as-is. Please report this to the AutoGraph team. When filing the bug, set the verbosity to 10 (on Linux, `export AUTOGRAPH_VERBOSITY=10`) and attach the full output. Cause: module 'gast' has no attribute 'Num'\n"
     ]
    },
    {
     "name": "stdout",
     "output_type": "stream",
     "text": [
      "WARNING: Entity <bound method _DNNModel.call of <tensorflow_estimator.python.estimator.canned.dnn._DNNModel object at 0x7f45112412e8>> could not be transformed and will be executed as-is. Please report this to the AutoGraph team. When filing the bug, set the verbosity to 10 (on Linux, `export AUTOGRAPH_VERBOSITY=10`) and attach the full output. Cause: module 'gast' has no attribute 'Num'\n",
      "INFO:tensorflow:Saver not created because there are no variables in the graph to restore\n"
     ]
    },
    {
     "name": "stderr",
     "output_type": "stream",
     "text": [
      "INFO:tensorflow:Saver not created because there are no variables in the graph to restore\n"
     ]
    },
    {
     "name": "stdout",
     "output_type": "stream",
     "text": [
      "INFO:tensorflow:Saver not created because there are no variables in the graph to restore\n"
     ]
    },
    {
     "name": "stderr",
     "output_type": "stream",
     "text": [
      "INFO:tensorflow:Saver not created because there are no variables in the graph to restore\n"
     ]
    },
    {
     "name": "stdout",
     "output_type": "stream",
     "text": [
      "INFO:tensorflow:Done calling model_fn.\n"
     ]
    },
    {
     "name": "stderr",
     "output_type": "stream",
     "text": [
      "INFO:tensorflow:Done calling model_fn.\n"
     ]
    },
    {
     "name": "stdout",
     "output_type": "stream",
     "text": [
      "INFO:tensorflow:Starting evaluation at 2020-05-31T07:22:34Z\n"
     ]
    },
    {
     "name": "stderr",
     "output_type": "stream",
     "text": [
      "INFO:tensorflow:Starting evaluation at 2020-05-31T07:22:34Z\n"
     ]
    },
    {
     "name": "stdout",
     "output_type": "stream",
     "text": [
      "INFO:tensorflow:Graph was finalized.\n"
     ]
    },
    {
     "name": "stderr",
     "output_type": "stream",
     "text": [
      "INFO:tensorflow:Graph was finalized.\n"
     ]
    },
    {
     "name": "stdout",
     "output_type": "stream",
     "text": [
      "INFO:tensorflow:Restoring parameters from wide_and_deep/model.ckpt-2000\n"
     ]
    },
    {
     "name": "stderr",
     "output_type": "stream",
     "text": [
      "INFO:tensorflow:Restoring parameters from wide_and_deep/model.ckpt-2000\n"
     ]
    },
    {
     "name": "stdout",
     "output_type": "stream",
     "text": [
      "INFO:tensorflow:Running local_init_op.\n"
     ]
    },
    {
     "name": "stderr",
     "output_type": "stream",
     "text": [
      "INFO:tensorflow:Running local_init_op.\n"
     ]
    },
    {
     "name": "stdout",
     "output_type": "stream",
     "text": [
      "INFO:tensorflow:Done running local_init_op.\n"
     ]
    },
    {
     "name": "stderr",
     "output_type": "stream",
     "text": [
      "INFO:tensorflow:Done running local_init_op.\n"
     ]
    },
    {
     "name": "stdout",
     "output_type": "stream",
     "text": [
      "INFO:tensorflow:Evaluation [10/100]\n"
     ]
    },
    {
     "name": "stderr",
     "output_type": "stream",
     "text": [
      "INFO:tensorflow:Evaluation [10/100]\n"
     ]
    },
    {
     "name": "stdout",
     "output_type": "stream",
     "text": [
      "INFO:tensorflow:Evaluation [20/100]\n"
     ]
    },
    {
     "name": "stderr",
     "output_type": "stream",
     "text": [
      "INFO:tensorflow:Evaluation [20/100]\n"
     ]
    },
    {
     "name": "stdout",
     "output_type": "stream",
     "text": [
      "INFO:tensorflow:Evaluation [30/100]\n"
     ]
    },
    {
     "name": "stderr",
     "output_type": "stream",
     "text": [
      "INFO:tensorflow:Evaluation [30/100]\n"
     ]
    },
    {
     "name": "stdout",
     "output_type": "stream",
     "text": [
      "INFO:tensorflow:Evaluation [40/100]\n"
     ]
    },
    {
     "name": "stderr",
     "output_type": "stream",
     "text": [
      "INFO:tensorflow:Evaluation [40/100]\n"
     ]
    },
    {
     "name": "stdout",
     "output_type": "stream",
     "text": [
      "INFO:tensorflow:Evaluation [50/100]\n"
     ]
    },
    {
     "name": "stderr",
     "output_type": "stream",
     "text": [
      "INFO:tensorflow:Evaluation [50/100]\n"
     ]
    },
    {
     "name": "stdout",
     "output_type": "stream",
     "text": [
      "INFO:tensorflow:Evaluation [60/100]\n"
     ]
    },
    {
     "name": "stderr",
     "output_type": "stream",
     "text": [
      "INFO:tensorflow:Evaluation [60/100]\n"
     ]
    },
    {
     "name": "stdout",
     "output_type": "stream",
     "text": [
      "INFO:tensorflow:Evaluation [70/100]\n"
     ]
    },
    {
     "name": "stderr",
     "output_type": "stream",
     "text": [
      "INFO:tensorflow:Evaluation [70/100]\n"
     ]
    },
    {
     "name": "stdout",
     "output_type": "stream",
     "text": [
      "INFO:tensorflow:Evaluation [80/100]\n"
     ]
    },
    {
     "name": "stderr",
     "output_type": "stream",
     "text": [
      "INFO:tensorflow:Evaluation [80/100]\n"
     ]
    },
    {
     "name": "stdout",
     "output_type": "stream",
     "text": [
      "INFO:tensorflow:Evaluation [90/100]\n"
     ]
    },
    {
     "name": "stderr",
     "output_type": "stream",
     "text": [
      "INFO:tensorflow:Evaluation [90/100]\n"
     ]
    },
    {
     "name": "stdout",
     "output_type": "stream",
     "text": [
      "INFO:tensorflow:Finished evaluation at 2020-05-31-07:22:41\n"
     ]
    },
    {
     "name": "stderr",
     "output_type": "stream",
     "text": [
      "INFO:tensorflow:Finished evaluation at 2020-05-31-07:22:41\n"
     ]
    },
    {
     "name": "stdout",
     "output_type": "stream",
     "text": [
      "INFO:tensorflow:Saving dict for global step 2000: accuracy = 0.048198476, average_loss = 10.772164, global_step = 2000, loss = 5507.4106\n"
     ]
    },
    {
     "name": "stderr",
     "output_type": "stream",
     "text": [
      "INFO:tensorflow:Saving dict for global step 2000: accuracy = 0.048198476, average_loss = 10.772164, global_step = 2000, loss = 5507.4106\n"
     ]
    },
    {
     "name": "stdout",
     "output_type": "stream",
     "text": [
      "INFO:tensorflow:Saving 'checkpoint_path' summary for global step 2000: wide_and_deep/model.ckpt-2000\n"
     ]
    },
    {
     "name": "stderr",
     "output_type": "stream",
     "text": [
      "INFO:tensorflow:Saving 'checkpoint_path' summary for global step 2000: wide_and_deep/model.ckpt-2000\n"
     ]
    },
    {
     "name": "stdout",
     "output_type": "stream",
     "text": [
      "INFO:tensorflow:Calling model_fn.\n"
     ]
    },
    {
     "name": "stderr",
     "output_type": "stream",
     "text": [
      "INFO:tensorflow:Calling model_fn.\n"
     ]
    },
    {
     "name": "stdout",
     "output_type": "stream",
     "text": [
      "WARNING:tensorflow:Entity <bound method _DNNModel.call of <tensorflow_estimator.python.estimator.canned.dnn._DNNModel object at 0x7f4516f13908>> could not be transformed and will be executed as-is. Please report this to the AutoGraph team. When filing the bug, set the verbosity to 10 (on Linux, `export AUTOGRAPH_VERBOSITY=10`) and attach the full output. Cause: module 'gast' has no attribute 'Num'\n"
     ]
    },
    {
     "name": "stderr",
     "output_type": "stream",
     "text": [
      "WARNING:tensorflow:Entity <bound method _DNNModel.call of <tensorflow_estimator.python.estimator.canned.dnn._DNNModel object at 0x7f4516f13908>> could not be transformed and will be executed as-is. Please report this to the AutoGraph team. When filing the bug, set the verbosity to 10 (on Linux, `export AUTOGRAPH_VERBOSITY=10`) and attach the full output. Cause: module 'gast' has no attribute 'Num'\n"
     ]
    },
    {
     "name": "stdout",
     "output_type": "stream",
     "text": [
      "WARNING: Entity <bound method _DNNModel.call of <tensorflow_estimator.python.estimator.canned.dnn._DNNModel object at 0x7f4516f13908>> could not be transformed and will be executed as-is. Please report this to the AutoGraph team. When filing the bug, set the verbosity to 10 (on Linux, `export AUTOGRAPH_VERBOSITY=10`) and attach the full output. Cause: module 'gast' has no attribute 'Num'\n",
      "INFO:tensorflow:Saver not created because there are no variables in the graph to restore\n"
     ]
    },
    {
     "name": "stderr",
     "output_type": "stream",
     "text": [
      "INFO:tensorflow:Saver not created because there are no variables in the graph to restore\n"
     ]
    },
    {
     "name": "stdout",
     "output_type": "stream",
     "text": [
      "INFO:tensorflow:Saver not created because there are no variables in the graph to restore\n"
     ]
    },
    {
     "name": "stderr",
     "output_type": "stream",
     "text": [
      "INFO:tensorflow:Saver not created because there are no variables in the graph to restore\n"
     ]
    },
    {
     "name": "stdout",
     "output_type": "stream",
     "text": [
      "INFO:tensorflow:Done calling model_fn.\n"
     ]
    },
    {
     "name": "stderr",
     "output_type": "stream",
     "text": [
      "INFO:tensorflow:Done calling model_fn.\n"
     ]
    },
    {
     "name": "stdout",
     "output_type": "stream",
     "text": [
      "INFO:tensorflow:Signatures INCLUDED in export for Classify: None\n"
     ]
    },
    {
     "name": "stderr",
     "output_type": "stream",
     "text": [
      "INFO:tensorflow:Signatures INCLUDED in export for Classify: None\n"
     ]
    },
    {
     "name": "stdout",
     "output_type": "stream",
     "text": [
      "INFO:tensorflow:Signatures INCLUDED in export for Regress: None\n"
     ]
    },
    {
     "name": "stderr",
     "output_type": "stream",
     "text": [
      "INFO:tensorflow:Signatures INCLUDED in export for Regress: None\n"
     ]
    },
    {
     "name": "stdout",
     "output_type": "stream",
     "text": [
      "INFO:tensorflow:Signatures INCLUDED in export for Predict: ['predict']\n"
     ]
    },
    {
     "name": "stderr",
     "output_type": "stream",
     "text": [
      "INFO:tensorflow:Signatures INCLUDED in export for Predict: ['predict']\n"
     ]
    },
    {
     "name": "stdout",
     "output_type": "stream",
     "text": [
      "INFO:tensorflow:Signatures INCLUDED in export for Train: None\n"
     ]
    },
    {
     "name": "stderr",
     "output_type": "stream",
     "text": [
      "INFO:tensorflow:Signatures INCLUDED in export for Train: None\n"
     ]
    },
    {
     "name": "stdout",
     "output_type": "stream",
     "text": [
      "INFO:tensorflow:Signatures INCLUDED in export for Eval: None\n"
     ]
    },
    {
     "name": "stderr",
     "output_type": "stream",
     "text": [
      "INFO:tensorflow:Signatures INCLUDED in export for Eval: None\n"
     ]
    },
    {
     "name": "stdout",
     "output_type": "stream",
     "text": [
      "INFO:tensorflow:Signatures EXCLUDED from export because they cannot be be served via TensorFlow Serving APIs:\n"
     ]
    },
    {
     "name": "stderr",
     "output_type": "stream",
     "text": [
      "INFO:tensorflow:Signatures EXCLUDED from export because they cannot be be served via TensorFlow Serving APIs:\n"
     ]
    },
    {
     "name": "stdout",
     "output_type": "stream",
     "text": [
      "INFO:tensorflow:'serving_default' : Classification input must be a single string Tensor; got {'Product': <tf.Tensor 'Placeholder:0' shape=(?,) dtype=string>, 'Company': <tf.Tensor 'Placeholder_1:0' shape=(?,) dtype=string>, 'Message': <tf.Tensor 'Placeholder_2:0' shape=(?,) dtype=string>}\n"
     ]
    },
    {
     "name": "stderr",
     "output_type": "stream",
     "text": [
      "INFO:tensorflow:'serving_default' : Classification input must be a single string Tensor; got {'Product': <tf.Tensor 'Placeholder:0' shape=(?,) dtype=string>, 'Company': <tf.Tensor 'Placeholder_1:0' shape=(?,) dtype=string>, 'Message': <tf.Tensor 'Placeholder_2:0' shape=(?,) dtype=string>}\n"
     ]
    },
    {
     "name": "stdout",
     "output_type": "stream",
     "text": [
      "INFO:tensorflow:'classification' : Classification input must be a single string Tensor; got {'Product': <tf.Tensor 'Placeholder:0' shape=(?,) dtype=string>, 'Company': <tf.Tensor 'Placeholder_1:0' shape=(?,) dtype=string>, 'Message': <tf.Tensor 'Placeholder_2:0' shape=(?,) dtype=string>}\n"
     ]
    },
    {
     "name": "stderr",
     "output_type": "stream",
     "text": [
      "INFO:tensorflow:'classification' : Classification input must be a single string Tensor; got {'Product': <tf.Tensor 'Placeholder:0' shape=(?,) dtype=string>, 'Company': <tf.Tensor 'Placeholder_1:0' shape=(?,) dtype=string>, 'Message': <tf.Tensor 'Placeholder_2:0' shape=(?,) dtype=string>}\n"
     ]
    },
    {
     "name": "stdout",
     "output_type": "stream",
     "text": [
      "WARNING:tensorflow:Export includes no default signature!\n"
     ]
    },
    {
     "name": "stderr",
     "output_type": "stream",
     "text": [
      "WARNING:tensorflow:Export includes no default signature!\n"
     ]
    },
    {
     "name": "stdout",
     "output_type": "stream",
     "text": [
      "INFO:tensorflow:Restoring parameters from wide_and_deep/model.ckpt-2000\n"
     ]
    },
    {
     "name": "stderr",
     "output_type": "stream",
     "text": [
      "INFO:tensorflow:Restoring parameters from wide_and_deep/model.ckpt-2000\n"
     ]
    },
    {
     "name": "stdout",
     "output_type": "stream",
     "text": [
      "INFO:tensorflow:Assets added to graph.\n"
     ]
    },
    {
     "name": "stderr",
     "output_type": "stream",
     "text": [
      "INFO:tensorflow:Assets added to graph.\n"
     ]
    },
    {
     "name": "stdout",
     "output_type": "stream",
     "text": [
      "INFO:tensorflow:Assets written to: wide_and_deep/export/exporter/temp-b'1590909761'/assets\n"
     ]
    },
    {
     "name": "stderr",
     "output_type": "stream",
     "text": [
      "INFO:tensorflow:Assets written to: wide_and_deep/export/exporter/temp-b'1590909761'/assets\n"
     ]
    },
    {
     "name": "stdout",
     "output_type": "stream",
     "text": [
      "INFO:tensorflow:SavedModel written to: wide_and_deep/export/exporter/temp-b'1590909761'/saved_model.pb\n"
     ]
    },
    {
     "name": "stderr",
     "output_type": "stream",
     "text": [
      "INFO:tensorflow:SavedModel written to: wide_and_deep/export/exporter/temp-b'1590909761'/saved_model.pb\n"
     ]
    },
    {
     "name": "stdout",
     "output_type": "stream",
     "text": [
      "INFO:tensorflow:Loss for final step: 13.383623.\n"
     ]
    },
    {
     "name": "stderr",
     "output_type": "stream",
     "text": [
      "INFO:tensorflow:Loss for final step: 13.383623.\n"
     ]
    }
   ],
   "source": [
    "OUTDIR = 'wide_and_deep'\n",
    "shutil.rmtree(OUTDIR, ignore_errors=True) \n",
    "train_and_evaluate_dnn(OUTDIR, 2000)"
   ]
  },
  {
   "cell_type": "markdown",
   "metadata": {
    "colab_type": "text",
    "id": "2I7Q_K05k_DA"
   },
   "source": [
    "### Conclusion of experiments\n",
    "\n",
    "Thanks to the PoC we know that 50% accuracy (for 50+ classes) can be achieved using a NN when Doc2Vec is used. If we knew how to use Doc2Vec we would be able to rebuild the full PoC as an DNNClassifier. Without Doc2Vec all three models have a lower accuracy than the model created in the PoC. \n",
    "\n",
    "Since we wanted to focus on productionizing the model, we decided to pick the best model out of the 3: LinearClassifier. And ignore the possible accuracy gains for now since this was the focus of previous sprints.\n"
   ]
  },
  {
   "cell_type": "markdown",
   "metadata": {
    "colab_type": "text",
    "id": "SOltAECPxyf3"
   },
   "source": [
    "### Packaging the code\n",
    "\n",
    "In order to train the model on GCP (which allows for hyperparameter tuning) we need to create a package. This requires the creation of 3 files."
   ]
  },
  {
   "cell_type": "markdown",
   "metadata": {
    "colab_type": "text",
    "id": "h2BcI0AdyG1b"
   },
   "source": [
    "#### `__init__.py`\n"
   ]
  },
  {
   "cell_type": "code",
   "execution_count": 28,
   "metadata": {
    "colab": {
     "base_uri": "https://localhost:8080/",
     "height": 34
    },
    "colab_type": "code",
    "id": "Jv-vyxuoyVL-",
    "outputId": "dc888b9f-98e4-479e-e0f1-05fb0132c2d3"
   },
   "outputs": [
    {
     "name": "stderr",
     "output_type": "stream",
     "text": [
      "mkdir: cannot create directory ‘trainer’: File exists\n"
     ]
    }
   ],
   "source": [
    "%%bash\n",
    "mkdir trainer\n",
    "cp -r preproc ./trainer/"
   ]
  },
  {
   "cell_type": "code",
   "execution_count": 29,
   "metadata": {
    "colab": {
     "base_uri": "https://localhost:8080/",
     "height": 34
    },
    "colab_type": "code",
    "id": "GICY9s5kyFEK",
    "outputId": "8edb5bdc-6b6d-4125-fd82-c31d55c89ce8"
   },
   "outputs": [
    {
     "name": "stdout",
     "output_type": "stream",
     "text": [
      "Writing trainer/__init__.py\n"
     ]
    }
   ],
   "source": [
    "%%writefile trainer/__init__.py\n",
    "\n",
    "# empty"
   ]
  },
  {
   "cell_type": "markdown",
   "metadata": {
    "colab_type": "text",
    "id": "PJwdyQLeyaKU"
   },
   "source": [
    "#### model.py\n",
    "\n",
    "This file defines the model that will be used"
   ]
  },
  {
   "cell_type": "code",
   "execution_count": 43,
   "metadata": {
    "colab": {
     "base_uri": "https://localhost:8080/",
     "height": 34
    },
    "colab_type": "code",
    "id": "g6-W35a3yQNw",
    "outputId": "e700698d-4df1-4e14-f4f7-46478f807be4"
   },
   "outputs": [
    {
     "name": "stdout",
     "output_type": "stream",
     "text": [
      "Overwriting trainer/model.py\n"
     ]
    }
   ],
   "source": [
    "%%writefile trainer/model.py\n",
    "\n",
    "import sys\n",
    "import os \n",
    "\n",
    "import pandas as pd\n",
    "import numpy as np\n",
    "\n",
    "import tensorflow as tf\n",
    "import tensorflow_hub as hub\n",
    "import shutil\n",
    "\n",
    "## DEFINING CONSTANTS\n",
    "\n",
    "train_data = pd.read_csv('./preproc/train_data.csv')\n",
    "eval_data = pd.read_csv('./preproc/eval_data.csv')\n",
    "test_data = pd.read_csv('./preproc/test_data.csv')\n",
    "balanced_train_small = pd.read_csv('./preproc/balanced_train_small.csv')\n",
    "balanced_train_larger = pd.read_csv('./preproc/balanced_train_larger.csv')\n",
    "\n",
    "CSV_COLUMNS = ['Product', 'Company', 'Message', 'Issue']\n",
    "CSV_FEATURES = ['Product', 'Company', 'Message']\n",
    "TARGET_LABEL = 'Issue'\n",
    "DEFAULTS = [['Unknown'], ['Unknown'], ['Unknown']]\n",
    "\n",
    "PROD_VOCAB = np.append(train_data['Product'].unique(), 'Unknown')\n",
    "PROD_VOCAB = np.append(PROD_VOCAB, eval_data['Product'].unique())\n",
    "PROD_VOCAB = np.append(PROD_VOCAB, test_data['Product'].unique())\n",
    "PROD_VOCAB = list(set(PROD_VOCAB))\n",
    "\n",
    "COMP_VOCAB = np.append(train_data['Company'].unique(), 'Unknown')\n",
    "COMP_VOCAB = np.append(COMP_VOCAB, eval_data['Company'].unique())\n",
    "COMP_VOCAB = np.append(COMP_VOCAB, test_data['Company'].unique())\n",
    "COMP_VOCAB = list(set(COMP_VOCAB))\n",
    "\n",
    "ISS_VOCAB = np.append(train_data['Issue'].unique(), 'Unknown')\n",
    "ISS_VOCAB = np.append(ISS_VOCAB, eval_data['Issue'].unique())\n",
    "ISS_VOCAB = np.append(ISS_VOCAB, test_data['Issue'].unique())\n",
    "ISS_VOCAB = list(set(ISS_VOCAB))\n",
    "\n",
    "BATCH_SIZE = 512\n",
    "\n",
    "## FEATURE COLUMNS\n",
    "\n",
    "def get_feature_columns():\n",
    "    return [\n",
    "        # tf.feature_column.crossed_column(['Product', 'Company'], len(COMP_VOCAB) * len(PROD_VOCAB))\n",
    "        # one hot encoding of the categorical product column (using vocab)\n",
    "        tf.feature_column.indicator_column(tf.feature_column.categorical_column_with_vocabulary_list('Product', PROD_VOCAB)),\n",
    "        # one hot encoding of the categorical company column (using vocab)\n",
    "        tf.feature_column.indicator_column(tf.feature_column.categorical_column_with_vocabulary_list('Company', COMP_VOCAB)),\n",
    "        # embedding of text using premade model \n",
    "        hub.text_embedding_column('Message', module_spec=\"https://tfhub.dev/google/nnlm-en-dim128/1\")\n",
    "    ]\n",
    "\n",
    "## INPUT FUNCTIONS\n",
    "\n",
    "def get_dataset(file_path, tf_mode):\n",
    "    def _input_fn():\n",
    "    \n",
    "        if tf_mode == tf.estimator.ModeKeys.TRAIN:\n",
    "            num_epochs = None\n",
    "            shuffle=True\n",
    "            shuffle_buffer_size=10*BATCH_SIZE\n",
    "        else:\n",
    "            num_epochs = 1\n",
    "            shuffle=False\n",
    "            shuffle_buffer_size=None\n",
    "\n",
    "        return tf.data.experimental.make_csv_dataset(\n",
    "          file_path,\n",
    "          batch_size=BATCH_SIZE, \n",
    "          label_name=TARGET_LABEL,\n",
    "          num_epochs=num_epochs,\n",
    "          shuffle=shuffle,\n",
    "          shuffle_buffer_size=shuffle_buffer_size\n",
    "        )\n",
    "\n",
    "    return _input_fn\n",
    "\n",
    "def get_train_input_fn():\n",
    "    return get_dataset('./preproc/balanced_train_larger.csv', tf.estimator.ModeKeys.TRAIN)\n",
    "\n",
    "def get_eval_input_fn():\n",
    "    return get_dataset('./preproc/eval_data.csv', tf.estimator.ModeKeys.EVAL)\n",
    "  \n",
    "def get_test_input_fn():\n",
    "    return get_dataset('./preproc/test_data.csv', tf.estimator.ModeKeys.PREDICT)\n",
    "\n",
    "def get_serve_input_fn():\n",
    "\n",
    "  # We'll receive 3 inputs, all of them are strings\n",
    "    feat_placeholders = {\n",
    "      'Product' : tf.placeholder(tf.string, [None]), \n",
    "      'Company' : tf.placeholder(tf.string, [None]), \n",
    "      'Message' : tf.placeholder(tf.string, [None])\n",
    "    }\n",
    "\n",
    "    features = feat_placeholders\n",
    "\n",
    "    return tf.estimator.export.ServingInputReceiver(features, feat_placeholders)\n",
    "\n",
    "# Train and evaluate with canned estimator\n",
    "def train_and_evaluate_lin(model_dir, steps):\n",
    "\n",
    "    # This ensures that eval points can be created for tensorboard analysis\n",
    "    #tf.summary.FileWriterCache.clear()\n",
    "\n",
    "    # Configuration of the run (commented lines determine the amount of eval points created)\n",
    "    run_config = tf.estimator.RunConfig(\n",
    "        model_dir = model_dir, \n",
    "        #save_summary_steps=100, \n",
    "        #save_checkpoints_steps=100\n",
    "    )\n",
    "\n",
    "    # Create the estimator\n",
    "    estimator = tf.estimator.LinearClassifier(\n",
    "        config = run_config,\n",
    "        feature_columns = get_feature_columns(), \n",
    "        n_classes = len(ISS_VOCAB),\n",
    "        label_vocabulary=ISS_VOCAB\n",
    "    )\n",
    "\n",
    "  # Create exporter\n",
    "    exporter = tf.estimator.LatestExporter('exporter', get_serve_input_fn)\n",
    "\n",
    "  # Define the training specifications\n",
    "    train_spec = tf.estimator.TrainSpec(\n",
    "        input_fn = get_train_input_fn(),\n",
    "        max_steps = steps\n",
    "    )\n",
    "\n",
    "  # Define the evaluatin specifications\n",
    "    eval_spec = tf.estimator.EvalSpec(\n",
    "        input_fn = get_eval_input_fn(),\n",
    "        exporters = exporter\n",
    "    )\n",
    "\n",
    "  # Call the actual train and evaluate function \n",
    "    tf.estimator.train_and_evaluate(estimator, train_spec, eval_spec)"
   ]
  },
  {
   "cell_type": "markdown",
   "metadata": {
    "colab_type": "text",
    "id": "-q1s1XQE0l4P"
   },
   "source": [
    "#### trainer.py\n",
    "\n",
    "This file parses the arguments and starts the specified task."
   ]
  },
  {
   "cell_type": "code",
   "execution_count": 36,
   "metadata": {
    "colab": {
     "base_uri": "https://localhost:8080/",
     "height": 34
    },
    "colab_type": "code",
    "id": "T5h0PQPg0gOg",
    "outputId": "8d335287-e502-46b0-8cb7-e3a27b49687e"
   },
   "outputs": [
    {
     "name": "stdout",
     "output_type": "stream",
     "text": [
      "Overwriting trainer/task.py\n"
     ]
    }
   ],
   "source": [
    "%%writefile trainer/task.py\n",
    "\n",
    "import argparse\n",
    "import json\n",
    "import os\n",
    "\n",
    "from . import model\n",
    "\n",
    "if __name__ == '__main__':\n",
    "  \n",
    "    parser = argparse.ArgumentParser()\n",
    "\n",
    "    parser.add_argument(\n",
    "        '--model_dir',\n",
    "        help = \"Output folder for the model\",\n",
    "        required = True\n",
    "    )\n",
    "    parser.add_argument(\n",
    "        '--train_steps',\n",
    "        help = 'Amount of training steps',\n",
    "        type = int,\n",
    "        default = 2000\n",
    "    )\n",
    "    parser.add_argument(\n",
    "        '--batch_size',\n",
    "        help = 'The size of the batches.',\n",
    "        type = int,\n",
    "        default=512\n",
    "    )\n",
    "\n",
    "    args = parser.parse_args()\n",
    "    arguments = args.__dict__\n",
    "\n",
    "    arguments.pop('job_dir', None)\n",
    "    arguments.pop('job-dir', None)\n",
    "\n",
    "    output_dir = arguments.pop('model_dir')\n",
    "    steps = arguments.pop('train_steps')\n",
    "    model.BATCH_SIZE = arguments.pop('batch_size')\n",
    "\n",
    "    output_dir = os.path.join(\n",
    "    output_dir, \n",
    "    json.loads(\n",
    "      os.environ.get('TF_CONFIG', '{}')\n",
    "    ).get('task', {}).get('trail', '')\n",
    "    )\n",
    "\n",
    "  \n",
    "  model.train_and_evaluate_lin(output_dir, steps)"
   ]
  },
  {
   "cell_type": "markdown",
   "metadata": {
    "colab_type": "text",
    "id": "Rz1bkZv93JQe"
   },
   "source": [
    "These 3 files make up the package. We executed the module locally to check if everything works properly:"
   ]
  },
  {
   "cell_type": "code",
   "execution_count": 44,
   "metadata": {
    "colab": {
     "base_uri": "https://localhost:8080/",
     "height": 1000
    },
    "colab_type": "code",
    "id": "5RFZrKgq2VTB",
    "outputId": "d61a5b97-0f83-4a21-f076-94acc48203ae"
   },
   "outputs": [
    {
     "name": "stdout",
     "output_type": "stream",
     "text": [
      "WARNING:tensorflow:From /tensorflow-1.15.2/python3.6/tensorflow_core/python/training/training_util.py:236: Variable.initialized_value (from tensorflow.python.ops.variables) is deprecated and will be removed in a future version.\n",
      "Instructions for updating:\n",
      "Use Variable.read_value. Variables in 2.X are initialized automatically both in eager and graph (inside tf.defun) contexts.\n",
      "WARNING:tensorflow:From /tensorflow-1.15.2/python3.6/tensorflow_core/python/training/training_util.py:236: Variable.initialized_value (from tensorflow.python.ops.variables) is deprecated and will be removed in a future version.\n",
      "Instructions for updating:\n",
      "Use Variable.read_value. Variables in 2.X are initialized automatically both in eager and graph (inside tf.defun) contexts.\n",
      "WARNING:tensorflow:From /tensorflow-1.15.2/python3.6/tensorflow_core/python/data/experimental/ops/readers.py:540: parallel_interleave (from tensorflow.python.data.experimental.ops.interleave_ops) is deprecated and will be removed in a future version.\n",
      "Instructions for updating:\n",
      "Use `tf.data.Dataset.interleave(map_func, cycle_length, block_length, num_parallel_calls=tf.data.experimental.AUTOTUNE)` instead. If sloppy execution is desired, use `tf.data.Options.experimental_determinstic`.\n",
      "WARNING:tensorflow:From /tensorflow-1.15.2/python3.6/tensorflow_core/python/data/experimental/ops/readers.py:540: parallel_interleave (from tensorflow.python.data.experimental.ops.interleave_ops) is deprecated and will be removed in a future version.\n",
      "Instructions for updating:\n",
      "Use `tf.data.Dataset.interleave(map_func, cycle_length, block_length, num_parallel_calls=tf.data.experimental.AUTOTUNE)` instead. If sloppy execution is desired, use `tf.data.Options.experimental_determinstic`.\n",
      "WARNING:tensorflow:From /tensorflow-1.15.2/python3.6/tensorflow_core/python/data/experimental/ops/readers.py:214: shuffle_and_repeat (from tensorflow.python.data.experimental.ops.shuffle_ops) is deprecated and will be removed in a future version.\n",
      "Instructions for updating:\n",
      "Use `tf.data.Dataset.shuffle(buffer_size, seed)` followed by `tf.data.Dataset.repeat(count)`. Static tf.data optimizations will take care of using the fused implementation.\n",
      "WARNING:tensorflow:From /tensorflow-1.15.2/python3.6/tensorflow_core/python/data/experimental/ops/readers.py:214: shuffle_and_repeat (from tensorflow.python.data.experimental.ops.shuffle_ops) is deprecated and will be removed in a future version.\n",
      "Instructions for updating:\n",
      "Use `tf.data.Dataset.shuffle(buffer_size, seed)` followed by `tf.data.Dataset.repeat(count)`. Static tf.data optimizations will take care of using the fused implementation.\n",
      "WARNING:tensorflow:From /tensorflow-1.15.2/python3.6/tensorflow_core/python/feature_column/feature_column_v2.py:305: Layer.add_variable (from tensorflow.python.keras.engine.base_layer) is deprecated and will be removed in a future version.\n",
      "Instructions for updating:\n",
      "Please use `layer.add_weight` method instead.\n",
      "WARNING:tensorflow:From /tensorflow-1.15.2/python3.6/tensorflow_core/python/feature_column/feature_column_v2.py:305: Layer.add_variable (from tensorflow.python.keras.engine.base_layer) is deprecated and will be removed in a future version.\n",
      "Instructions for updating:\n",
      "Please use `layer.add_weight` method instead.\n",
      "WARNING:tensorflow:From /tensorflow-1.15.2/python3.6/tensorflow_core/python/ops/resource_variable_ops.py:1630: calling BaseResourceVariable.__init__ (from tensorflow.python.ops.resource_variable_ops) with constraint is deprecated and will be removed in a future version.\n",
      "Instructions for updating:\n",
      "If using Keras pass *_constraint arguments to layers.\n",
      "WARNING:tensorflow:From /tensorflow-1.15.2/python3.6/tensorflow_core/python/ops/resource_variable_ops.py:1630: calling BaseResourceVariable.__init__ (from tensorflow.python.ops.resource_variable_ops) with constraint is deprecated and will be removed in a future version.\n",
      "Instructions for updating:\n",
      "If using Keras pass *_constraint arguments to layers.\n",
      "2020-05-31 07:37:22.665092: W tensorflow/core/graph/graph_constructor.cc:1491] Importing a graph with a lower producer version 26 into an existing graph with producer version 134. Shape inference will have run different parts of the graph with different producer versions.\n",
      "WARNING:tensorflow:From /tensorflow-1.15.2/python3.6/tensorflow_core/python/feature_column/feature_column_v2.py:4271: IndicatorColumn._variable_shape (from tensorflow.python.feature_column.feature_column_v2) is deprecated and will be removed in a future version.\n",
      "Instructions for updating:\n",
      "The old _FeatureColumn APIs are being deprecated. Please use the new FeatureColumn APIs instead.\n",
      "WARNING:tensorflow:From /tensorflow-1.15.2/python3.6/tensorflow_core/python/feature_column/feature_column_v2.py:4271: IndicatorColumn._variable_shape (from tensorflow.python.feature_column.feature_column_v2) is deprecated and will be removed in a future version.\n",
      "Instructions for updating:\n",
      "The old _FeatureColumn APIs are being deprecated. Please use the new FeatureColumn APIs instead.\n",
      "WARNING:tensorflow:From /tensorflow-1.15.2/python3.6/tensorflow_core/python/feature_column/feature_column_v2.py:4326: VocabularyListCategoricalColumn._num_buckets (from tensorflow.python.feature_column.feature_column_v2) is deprecated and will be removed in a future version.\n",
      "Instructions for updating:\n",
      "The old _FeatureColumn APIs are being deprecated. Please use the new FeatureColumn APIs instead.\n",
      "WARNING:tensorflow:From /tensorflow-1.15.2/python3.6/tensorflow_core/python/feature_column/feature_column_v2.py:4326: VocabularyListCategoricalColumn._num_buckets (from tensorflow.python.feature_column.feature_column_v2) is deprecated and will be removed in a future version.\n",
      "Instructions for updating:\n",
      "The old _FeatureColumn APIs are being deprecated. Please use the new FeatureColumn APIs instead.\n",
      "WARNING:tensorflow:From /tensorflow-1.15.2/python3.6/tensorflow_estimator/python/estimator/canned/linear.py:308: to_float (from tensorflow.python.ops.math_ops) is deprecated and will be removed in a future version.\n",
      "Instructions for updating:\n",
      "Use `tf.cast` instead.\n",
      "WARNING:tensorflow:From /tensorflow-1.15.2/python3.6/tensorflow_estimator/python/estimator/canned/linear.py:308: to_float (from tensorflow.python.ops.math_ops) is deprecated and will be removed in a future version.\n",
      "Instructions for updating:\n",
      "Use `tf.cast` instead.\n",
      "WARNING:tensorflow:From /tensorflow-1.15.2/python3.6/tensorflow_core/python/ops/array_ops.py:1475: where (from tensorflow.python.ops.array_ops) is deprecated and will be removed in a future version.\n",
      "Instructions for updating:\n",
      "Use tf.where in 2.0, which has the same broadcast rule as np.where\n",
      "WARNING:tensorflow:From /tensorflow-1.15.2/python3.6/tensorflow_core/python/ops/array_ops.py:1475: where (from tensorflow.python.ops.array_ops) is deprecated and will be removed in a future version.\n",
      "Instructions for updating:\n",
      "Use tf.where in 2.0, which has the same broadcast rule as np.where\n",
      "2020-05-31 07:37:23.234834: I tensorflow/core/platform/profile_utils/cpu_utils.cc:94] CPU Frequency: 2300000000 Hz\n",
      "2020-05-31 07:37:23.235141: I tensorflow/compiler/xla/service/service.cc:168] XLA service 0x1996a00 initialized for platform Host (this does not guarantee that XLA will be used). Devices:\n",
      "2020-05-31 07:37:23.235187: I tensorflow/compiler/xla/service/service.cc:176]   StreamExecutor device (0): Host, Default Version\n",
      "2020-05-31 07:37:23.249799: I tensorflow/stream_executor/platform/default/dso_loader.cc:44] Successfully opened dynamic library libcuda.so.1\n",
      "2020-05-31 07:37:23.255104: E tensorflow/stream_executor/cuda/cuda_driver.cc:318] failed call to cuInit: CUDA_ERROR_NO_DEVICE: no CUDA-capable device is detected\n",
      "2020-05-31 07:37:23.255153: I tensorflow/stream_executor/cuda/cuda_diagnostics.cc:156] kernel driver does not appear to be running on this host (dda440db16c0): /proc/driver/nvidia/version does not exist\n",
      "2020-05-31 07:37:23.293680: W tensorflow/core/framework/cpu_allocator_impl.cc:81] Allocation of 498570752 exceeds 10% of system memory.\n",
      "2020-05-31 07:37:26.605454: W tensorflow/core/framework/cpu_allocator_impl.cc:81] Allocation of 498570752 exceeds 10% of system memory.\n",
      "2020-05-31 07:37:28.745307: W tensorflow/core/graph/graph_constructor.cc:1491] Importing a graph with a lower producer version 26 into an existing graph with producer version 134. Shape inference will have run different parts of the graph with different producer versions.\n",
      "2020-05-31 07:37:29.245726: W tensorflow/core/framework/cpu_allocator_impl.cc:81] Allocation of 498570752 exceeds 10% of system memory.\n",
      "WARNING:tensorflow:From /content/trainer/model.py:93: The name tf.placeholder is deprecated. Please use tf.compat.v1.placeholder instead.\n",
      "\n",
      "WARNING:tensorflow:From /content/trainer/model.py:93: The name tf.placeholder is deprecated. Please use tf.compat.v1.placeholder instead.\n",
      "\n",
      "2020-05-31 07:37:33.954764: W tensorflow/core/graph/graph_constructor.cc:1491] Importing a graph with a lower producer version 26 into an existing graph with producer version 134. Shape inference will have run different parts of the graph with different producer versions.\n",
      "WARNING:tensorflow:From /tensorflow-1.15.2/python3.6/tensorflow_core/python/saved_model/signature_def_utils_impl.py:201: build_tensor_info (from tensorflow.python.saved_model.utils_impl) is deprecated and will be removed in a future version.\n",
      "Instructions for updating:\n",
      "This function will only be available through the v1 compatibility library as tf.compat.v1.saved_model.utils.build_tensor_info or tf.compat.v1.saved_model.build_tensor_info.\n",
      "WARNING:tensorflow:From /tensorflow-1.15.2/python3.6/tensorflow_core/python/saved_model/signature_def_utils_impl.py:201: build_tensor_info (from tensorflow.python.saved_model.utils_impl) is deprecated and will be removed in a future version.\n",
      "Instructions for updating:\n",
      "This function will only be available through the v1 compatibility library as tf.compat.v1.saved_model.utils.build_tensor_info or tf.compat.v1.saved_model.build_tensor_info.\n",
      "WARNING:tensorflow:Export includes no default signature!\n",
      "WARNING:tensorflow:Export includes no default signature!\n",
      "2020-05-31 07:37:34.333998: W tensorflow/core/framework/cpu_allocator_impl.cc:81] Allocation of 498570752 exceeds 10% of system memory.\n"
     ]
    }
   ],
   "source": [
    "!python -m trainer.task --model_dir=trained --train_steps=1"
   ]
  },
  {
   "cell_type": "markdown",
   "metadata": {
    "colab_type": "text",
    "id": "oP9xFoRO0hTk"
   },
   "source": [
    "The trained folder gets created and contains the model. Everything works as expected."
   ]
  },
  {
   "cell_type": "markdown",
   "metadata": {
    "colab_type": "text",
    "id": "1VieNkZg4J8i"
   },
   "source": [
    "### Research into hyperparameter tuning\n",
    "\n",
    "GCP allows for easy and optimized hyperparameter tuning. We didn't want to focus on the accuracy of the model. \n",
    "\n",
    "However, we wanted to try this because we wanted to know how to do it for future reference.\n",
    "\n",
    ">**note**: In the end we only documented how to do this. Because of the cost we opted not to execute the tuning.\n",
    "\n",
    "The first thing we needed to do was to create a yaml file containing all possible options:"
   ]
  },
  {
   "cell_type": "code",
   "execution_count": 0,
   "metadata": {
    "colab": {
     "base_uri": "https://localhost:8080/",
     "height": 34
    },
    "colab_type": "code",
    "id": "bL4mz6s5226I",
    "outputId": "13a3aa31-6a9b-47e7-c2b9-7ee01aedc9cd"
   },
   "outputs": [
    {
     "name": "stdout",
     "output_type": "stream",
     "text": [
      "Writing trainer/tune.yaml\n"
     ]
    }
   ],
   "source": [
    "%%writefile trainer/tune.yaml\n",
    "\n",
    "trainingInput:\n",
    "    scaleTier: STANDARD_1\n",
    "    hyperparameters:\n",
    "        hyperparameterMetricTag: # You need to define this\n",
    "        goal: MINIMIZE\n",
    "        maxTrials: 20\n",
    "        maxParallelTrials: 5\n",
    "        enableTrialEarlyStopping: True\n",
    "        params:\n",
    "        - parameterName: batch_size\n",
    "            type: INTEGER\n",
    "            minValue: 8\n",
    "            maxValue: 512\n",
    "            scaleType: UNIT_LOG_SCALE\n",
    "        - parameterName: nnsize\n",
    "            type: INTEGER\n",
    "            minValue: 64\n",
    "            maxValue: 512\n",
    "            scaleType: UNIT_LOG_SCALE"
   ]
  },
  {
   "cell_type": "markdown",
   "metadata": {
    "colab_type": "text",
    "id": "E3ZVvHSj7ies"
   },
   "source": [
    "This command should run the hyperparameter tuning for us:"
   ]
  },
  {
   "cell_type": "code",
   "execution_count": 0,
   "metadata": {
    "colab": {},
    "colab_type": "code",
    "id": "snYBZd3R7UFa"
   },
   "outputs": [],
   "source": [
    "gcloud ai-platform jobs submit training hype_training \\\n",
    "  --region=$REGION \\\n",
    "  --module-name=trainer.task \\\n",
    "  --package-path=. \\\n",
    "  --job-dir=trained \\\n",
    "  --staging-bucket=gs://$BUCKET \\\n",
    "  --scale-tier=STANDARD_1 \\\n",
    "  --config=tune.yaml \\\n",
    "  --runtime-version=$TFVERSION \\\n",
    "  -- \\\n",
    "  --model_dir=trained \\"
   ]
  },
  {
   "cell_type": "markdown",
   "metadata": {
    "colab_type": "text",
    "id": "g8VY6sXU783a"
   },
   "source": [
    "### Deploying the trained model\n",
    "\n",
    "Now that we know the package works, we can deploy it to GCP.\n",
    "\n",
    "Since we trained locally already during the previous steps there is no need to train again. However, we'll do it again this time using the ai-platform local command for completeness:"
   ]
  },
  {
   "cell_type": "code",
   "execution_count": 48,
   "metadata": {
    "colab": {
     "base_uri": "https://localhost:8080/",
     "height": 1000
    },
    "colab_type": "code",
    "id": "km3aUwmiq9Iy",
    "outputId": "96c1e558-e5b8-4b45-dfc1-2f8a2fbd7ef6"
   },
   "outputs": [
    {
     "name": "stderr",
     "output_type": "stream",
     "text": [
      "Updated property [ml_engine/local_python].\n",
      "WARNING:tensorflow:From /tensorflow-1.15.2/python3.6/tensorflow_core/python/training/training_util.py:236: Variable.initialized_value (from tensorflow.python.ops.variables) is deprecated and will be removed in a future version.\n",
      "Instructions for updating:\n",
      "Use Variable.read_value. Variables in 2.X are initialized automatically both in eager and graph (inside tf.defun) contexts.\n",
      "WARNING:tensorflow:From /tensorflow-1.15.2/python3.6/tensorflow_core/python/training/training_util.py:236: Variable.initialized_value (from tensorflow.python.ops.variables) is deprecated and will be removed in a future version.\n",
      "Instructions for updating:\n",
      "Use Variable.read_value. Variables in 2.X are initialized automatically both in eager and graph (inside tf.defun) contexts.\n",
      "WARNING:tensorflow:From /tensorflow-1.15.2/python3.6/tensorflow_core/python/data/experimental/ops/readers.py:540: parallel_interleave (from tensorflow.python.data.experimental.ops.interleave_ops) is deprecated and will be removed in a future version.\n",
      "Instructions for updating:\n",
      "Use `tf.data.Dataset.interleave(map_func, cycle_length, block_length, num_parallel_calls=tf.data.experimental.AUTOTUNE)` instead. If sloppy execution is desired, use `tf.data.Options.experimental_determinstic`.\n",
      "WARNING:tensorflow:From /tensorflow-1.15.2/python3.6/tensorflow_core/python/data/experimental/ops/readers.py:540: parallel_interleave (from tensorflow.python.data.experimental.ops.interleave_ops) is deprecated and will be removed in a future version.\n",
      "Instructions for updating:\n",
      "Use `tf.data.Dataset.interleave(map_func, cycle_length, block_length, num_parallel_calls=tf.data.experimental.AUTOTUNE)` instead. If sloppy execution is desired, use `tf.data.Options.experimental_determinstic`.\n",
      "WARNING:tensorflow:From /tensorflow-1.15.2/python3.6/tensorflow_core/python/data/experimental/ops/readers.py:214: shuffle_and_repeat (from tensorflow.python.data.experimental.ops.shuffle_ops) is deprecated and will be removed in a future version.\n",
      "Instructions for updating:\n",
      "Use `tf.data.Dataset.shuffle(buffer_size, seed)` followed by `tf.data.Dataset.repeat(count)`. Static tf.data optimizations will take care of using the fused implementation.\n",
      "WARNING:tensorflow:From /tensorflow-1.15.2/python3.6/tensorflow_core/python/data/experimental/ops/readers.py:214: shuffle_and_repeat (from tensorflow.python.data.experimental.ops.shuffle_ops) is deprecated and will be removed in a future version.\n",
      "Instructions for updating:\n",
      "Use `tf.data.Dataset.shuffle(buffer_size, seed)` followed by `tf.data.Dataset.repeat(count)`. Static tf.data optimizations will take care of using the fused implementation.\n",
      "WARNING:tensorflow:From /tensorflow-1.15.2/python3.6/tensorflow_core/python/feature_column/feature_column_v2.py:305: Layer.add_variable (from tensorflow.python.keras.engine.base_layer) is deprecated and will be removed in a future version.\n",
      "Instructions for updating:\n",
      "Please use `layer.add_weight` method instead.\n",
      "WARNING:tensorflow:From /tensorflow-1.15.2/python3.6/tensorflow_core/python/feature_column/feature_column_v2.py:305: Layer.add_variable (from tensorflow.python.keras.engine.base_layer) is deprecated and will be removed in a future version.\n",
      "Instructions for updating:\n",
      "Please use `layer.add_weight` method instead.\n",
      "WARNING:tensorflow:From /tensorflow-1.15.2/python3.6/tensorflow_core/python/ops/resource_variable_ops.py:1630: calling BaseResourceVariable.__init__ (from tensorflow.python.ops.resource_variable_ops) with constraint is deprecated and will be removed in a future version.\n",
      "Instructions for updating:\n",
      "If using Keras pass *_constraint arguments to layers.\n",
      "WARNING:tensorflow:From /tensorflow-1.15.2/python3.6/tensorflow_core/python/ops/resource_variable_ops.py:1630: calling BaseResourceVariable.__init__ (from tensorflow.python.ops.resource_variable_ops) with constraint is deprecated and will be removed in a future version.\n",
      "Instructions for updating:\n",
      "If using Keras pass *_constraint arguments to layers.\n",
      "2020-05-31 07:41:36.187124: W tensorflow/core/graph/graph_constructor.cc:1491] Importing a graph with a lower producer version 26 into an existing graph with producer version 134. Shape inference will have run different parts of the graph with different producer versions.\n",
      "WARNING:tensorflow:From /tensorflow-1.15.2/python3.6/tensorflow_core/python/feature_column/feature_column_v2.py:4271: IndicatorColumn._variable_shape (from tensorflow.python.feature_column.feature_column_v2) is deprecated and will be removed in a future version.\n",
      "Instructions for updating:\n",
      "The old _FeatureColumn APIs are being deprecated. Please use the new FeatureColumn APIs instead.\n",
      "WARNING:tensorflow:From /tensorflow-1.15.2/python3.6/tensorflow_core/python/feature_column/feature_column_v2.py:4271: IndicatorColumn._variable_shape (from tensorflow.python.feature_column.feature_column_v2) is deprecated and will be removed in a future version.\n",
      "Instructions for updating:\n",
      "The old _FeatureColumn APIs are being deprecated. Please use the new FeatureColumn APIs instead.\n",
      "WARNING:tensorflow:From /tensorflow-1.15.2/python3.6/tensorflow_core/python/feature_column/feature_column_v2.py:4326: VocabularyListCategoricalColumn._num_buckets (from tensorflow.python.feature_column.feature_column_v2) is deprecated and will be removed in a future version.\n",
      "Instructions for updating:\n",
      "The old _FeatureColumn APIs are being deprecated. Please use the new FeatureColumn APIs instead.\n",
      "WARNING:tensorflow:From /tensorflow-1.15.2/python3.6/tensorflow_core/python/feature_column/feature_column_v2.py:4326: VocabularyListCategoricalColumn._num_buckets (from tensorflow.python.feature_column.feature_column_v2) is deprecated and will be removed in a future version.\n",
      "Instructions for updating:\n",
      "The old _FeatureColumn APIs are being deprecated. Please use the new FeatureColumn APIs instead.\n",
      "WARNING:tensorflow:From /tensorflow-1.15.2/python3.6/tensorflow_estimator/python/estimator/canned/linear.py:308: to_float (from tensorflow.python.ops.math_ops) is deprecated and will be removed in a future version.\n",
      "Instructions for updating:\n",
      "Use `tf.cast` instead.\n",
      "WARNING:tensorflow:From /tensorflow-1.15.2/python3.6/tensorflow_estimator/python/estimator/canned/linear.py:308: to_float (from tensorflow.python.ops.math_ops) is deprecated and will be removed in a future version.\n",
      "Instructions for updating:\n",
      "Use `tf.cast` instead.\n",
      "WARNING:tensorflow:From /tensorflow-1.15.2/python3.6/tensorflow_core/python/ops/array_ops.py:1475: where (from tensorflow.python.ops.array_ops) is deprecated and will be removed in a future version.\n",
      "Instructions for updating:\n",
      "Use tf.where in 2.0, which has the same broadcast rule as np.where\n",
      "WARNING:tensorflow:From /tensorflow-1.15.2/python3.6/tensorflow_core/python/ops/array_ops.py:1475: where (from tensorflow.python.ops.array_ops) is deprecated and will be removed in a future version.\n",
      "Instructions for updating:\n",
      "Use tf.where in 2.0, which has the same broadcast rule as np.where\n",
      "2020-05-31 07:41:36.750274: I tensorflow/core/platform/profile_utils/cpu_utils.cc:94] CPU Frequency: 2300000000 Hz\n",
      "2020-05-31 07:41:36.750570: I tensorflow/compiler/xla/service/service.cc:168] XLA service 0x2420a00 initialized for platform Host (this does not guarantee that XLA will be used). Devices:\n",
      "2020-05-31 07:41:36.750601: I tensorflow/compiler/xla/service/service.cc:176]   StreamExecutor device (0): Host, Default Version\n",
      "2020-05-31 07:41:36.753440: I tensorflow/stream_executor/platform/default/dso_loader.cc:44] Successfully opened dynamic library libcuda.so.1\n",
      "2020-05-31 07:41:36.755221: E tensorflow/stream_executor/cuda/cuda_driver.cc:318] failed call to cuInit: CUDA_ERROR_NO_DEVICE: no CUDA-capable device is detected\n",
      "2020-05-31 07:41:36.755255: I tensorflow/stream_executor/cuda/cuda_diagnostics.cc:156] kernel driver does not appear to be running on this host (dda440db16c0): /proc/driver/nvidia/version does not exist\n",
      "2020-05-31 07:41:36.791043: W tensorflow/core/framework/cpu_allocator_impl.cc:81] Allocation of 498570752 exceeds 10% of system memory.\n",
      "WARNING:tensorflow:From /tensorflow-1.15.2/python3.6/tensorflow_core/python/training/saver.py:1069: get_checkpoint_mtimes (from tensorflow.python.training.checkpoint_management) is deprecated and will be removed in a future version.\n",
      "Instructions for updating:\n",
      "Use standard file utilities to get mtimes.\n",
      "WARNING:tensorflow:From /tensorflow-1.15.2/python3.6/tensorflow_core/python/training/saver.py:1069: get_checkpoint_mtimes (from tensorflow.python.training.checkpoint_management) is deprecated and will be removed in a future version.\n",
      "Instructions for updating:\n",
      "Use standard file utilities to get mtimes.\n",
      "2020-05-31 07:43:17.631643: W tensorflow/core/framework/cpu_allocator_impl.cc:81] Allocation of 498570752 exceeds 10% of system memory.\n",
      "2020-05-31 07:43:19.333356: W tensorflow/core/graph/graph_constructor.cc:1491] Importing a graph with a lower producer version 26 into an existing graph with producer version 134. Shape inference will have run different parts of the graph with different producer versions.\n",
      "2020-05-31 07:43:19.883053: W tensorflow/core/framework/cpu_allocator_impl.cc:81] Allocation of 498570752 exceeds 10% of system memory.\n",
      "WARNING:tensorflow:From /content/trainer/model.py:93: The name tf.placeholder is deprecated. Please use tf.compat.v1.placeholder instead.\n",
      "\n",
      "WARNING:tensorflow:From /content/trainer/model.py:93: The name tf.placeholder is deprecated. Please use tf.compat.v1.placeholder instead.\n",
      "\n",
      "2020-05-31 07:43:24.849210: W tensorflow/core/graph/graph_constructor.cc:1491] Importing a graph with a lower producer version 26 into an existing graph with producer version 134. Shape inference will have run different parts of the graph with different producer versions.\n",
      "WARNING:tensorflow:From /tensorflow-1.15.2/python3.6/tensorflow_core/python/saved_model/signature_def_utils_impl.py:201: build_tensor_info (from tensorflow.python.saved_model.utils_impl) is deprecated and will be removed in a future version.\n",
      "Instructions for updating:\n",
      "This function will only be available through the v1 compatibility library as tf.compat.v1.saved_model.utils.build_tensor_info or tf.compat.v1.saved_model.build_tensor_info.\n",
      "WARNING:tensorflow:From /tensorflow-1.15.2/python3.6/tensorflow_core/python/saved_model/signature_def_utils_impl.py:201: build_tensor_info (from tensorflow.python.saved_model.utils_impl) is deprecated and will be removed in a future version.\n",
      "Instructions for updating:\n",
      "This function will only be available through the v1 compatibility library as tf.compat.v1.saved_model.utils.build_tensor_info or tf.compat.v1.saved_model.build_tensor_info.\n",
      "WARNING:tensorflow:Export includes no default signature!\n",
      "WARNING:tensorflow:Export includes no default signature!\n",
      "2020-05-31 07:43:25.232542: W tensorflow/core/framework/cpu_allocator_impl.cc:81] Allocation of 498570752 exceeds 10% of system memory.\n"
     ]
    }
   ],
   "source": [
    "%%bash\n",
    "gcloud config set ml_engine/local_python /usr/bin/python3\n",
    "gcloud ai-platform local train \\\n",
    "  --module-name=trainer.task \\\n",
    "  --package-path=trainer \\\n",
    "  -- \\\n",
    "  --model_dir=trained"
   ]
  },
  {
   "cell_type": "markdown",
   "metadata": {
    "colab_type": "text",
    "id": "IxKgyGJ7q9hM"
   },
   "source": [
    "The resulting locally trained model is stored locally. We need to upload the trained model to GC Storage so that we can create an ai-platform model from it."
   ]
  },
  {
   "cell_type": "code",
   "execution_count": 62,
   "metadata": {
    "colab": {
     "base_uri": "https://localhost:8080/",
     "height": 374
    },
    "colab_type": "code",
    "id": "qGxTwoIw7_-i",
    "outputId": "cbdc6853-1ea7-471e-ba23-43d0274cfbd4"
   },
   "outputs": [
    {
     "name": "stdout",
     "output_type": "stream",
     "text": [
      "1590911004\n"
     ]
    },
    {
     "name": "stderr",
     "output_type": "stream",
     "text": [
      "CommandException: No URLs matched: gs://applied_machine_learning_bucket/trained\n",
      "Copying file://trained/export/exporter/1590911004/saved_model.pb [Content-Type=application/octet-stream]...\n",
      "Copying file://trained/export/exporter/1590911004/variables/variables.data-00001-of-00002 [Content-Type=application/octet-stream]...\n",
      "Copying file://trained/export/exporter/1590911004/variables/variables.data-00000-of-00002 [Content-Type=application/octet-stream]...\n",
      "Copying file://trained/export/exporter/1590911004/assets/tokens.txt [Content-Type=text/plain]...\n",
      "==> NOTE: You are uploading one or more large file(s), which would run\n",
      "significantly faster if you enable parallel composite uploads. This\n",
      "feature can be enabled by editing the\n",
      "\"parallel_composite_upload_threshold\" value in your .boto\n",
      "configuration file. However, note that if you do this large files will\n",
      "be uploaded as `composite objects\n",
      "<https://cloud.google.com/storage/docs/composite-objects>`_,which\n",
      "means that any user who downloads such objects will need to have a\n",
      "compiled crcmod installed (see \"gsutil help crcmod\"). This is because\n",
      "without a compiled crcmod, computing checksums on composite objects is\n",
      "so slow that gsutil disables downloads of composite objects.\n",
      "\n",
      "/ [0/5 files][    0.0 B/484.7 MiB]   0% Done                                    \r",
      "/ [0/5 files][    0.0 B/484.7 MiB]   0% Done                                    \r",
      "/ [0/5 files][    0.0 B/484.7 MiB]   0% Done                                    \r",
      "/ [0/5 files][    0.0 B/484.7 MiB]   0% Done                                    \r",
      "Copying file://trained/export/exporter/1590911004/variables/variables.index [Content-Type=application/octet-stream]...\n",
      "/ [0/5 files][    0.0 B/484.7 MiB]   0% Done                                    \r",
      "/ [1/5 files][273.4 KiB/484.7 MiB]   0% Done                                    \r",
      "/ [2/5 files][537.4 KiB/484.7 MiB]   0% Done                                    \r",
      "/ [3/5 files][ 26.9 MiB/484.7 MiB]   5% Done                                    \r",
      "-\r",
      "\\\r",
      "\\ [3/5 files][139.8 MiB/484.7 MiB]  28% Done                                    \r",
      "\\ [4/5 files][148.3 MiB/484.7 MiB]  30% Done                                    \r",
      "|\r",
      "/\r",
      "/ [4/5 files][261.2 MiB/484.7 MiB]  53% Done                                    \r",
      "-\r",
      "- [4/5 files][370.8 MiB/484.7 MiB]  76% Done                                    \r",
      "\\\r",
      "|\r",
      "| [4/5 files][478.1 MiB/484.7 MiB]  98% Done                                    \r",
      "| [5/5 files][484.7 MiB/484.7 MiB] 100% Done                                    \r",
      "/\r\n",
      "Operation completed over 5 objects/484.7 MiB.                                    \n"
     ]
    }
   ],
   "source": [
    "%%bash\n",
    "FOLDER=$(ls trained/export/exporter | tail -n 1)\n",
    "echo ${FOLDER}\n",
    "gsutil rm -R gs://$BUCKET/trained\n",
    "gsutil -m cp -R trained/export/exporter/${FOLDER} gs://$BUCKET/trained"
   ]
  },
  {
   "cell_type": "markdown",
   "metadata": {
    "colab_type": "text",
    "id": "zhnAXw291AYU"
   },
   "source": [
    "Let's check if the transfer was successful:"
   ]
  },
  {
   "cell_type": "code",
   "execution_count": 63,
   "metadata": {
    "colab": {
     "base_uri": "https://localhost:8080/",
     "height": 68
    },
    "colab_type": "code",
    "id": "ZUBLRn6J8-DQ",
    "outputId": "beb1c8ae-84a3-4cd2-c2ec-b3132ff9ac54"
   },
   "outputs": [
    {
     "name": "stdout",
     "output_type": "stream",
     "text": [
      "gs://applied_machine_learning_bucket/trained/saved_model.pb\n",
      "gs://applied_machine_learning_bucket/trained/assets/\n",
      "gs://applied_machine_learning_bucket/trained/variables/\n"
     ]
    }
   ],
   "source": [
    "!gsutil ls gs://$BUCKET/trained"
   ]
  },
  {
   "cell_type": "markdown",
   "metadata": {
    "colab_type": "text",
    "id": "6GIcRg1x1EOS"
   },
   "source": [
    "The following steps require authentication of my account. These steps are given for documentation purposes.\n",
    "\n",
    "Use oauth2 authentication:"
   ]
  },
  {
   "cell_type": "code",
   "execution_count": 56,
   "metadata": {
    "colab": {
     "base_uri": "https://localhost:8080/",
     "height": 207
    },
    "colab_type": "code",
    "id": "NffxK8rVuoFW",
    "outputId": "a7218f88-eddc-4997-9513-611e19c1ff16"
   },
   "outputs": [
    {
     "name": "stdout",
     "output_type": "stream",
     "text": [
      "Go to the following link in your browser:\n",
      "\n",
      "    https://accounts.google.com/o/oauth2/auth?code_challenge=G9L8vKMd6iQKf20_KoCSWQtDC_g2VzIgNTD-95IRR6I&prompt=select_account&code_challenge_method=S256&access_type=offline&redirect_uri=urn%3Aietf%3Awg%3Aoauth%3A2.0%3Aoob&response_type=code&client_id=32555940559.apps.googleusercontent.com&scope=openid+https%3A%2F%2Fwww.googleapis.com%2Fauth%2Fuserinfo.email+https%3A%2F%2Fwww.googleapis.com%2Fauth%2Fcloud-platform+https%3A%2F%2Fwww.googleapis.com%2Fauth%2Fappengine.admin+https%3A%2F%2Fwww.googleapis.com%2Fauth%2Fcompute+https%3A%2F%2Fwww.googleapis.com%2Fauth%2Faccounts.reauth\n",
      "\n",
      "\n",
      "Enter verification code: 4/0QEtMFKebYPfn3Td403jse5GKjc_VEcsuE-zwt2fsV92xwUE6W4tU0I\n",
      "\n",
      "You are now logged in as [desmettim@outlook.com].\n",
      "Your current project is [appliedml-270208].  You can change this setting by running:\n",
      "  $ gcloud config set project PROJECT_ID\n"
     ]
    }
   ],
   "source": [
    "!gcloud auth login"
   ]
  },
  {
   "cell_type": "markdown",
   "metadata": {
    "colab_type": "text",
    "id": "-cJAoFsL1SnE"
   },
   "source": [
    "If notebook was executed previously the commented commands can remove the version of the model and the model itself.\n",
    "\n",
    "When no model is present, we create the new model called sprint3:"
   ]
  },
  {
   "cell_type": "code",
   "execution_count": 71,
   "metadata": {
    "colab": {
     "base_uri": "https://localhost:8080/",
     "height": 292
    },
    "colab_type": "code",
    "id": "O7-FwRmPK1S4",
    "outputId": "af62bbb0-4d01-473c-81fe-d51ce40c75db"
   },
   "outputs": [
    {
     "name": "stdout",
     "output_type": "stream",
     "text": [
      "\u001b[1;33mWARNING:\u001b[0m Using endpoint [https://ml.googleapis.com/]\n",
      "This will delete version [final]...\n",
      "\n",
      "Do you want to continue (Y/n)?  Y\n",
      "\n",
      "\u001b[1;33mWARNING:\u001b[0m Using endpoint [https://ml.googleapis.com/]\n",
      "This will delete model [sprint3]...\n",
      "\n",
      "Do you want to continue (Y/n)?  Y\n",
      "\n",
      "\u001b[1;33mWARNING:\u001b[0m Using endpoint [https://ml.googleapis.com/]\n",
      "\u001b[1;33mWARNING:\u001b[0m Please explicitly specify a region. Using [us-central1] by default on https://ml.googleapis.com. Please note that your model will be inaccessible from https://us-central1-ml.googelapis.com\n",
      "\n",
      "Learn more about regional endpoints and see a list of available regions: https://cloud.google.com/ai-platform/prediction/docs/regional-endpoints\n",
      "Created ml engine model [projects/appliedml-270208/models/sprint3].\n"
     ]
    }
   ],
   "source": [
    "#!gcloud ai-platform versions delete final --model sprint3\n",
    "#!gcloud ai-platform models delete sprint3\n",
    "!gcloud ai-platform models create sprint3"
   ]
  },
  {
   "cell_type": "markdown",
   "metadata": {
    "colab_type": "text",
    "id": "NEKgY-av1gNX"
   },
   "source": [
    "Every model works based upon a specific version. The following command creates the final version for the sprint 3 model from the trained model stored in GCS:"
   ]
  },
  {
   "cell_type": "code",
   "execution_count": 72,
   "metadata": {
    "colab": {
     "base_uri": "https://localhost:8080/",
     "height": 34
    },
    "colab_type": "code",
    "id": "tEtBP3D-LtO-",
    "outputId": "881509c1-e970-459a-ab17-899ac495412a"
   },
   "outputs": [
    {
     "name": "stdout",
     "output_type": "stream",
     "text": [
      "\u001b[1;33mWARNING:\u001b[0m Using endpoint [https://ml.googleapis.com/]\n"
     ]
    }
   ],
   "source": [
    "!gcloud ai-platform versions create final  --model sprint3 --origin gs://$BUCKET/trained --runtime-version 1.15 --framework tensorflow"
   ]
  },
  {
   "cell_type": "markdown",
   "metadata": {
    "colab_type": "text",
    "id": "xF466N2HNICm"
   },
   "source": [
    "### Making predictions\n",
    "\n",
    "At this point we have a model in production. Now we need to test if we can actually make predictions using our deployed model.\n",
    "\n",
    "Let's retrieve an instance: "
   ]
  },
  {
   "cell_type": "code",
   "execution_count": 74,
   "metadata": {
    "colab": {
     "base_uri": "https://localhost:8080/",
     "height": 102
    },
    "colab_type": "code",
    "id": "k1ovWwpRNjKU",
    "outputId": "1824306e-35ad-4f2a-8bd0-e5e9c654d7a4"
   },
   "outputs": [
    {
     "name": "stdout",
     "output_type": "stream",
     "text": [
      "Product                                      Debt collection\n",
      "Company                                         AmeriCollect\n",
      "Message    americollect inc account number attent disput ...\n",
      "Issue                  Cont'd attempts collect debt not owed\n",
      "Name: 0, dtype: object\n"
     ]
    }
   ],
   "source": [
    "# Use test data:\n",
    "test_data = pd.read_csv('./preproc/test_data.csv')\n",
    "print(test_data.iloc[0])"
   ]
  },
  {
   "cell_type": "markdown",
   "metadata": {
    "colab_type": "text",
    "id": "DAo1TbaJ110z"
   },
   "source": [
    "We can use a json file to pass the data to the model. We create the file with the data we want a prediction for:"
   ]
  },
  {
   "cell_type": "code",
   "execution_count": 75,
   "metadata": {
    "colab": {
     "base_uri": "https://localhost:8080/",
     "height": 34
    },
    "colab_type": "code",
    "id": "XpXxjR2NML6e",
    "outputId": "ac7c3e7c-bd74-4286-f6c7-7cd744195ae2"
   },
   "outputs": [
    {
     "name": "stdout",
     "output_type": "stream",
     "text": [
      "Writing test.json\n"
     ]
    }
   ],
   "source": [
    "%%writefile test.json\n",
    "{\"Product\":\"Vehicle loan or lease\",\"Company\":\"CREDIT ACCEPTANCE CORPORATION\",\"Message\":\"car purchas payment month call compani make arrang pay month rep state day work u said later month respons problem start call state made arrang pay told problem rep phone said one told problem month pay car made payment call say pass due late fee take car state never told late fee rep said problem said pay next payment due hard time said well continu call u said call time day hung\"}"
   ]
  },
  {
   "cell_type": "markdown",
   "metadata": {
    "colab_type": "text",
    "id": "UPX6Kk-t1-yQ"
   },
   "source": [
    "We use the test.json file to request a prediction from our sprint3 model:"
   ]
  },
  {
   "cell_type": "code",
   "execution_count": 76,
   "metadata": {
    "colab": {
     "base_uri": "https://localhost:8080/",
     "height": 88
    },
    "colab_type": "code",
    "id": "4z3-ipYPNGTL",
    "outputId": "82dfec72-9b49-4240-8111-d7975fea3621"
   },
   "outputs": [
    {
     "name": "stdout",
     "output_type": "stream",
     "text": [
      "\u001b[1;33mWARNING:\u001b[0m Using endpoint [https://ml.googleapis.com/]\n",
      "ALL_CLASS_IDS                                                                                                                                                                                       ALL_CLASSES                                                                                                                                                                                                                                                                                                                                                                                                                                                                                                                                                                                                                                                                                                                                                                                                                                                                                                                                                                                                                                                                                                                                                                                                                                                                                                                                                                                                                                                                                                                                                                                                                                                                                                                                                                                                                                                                                                                                                                                                                                                                   CLASS_IDS  CLASSES                                                       LOGITS                                                                                                                                                                                                                                                                                                                                                                                                                                                                                                                                                                                                                                                                                                                                                                                                                                                                                                                                                                                                                                                                                   PROBABILITIES\n",
      "[0, 1, 2, 3, 4, 5, 6, 7, 8, 9, 10, 11, 12, 13, 14, 15, 16, 17, 18, 19, 20, 21, 22, 23, 24, 25, 26, 27, 28, 29, 30, 31, 32, 33, 34, 35, 36, 37, 38, 39, 40, 41, 42, 43, 44, 45, 46, 47, 48, 49, 50]  [u'Problems caused by my funds being low', u'Communication tactics', u'Unable to get your credit report or credit score', u'Credit monitoring or identity theft protection services', u'Struggling to pay your loan', u'Threatened to contact someone or share information improperly', u'Incorrect information on your report', u'Problem with a purchase shown on your statement', u'Fraud or scam', u'Struggling to pay mortgage', u'Advertising and marketing, including promotional offers', u'Problem with a lender or other company charging your account', u'Applying for a mortgage or refinancing an existing mortgage', u'Getting a credit card', u'Dealing with your lender or servicer', u'Managing an account', u'Account opening, closing, or management', u'Improper use of your report', u'Incorrect information on credit report', u'Taking/threatening an illegal action', u'Fees or interest', u'Deposits and withdrawals', u\"Can't repay my loan\", u'Closing your account', u'Loan modification,collection,foreclosure', u'Problems when you are unable to pay', u'Closing on a mortgage', u'Attempts to collect debt not owed', u'Managing the loan or lease', u\"Cont'd attempts collect debt not owed\", u'Closing an account', u'Unable to get credit report/credit score', u'Disclosure verification of debt', u'Settlement process and costs', u'Problem with fraud alerts or security freezes', u'Dealing with my lender or servicer', u'Written notification about debt', u'Unknown', u'False statements or representation', u\"Credit reporting company's investigation\", u'Problem when making payments', u'Improper contact or sharing of info', u'Struggling to repay your loan', u'Application, originator, mortgage broker', u\"Problem with a credit reporting company's investigation into an existing problem\", u'Took or threatened to take negative or legal action', u'Other features, terms, or problems', u'Billing disputes', u'Opening an account', u'Loan servicing, payments, escrow account', u'Trouble during payment process']  [3]        [u'Credit monitoring or identity theft protection services']  [-0.9763220548629761, -1.9218758344650269, -6.628264904022217, 5.347724437713623, 5.302144527435303, -2.966590642929077, 1.7363951206207275, -10.015759468078613, -2.3077139854431152, -10.015759468078613, -2.3193860054016113, -1.4739444255828857, -4.425624847412109, -4.893106937408447, -10.015759468078613, -1.811239242553711, -10.015759468078613, -1.4679031372070312, -4.45543098449707, -5.013123512268066, -0.04893091320991516, -1.5857195854187012, -3.342676877975464, -3.200265407562256, -3.4363770484924316, 3.874880075454712, -3.6446683406829834, -2.7848167419433594, -10.015759468078613, -5.537490367889404, -3.0295794010162354, -5.8063178062438965, -10.015759468078613, -4.2222490310668945, -3.8599510192871094, -10.015759468078613, -5.626219272613525, 2.4691591262817383, -0.4805465340614319, -1.5959315299987793, -0.4959965944290161, 2.041966199874878, -1.2774772644042969, 0.053334981203079224, 1.6821612119674683, -10.015759468078613, -2.535756826400757, -3.3362667560577393, -5.0507707595825195, -2.568483591079712, -1.103868007659912]  [0.000759737566113472, 0.00029513100162148476, 2.667203034434351e-06, 0.4238011837005615, 0.40491798520088196, 0.00010382480104453862, 0.011449374258518219, 9.013346868869121e-08, 0.00020065385615453124, 9.013346868869121e-08, 0.00019832543330267072, 0.00046190121793188155, 2.4135166313499212e-05, 1.512256949354196e-05, 9.013346868869121e-08, 0.00032965809805318713, 9.013346868869121e-08, 0.00046470004599541426, 2.3426406187354587e-05, 1.3412301086646039e-05, 0.0019205447752028704, 0.00041305291233584285, 7.128019933588803e-05, 8.21896901470609e-05, 6.490458326879889e-05, 0.09716592729091644, 5.270061592455022e-05, 0.00012452145165298134, 9.013346868869121e-08, 7.939139322843403e-06, 9.748667071107775e-05, 6.0676866269204766e-06, 9.013346868869121e-08, 2.9578470275737345e-05, 4.249318953952752e-05, 9.013346868869121e-08, 7.265055501193274e-06, 0.023824134841561317, 0.0012473153183236718, 0.0004088563146069646, 0.0012281924718990922, 0.01554138120263815, 0.0005621776799671352, 0.002127345884218812, 0.010844969190657139, 9.013346868869121e-08, 0.00015973858535289764, 7.173855556175113e-05, 1.2916751074953936e-05, 0.00015459541464224458, 0.000668761320412159]\n"
     ]
    }
   ],
   "source": [
    "!gcloud ai-platform predict --model=sprint3 --json-instances=test.json"
   ]
  },
  {
   "cell_type": "markdown",
   "metadata": {
    "colab_type": "text",
    "id": "QlvyIWrDPR6Z"
   },
   "source": [
    "We get the following answer:\n",
    "\n",
    "**all class ids**:\n",
    "[0, 1, 2, 3, 4, 5, 6, 7, 8, 9, 10, 11, 12, 13, 14, 15, 16, 17, 18, 19, 20, 21, 22, 23, 24, 25, 26, 27, 28, 29, 30, 31, 32, 33, 34, 35, 36, 37, 38, 39, 40, 41, 42, 43, 44, 45, 46, 47, 48, 49, 50]  \n",
    "\n",
    "**all class names**:\n",
    "[u'Credit monitoring or identity theft protection services', u'False statements or representation', u'Attempts to collect debt not owed', u'Improper use of your report', u\"Problem with a credit reporting company's investigation into an existing problem\", u'Incorrect information on your report', u'Unknown', u'Trouble during payment process', u'Fees or interest', u'Communication tactics', u'Took or threatened to take negative or legal action', u'Written notification about debt', u'Dealing with your lender or servicer', u'Problem with fraud alerts or security freezes', u'Fraud or scam', u'Closing on a mortgage', u'Threatened to contact someone or share information improperly', u'Struggling to pay your loan', u'Unable to get your credit report or credit score', u'Closing an account', u'Problem with a purchase shown on your statement', u'Closing your account', u'Advertising and marketing, including promotional offers', u'Managing an account', u'Getting a credit card', u'Opening an account', u'Other features, terms, or problems', u'Struggling to pay mortgage', u'Managing the loan or lease', u'Problem with a lender or other company charging your account', u'Struggling to repay your loan', u'Problem when making payments', u'Applying for a mortgage or refinancing an existing mortgage', u'Loan servicing, payments, escrow account', u'Loan modification,collection,foreclosure', u'Taking/threatening an illegal action', u'Settlement process and costs', u\"Cont'd attempts collect debt not owed\", u'Disclosure verification of debt', u\"Can't repay my loan\", u'Account opening, closing, or management', u'Incorrect information on credit report', u'Billing disputes', u'Dealing with my lender or servicer', u'Unable to get credit report/credit score', u\"Credit reporting company's investigation\", u'Problems when you are unable to pay', u'Application, originator, mortgage broker', u'Improper contact or sharing of info', u'Problems caused by my funds being low', u'Deposits and withdrawals'] \n",
    "\n",
    "\n",
    "**chosen class id**: [17]       \n",
    "\n",
    "\n",
    "**chosen class**: [u'Struggling to pay your loan']  \n",
    "\n",
    "**logits**:\n",
    "[-2.0418670177459717, -16.874784469604492, -9.737305641174316, -7.570767879486084, -5.339376926422119, -5.096161365509033, -4.203519821166992, -6.723516464233398, -6.306142330169678, -7.633228778839111, -16.874784469604492, -16.874784469604492, -16.874784469604492, -7.850489139556885, -8.056821823120117, -9.85521411895752, -8.225409507751465, -1.017134666442871, -10.442292213439941, -8.277178764343262, -16.874784469604492, -8.440375328063965, -7.760432720184326, -16.874784469604492, -9.989632606506348, -10.289300918579102, -7.3494768142700195, -16.874784469604492, -16.874784469604492, -7.328330993652344, -8.548629760742188, -6.064115047454834, -10.25114631652832, -3.9535467624664307, -16.874784469604492, -5.590899467468262, -8.161460876464844, -7.742534637451172, -16.874784469604492, -4.920774936676025, -16.874784469604492, -7.966688632965088, -5.45908260345459, -16.874784469604492, -9.322630882263184, -9.244152069091797, -2.489431142807007, -9.500584602355957, -8.012287139892578, -6.850594520568848, -7.723545551300049] \n",
    "\n",
    "\n",
    "**probabilities**:\n",
    "[0.20033806562423706, 7.242847033239741e-08, 9.113327541854233e-05, 0.0007954124012030661, 0.007407525088638067, 0.00944713968783617, 0.023065859451889992, 0.001855876063928008, 0.0028171648737043142, 0.0007472499855794013, 7.242847033239741e-08, 7.242847033239741e-08, 7.242847033239741e-08, 0.0006013273377902806, 0.0004892172873951495, 8.09971897979267e-05, 0.00041331874672323465, 0.5582119226455688, 4.5030337787466124e-05, 0.0003924659686163068, 7.242847033239741e-08, 0.0003333701170049608, 0.0006579940090887249, 7.242847033239741e-08, 7.080970681272447e-05, 5.2474522817647085e-05, 0.00099242536816746, 7.242847033239741e-08, 7.242847033239741e-08, 0.0010136344935745, 0.00029916607309132814, 0.0035885863471776247, 5.451534889289178e-05, 0.029616352170705795, 7.242847033239741e-08, 0.005760209634900093, 0.0004406133375596255, 0.0006698769284412265, 7.242847033239741e-08, 0.011258219368755817, 7.242847033239741e-08, 0.0005353603046387434, 0.006571819540113211, 7.242847033239741e-08, 0.00013796468556392938, 0.00014922817354090512, 0.1280527412891388, 0.00011547384201548994, 0.0005114969098940492, 0.001634404994547367, 0.0006827187607996166]\n",
    "\n",
    "\n"
   ]
  },
  {
   "cell_type": "markdown",
   "metadata": {
    "colab_type": "text",
    "id": "F3wOI9U3yrL5"
   },
   "source": [
    "### Using the API\n",
    "\n",
    "The following step only works when running in the Google Compute Engine since credentials are required. The step is given for documentation purposes. It details how we can send requests to the API:"
   ]
  },
  {
   "cell_type": "code",
   "execution_count": 0,
   "metadata": {
    "colab": {},
    "colab_type": "code",
    "id": "b3GGt0xpOcjs"
   },
   "outputs": [],
   "source": [
    "from oauth2client.client import GoogleCredentials\n",
    "import requests\n",
    "import json\n",
    "\n",
    "MODEL_NAME='sprint3'\n",
    "MODEL_VERSION='final'\n",
    "\n",
    "token = GoogleCredentials.get_application_default().get_access_token().access_token\n",
    "api = 'https://ml.googleapis.com/v1/projects/{}/models/{}/versions/{}:predict'.format(PROJECT, MODEL_NAME, MODEL_VERSION)\n",
    "print(api)\n",
    "headers = {'Authorization' : 'Bearer ' + token}\n",
    "\n",
    "data = {\n",
    "    'instances' : [{\n",
    "        \"Product\":\"Vehicle loan or lease\",\n",
    "        \"Company\":\"CREDIT ACCEPTANCE CORPORATION\",\n",
    "        \"Message\":\"car purchas payment month call compani make arrang pay month rep state day work u said later month respons problem start call state made arrang pay told problem rep phone said one told problem month pay car made payment call say pass due late fee take car state never told late fee rep said problem said pay next payment due hard time said well continu call u said call time day hung\"}\n",
    "    ]\n",
    "}\n",
    "\n",
    "response = requests.post(api, json=data, headers=headers)\n",
    "print(response.content)"
   ]
  },
  {
   "cell_type": "markdown",
   "metadata": {
    "colab_type": "text",
    "id": "u86-i-tDyrwn"
   },
   "source": [
    "We were able to create a machine learning model and host it for predictions."
   ]
  }
 ],
 "metadata": {
  "colab": {
   "collapsed_sections": [],
   "name": "Final.ipynb",
   "provenance": [],
   "toc_visible": true
  },
  "kernelspec": {
   "display_name": "Python 3",
   "language": "python",
   "name": "python3"
  },
  "language_info": {
   "codemirror_mode": {
    "name": "ipython",
    "version": 3
   },
   "file_extension": ".py",
   "mimetype": "text/x-python",
   "name": "python",
   "nbconvert_exporter": "python",
   "pygments_lexer": "ipython3",
   "version": "3.7.6"
  }
 },
 "nbformat": 4,
 "nbformat_minor": 1
}
