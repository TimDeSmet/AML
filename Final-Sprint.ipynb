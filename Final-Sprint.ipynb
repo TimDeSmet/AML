{
 "cells": [
  {
   "cell_type": "markdown",
   "metadata": {},
   "source": [
    "# Sprint 3\n",
    "\n",
    "## Intro\n",
    "\n",
    "### Idea 1 (Tim)\n",
    ">> explain \n",
    "\n"
   ]
  },
  {
   "cell_type": "code",
   "execution_count": null,
   "metadata": {},
   "outputs": [],
   "source": [
    "# code Tim"
   ]
  },
  {
   "cell_type": "markdown",
   "metadata": {},
   "source": [
    "### Idea 2 and why this\n",
    "tekst + company = product\n",
    "- neural netw\n",
    "- productie\n",
    "- Can you find complaints that are assigned to the wrong category? "
   ]
  },
  {
   "cell_type": "markdown",
   "metadata": {},
   "source": [
    "## Data (Lennart)\n",
    "\n",
    "> todo"
   ]
  },
  {
   "cell_type": "code",
   "execution_count": null,
   "metadata": {},
   "outputs": [],
   "source": [
    "# downloads and installs\n",
    "import sys\n",
    "\n",
    "!conda install --yes --prefix {sys.prefix} nltk bs4 gensim\n",
    "import nltk\n",
    "nltk.download('stopwords')"
   ]
  },
  {
   "cell_type": "code",
   "execution_count": null,
   "metadata": {},
   "outputs": [],
   "source": [
    "!conda update --yes --prefix {sys.prefix} -n base conda"
   ]
  },
  {
   "cell_type": "code",
   "execution_count": null,
   "metadata": {},
   "outputs": [],
   "source": [
    "!conda install -c anaconda --yes --update-deps gensim"
   ]
  },
  {
   "cell_type": "code",
   "execution_count": null,
   "metadata": {},
   "outputs": [],
   "source": [
    "import pandas as pd\n",
    "import numpy as np\n",
    "\n",
    "import re\n",
    "import string\n",
    "import nltk\n",
    "from nltk.corpus import stopwords\n",
    "from bs4 import BeautifulSoup\n",
    "from nltk.stem.snowball import SnowballStemmer\n",
    "\n",
    "import multiprocessing\n",
    "from gensim.sklearn_api import D2VTransformer\n",
    "\n",
    "from sklearn.model_selection import train_test_split"
   ]
  },
  {
   "cell_type": "code",
   "execution_count": null,
   "metadata": {},
   "outputs": [],
   "source": [
    "complaints = pd.read_csv('complaints-2020-01-22_08_24.csv')"
   ]
  },
  {
   "cell_type": "code",
   "execution_count": 86,
   "metadata": {},
   "outputs": [],
   "source": [
    "# Basic constants\n",
    "SAMPLE_AMOUNT = 50000\n",
    "VISUAL_AMOUNT = 5000\n",
    "PRODUCT_AMOUNT = len(set(complaints['Product']))"
   ]
  },
  {
   "cell_type": "markdown",
   "metadata": {},
   "source": [
    "## EDA (Lennart)\n",
    "\n",
    "> todo"
   ]
  },
  {
   "cell_type": "markdown",
   "metadata": {},
   "source": [
    "## PreProcessing (Lennart)\n",
    "\n",
    "handmatig\n",
    "> Hoe met tensorflow? (TIM)"
   ]
  },
  {
   "cell_type": "markdown",
   "metadata": {},
   "source": [
    "### Sampling"
   ]
  },
  {
   "cell_type": "code",
   "execution_count": 87,
   "metadata": {},
   "outputs": [],
   "source": [
    "data = complaints.sample(SAMPLE_AMOUNT, random_state=7844569)"
   ]
  },
  {
   "cell_type": "markdown",
   "metadata": {},
   "source": [
    "### Cleaning"
   ]
  },
  {
   "cell_type": "code",
   "execution_count": 88,
   "metadata": {},
   "outputs": [],
   "source": [
    "def preprocessing(text):\n",
    "    stopWords = stopWords = set(stopwords.words('english'))\n",
    "    stemmer = SnowballStemmer(\"english\")\n",
    "    \n",
    "    text = BeautifulSoup(text, \"html.parser\").text\n",
    "    translator = str.maketrans('', '', string.punctuation) \n",
    "    text = text.translate(translator).lower()\n",
    "    text = re.sub(r'(x)\\1+', '', text)\n",
    "    text = re.sub(r'[0-9]', r' ', text)\n",
    "    tokens = []\n",
    "    for word in text.split():\n",
    "        word = stemmer.stem(word)\n",
    "        if word not in stopWords:\n",
    "            tokens.append(word)\n",
    "    return \" \".join(tokens)"
   ]
  },
  {
   "cell_type": "code",
   "execution_count": 89,
   "metadata": {},
   "outputs": [],
   "source": [
    "data['Consumer complaint narrative'] = data['Consumer complaint narrative'].apply(preprocessing)"
   ]
  },
  {
   "cell_type": "markdown",
   "metadata": {},
   "source": [
    "### One-Hot encoding company names"
   ]
  },
  {
   "cell_type": "code",
   "execution_count": 142,
   "metadata": {},
   "outputs": [],
   "source": [
    "companies_1he = pd.get_dummies(data['Company'])"
   ]
  },
  {
   "cell_type": "markdown",
   "metadata": {},
   "source": [
    "### Feature extraction customer complaint narative"
   ]
  },
  {
   "cell_type": "code",
   "execution_count": 91,
   "metadata": {},
   "outputs": [],
   "source": [
    "def doc2vec():\n",
    "    listOfDocsAsListOfStrings = [doc for doc in (row.split() for row in data['Consumer complaint narrative'])]\n",
    "    model = D2VTransformer(size=250, window=5, min_count=2, workers=multiprocessing.cpu_count())\n",
    "    transformed = model.fit_transform(listOfDocsAsListOfStrings)\n",
    "    return transformed"
   ]
  },
  {
   "cell_type": "code",
   "execution_count": 92,
   "metadata": {},
   "outputs": [],
   "source": [
    "transformed = doc2vec()"
   ]
  },
  {
   "cell_type": "code",
   "execution_count": 147,
   "metadata": {},
   "outputs": [
    {
     "name": "stdout",
     "output_type": "stream",
     "text": [
      "(50000, 250)\n",
      "(50000, 2149)\n"
     ]
    }
   ],
   "source": [
    "print(transformed.shape)\n",
    "print(companies_1he.shape)\n",
    "#test = np.concatenate(transformed,companies_1he.to_numpy(), axis=1)\n",
    "#x = np.append(transformed, companies_1he.to_numpy(),axis=1)\n",
    "#x.shape"
   ]
  },
  {
   "cell_type": "markdown",
   "metadata": {},
   "source": [
    "### create sets\n",
    "\n",
    "delegated to model creation to check if different datasets yield better results"
   ]
  },
  {
   "cell_type": "code",
   "execution_count": null,
   "metadata": {},
   "outputs": [],
   "source": []
  },
  {
   "cell_type": "code",
   "execution_count": 148,
   "metadata": {},
   "outputs": [],
   "source": [
    "def createDataSets(x,y):\n",
    "    x_train, x_test, y_train, y_test = train_test_split(x,y,test_size = 0.3)\n",
    "    x_train, x_val, y_train, y_val = train_test_split(x_train, y_train, test_size= 0.1)\n",
    "\n",
    "    return x_train,x_val,x_test,y_train,y_val,y_test\n",
    "\n",
    "targets_1he = pd.get_dummies(data['Product'])\n",
    "\n",
    "\n",
    "y = targets_1he\n",
    "\n",
    "# x = to be defined by model\n",
    "\n",
    "#x = np.append(transformed, companies_1he.to_numpy(),axis=1)\n",
    "#x = transformed\n",
    "#x = pd.concat([data['Consumer complaint narrative'], companies_1he], axis=1)\n",
    "#x_train, x_test, y_train, y_test = train_test_split(x,y,test_size = 0.2,random_state=0)"
   ]
  },
  {
   "cell_type": "code",
   "execution_count": 149,
   "metadata": {},
   "outputs": [
    {
     "name": "stdout",
     "output_type": "stream",
     "text": [
      "(31500, 250)\n",
      "(31500, 17)\n"
     ]
    }
   ],
   "source": [
    "print(x_train.shape)\n",
    "print(y_train.shape)"
   ]
  },
  {
   "cell_type": "markdown",
   "metadata": {},
   "source": [
    "## Premade estimator?  OR PoC in KERAS -> Customer Estimator (Roel)\n",
    "\n",
    "> todo"
   ]
  },
  {
   "cell_type": "code",
   "execution_count": 160,
   "metadata": {},
   "outputs": [],
   "source": [
    "from tensorflow import keras\n",
    "from tensorflow.keras.models import Sequential\n",
    "from tensorflow.keras.layers import Dense\n",
    "from tensorflow.keras.optimizers import SGD\n",
    "from tensorflow.keras.losses import CategoricalCrossentropy\n",
    "import matplotlib.pyplot as plt"
   ]
  },
  {
   "cell_type": "code",
   "execution_count": 172,
   "metadata": {},
   "outputs": [],
   "source": [
    "def createModel(optimizer,loss, input_shape, output_shape):\n",
    "    \n",
    "    model = Sequential()\n",
    "    model.add(Dense(256, activation='relu', input_shape=(input_shape[1],)))\n",
    "    model.add(Dense(256, activation='relu'))\n",
    "    #model.add(Dense(256, activation='relu'))\n",
    "    model.add(Dense(output_shape[1], activation='softmax'))\n",
    "    \n",
    "    model.compile(loss=loss, optimizer=optimizer, metrics=['accuracy']) # optimizer='adam'\n",
    "    return model\n",
    "\n",
    "def trainModel(model, x, y, batch_size=64, epochs=10):\n",
    "    x_train,x_val,x_test,y_train,y_val,y_test = createDataSets(x,y)\n",
    "    \n",
    "    history = model.fit(x_train, y_train,\n",
    "                batch_size=batch_size,\n",
    "                epochs=epochs,\n",
    "                verbose=1,\n",
    "                validation_data=(x_val, y_val))\n",
    "    return history, x_test,y_test\n",
    "    \n",
    "\n",
    "def validateModel(history, score):\n",
    "    print('Test loss:', score[0])\n",
    "    print('Test accuracy:', score[1])\n",
    "\n",
    "    # Plot training & validation accuracy values\n",
    "    plt.plot(history.history['accuracy'])\n",
    "    plt.plot(history.history['val_accuracy'])\n",
    "    plt.title('Model accuracy')\n",
    "    plt.ylabel('Accuracy')\n",
    "    plt.xlabel('Epoch')\n",
    "    plt.legend(['Train', 'Test'], loc='upper left')\n",
    "    plt.show()\n",
    "\n",
    "    # Plot training & validation loss values\n",
    "    plt.plot(history.history['loss'])\n",
    "    plt.plot(history.history['val_loss'])\n",
    "    plt.title('Model loss')\n",
    "    plt.ylabel('Loss')\n",
    "    plt.xlabel('Epoch')\n",
    "    plt.legend(['Train', 'Test'], loc='upper left')\n",
    "    plt.show()"
   ]
  },
  {
   "cell_type": "markdown",
   "metadata": {},
   "source": [
    "Check how good a standard model performs with just the doc2vec set"
   ]
  },
  {
   "cell_type": "code",
   "execution_count": 173,
   "metadata": {},
   "outputs": [
    {
     "name": "stdout",
     "output_type": "stream",
     "text": [
      "Epoch 1/10\n",
      "493/493 [==============================] - 2s 3ms/step - loss: 1.8726 - accuracy: 0.4231 - val_loss: 1.4727 - val_accuracy: 0.5609\n",
      "Epoch 2/10\n",
      "493/493 [==============================] - 1s 3ms/step - loss: 1.3664 - accuracy: 0.5770 - val_loss: 1.2780 - val_accuracy: 0.6054\n",
      "Epoch 3/10\n",
      "493/493 [==============================] - 2s 4ms/step - loss: 1.2483 - accuracy: 0.6027 - val_loss: 1.2198 - val_accuracy: 0.6100\n",
      "Epoch 4/10\n",
      "493/493 [==============================] - 1s 3ms/step - loss: 1.1966 - accuracy: 0.6113 - val_loss: 1.1938 - val_accuracy: 0.6143\n",
      "Epoch 5/10\n",
      "493/493 [==============================] - 1s 3ms/step - loss: 1.1620 - accuracy: 0.6206 - val_loss: 1.1875 - val_accuracy: 0.6197\n",
      "Epoch 6/10\n",
      "493/493 [==============================] - 1s 3ms/step - loss: 1.1402 - accuracy: 0.6255 - val_loss: 1.1558 - val_accuracy: 0.6249\n",
      "Epoch 7/10\n",
      "493/493 [==============================] - 1s 3ms/step - loss: 1.1165 - accuracy: 0.6314 - val_loss: 1.1448 - val_accuracy: 0.6246\n",
      "Epoch 8/10\n",
      "493/493 [==============================] - 2s 3ms/step - loss: 1.1015 - accuracy: 0.6346 - val_loss: 1.1490 - val_accuracy: 0.6274\n",
      "Epoch 9/10\n",
      "493/493 [==============================] - 1s 3ms/step - loss: 1.0891 - accuracy: 0.6377 - val_loss: 1.1445 - val_accuracy: 0.6280\n",
      "Epoch 10/10\n",
      "493/493 [==============================] - 1s 3ms/step - loss: 1.0739 - accuracy: 0.6411 - val_loss: 1.1362 - val_accuracy: 0.6297\n",
      "Test loss: 1.1408640146255493\n",
      "Test accuracy: 0.6305999755859375\n"
     ]
    },
    {
     "data": {
      "image/png": "[encoded data removed]",
      "text/plain": [
       "<Figure size 432x288 with 1 Axes>"
      ]
     },
     "metadata": {
      "needs_background": "light"
     },
     "output_type": "display_data"
    },
    {
     "data": {
      "image/png": "[encoded data removed]",
      "text/plain": [
       "<Figure size 432x288 with 1 Axes>"
      ]
     },
     "metadata": {
      "needs_background": "light"
     },
     "output_type": "display_data"
    }
   ],
   "source": [
    "x = transformed\n",
    "\n",
    "model = createModel(SGD(lr=0.01, momentum=0.9),CategoricalCrossentropy(),x.shape, y.shape)\n",
    "\n",
    "history,x_test,y_test = trainModel(model,x,y)\n",
    "\n",
    "score = model.evaluate(x_test, y_test, verbose=0)\n",
    "validateModel(history,score)"
   ]
  },
  {
   "cell_type": "markdown",
   "metadata": {},
   "source": [
    "Check how good a standard model performs when adding company names"
   ]
  },
  {
   "cell_type": "code",
   "execution_count": 175,
   "metadata": {},
   "outputs": [
    {
     "name": "stdout",
     "output_type": "stream",
     "text": [
      "(50000, 2399)\n",
      "(50000, 17)\n"
     ]
    }
   ],
   "source": [
    "x = np.append(transformed, companies_1he.to_numpy(),axis=1)\n",
    "print(x.shape)\n",
    "print(y.shape)"
   ]
  },
  {
   "cell_type": "code",
   "execution_count": 176,
   "metadata": {},
   "outputs": [
    {
     "name": "stdout",
     "output_type": "stream",
     "text": [
      "Epoch 1/10\n",
      "493/493 [==============================] - 3s 6ms/step - loss: 1.6039 - accuracy: 0.5139 - val_loss: 1.1510 - val_accuracy: 0.6320\n",
      "Epoch 2/10\n",
      "493/493 [==============================] - 3s 5ms/step - loss: 1.0254 - accuracy: 0.6673 - val_loss: 0.9837 - val_accuracy: 0.6766\n",
      "Epoch 3/10\n",
      "493/493 [==============================] - 3s 5ms/step - loss: 0.9147 - accuracy: 0.6936 - val_loss: 0.9331 - val_accuracy: 0.6926\n",
      "Epoch 4/10\n",
      "493/493 [==============================] - 3s 6ms/step - loss: 0.8634 - accuracy: 0.7043 - val_loss: 0.9031 - val_accuracy: 0.6997\n",
      "Epoch 5/10\n",
      "493/493 [==============================] - 3s 5ms/step - loss: 0.8297 - accuracy: 0.7117 - val_loss: 0.8915 - val_accuracy: 0.6994\n",
      "Epoch 6/10\n",
      "493/493 [==============================] - 3s 6ms/step - loss: 0.8037 - accuracy: 0.7196 - val_loss: 0.8782 - val_accuracy: 0.7020\n",
      "Epoch 7/10\n",
      "493/493 [==============================] - 3s 6ms/step - loss: 0.7838 - accuracy: 0.7251 - val_loss: 0.8629 - val_accuracy: 0.7040\n",
      "Epoch 8/10\n",
      "493/493 [==============================] - 3s 6ms/step - loss: 0.7661 - accuracy: 0.7302 - val_loss: 0.8612 - val_accuracy: 0.7054\n",
      "Epoch 9/10\n",
      "493/493 [==============================] - 3s 6ms/step - loss: 0.7516 - accuracy: 0.7309 - val_loss: 0.8717 - val_accuracy: 0.7054\n",
      "Epoch 10/10\n",
      "493/493 [==============================] - 3s 6ms/step - loss: 0.7365 - accuracy: 0.7365 - val_loss: 0.8674 - val_accuracy: 0.7014\n",
      "Test loss: 0.8371803164482117\n",
      "Test accuracy: 0.7138000130653381\n"
     ]
    },
    {
     "data": {
      "image/png": "[encoded data removed]",
      "text/plain": [
       "<Figure size 432x288 with 1 Axes>"
      ]
     },
     "metadata": {
      "needs_background": "light"
     },
     "output_type": "display_data"
    },
    {
     "data": {
      "image/png": "[encoded data removed]",
      "text/plain": [
       "<Figure size 432x288 with 1 Axes>"
      ]
     },
     "metadata": {
      "needs_background": "light"
     },
     "output_type": "display_data"
    }
   ],
   "source": [
    "#keras.backend.clear_session()\n",
    "\n",
    "model = createModel(SGD(lr=0.01, momentum=0.9),CategoricalCrossentropy(),x.shape,y.shape)\n",
    "\n",
    "history,x_test,y_test = trainModel(model,x,y)\n",
    "score = model.evaluate(x_test, y_test, verbose=0)\n",
    "\n",
    "validateModel(history,score)"
   ]
  },
  {
   "cell_type": "markdown",
   "metadata": {},
   "source": [
    "TODO: add more data / process data differently to see if it has an influence on NN"
   ]
  },
  {
   "cell_type": "markdown",
   "metadata": {},
   "source": [
    "## Vertalen PoC naar tf.estimator"
   ]
  },
  {
   "cell_type": "markdown",
   "metadata": {},
   "source": [
    "## In productie (TIM)\n",
    "\n",
    "> todo"
   ]
  },
  {
   "cell_type": "markdown",
   "metadata": {},
   "source": [
    "## Can you find complaints that are assigned to the wrong category? (EDA)\n",
    "\n",
    "> todo"
   ]
  },
  {
   "cell_type": "code",
   "execution_count": null,
   "metadata": {},
   "outputs": [],
   "source": []
  }
 ],
 "metadata": {
  "kernelspec": {
   "display_name": "Python 3",
   "language": "python",
   "name": "python3"
  },
  "language_info": {
   "codemirror_mode": {
    "name": "ipython",
    "version": 3
   },
   "file_extension": ".py",
   "mimetype": "text/x-python",
   "name": "python",
   "nbconvert_exporter": "python",
   "pygments_lexer": "ipython3",
   "version": "3.7.6"
  }
 },
 "nbformat": 4,
 "nbformat_minor": 4
}
